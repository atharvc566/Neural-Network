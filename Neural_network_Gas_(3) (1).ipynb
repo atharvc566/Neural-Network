{
  "cells": [
    {
      "cell_type": "code",
      "execution_count": null,
      "metadata": {
        "id": "oNIR_zTGWvGC"
      },
      "outputs": [],
      "source": [
        "# Importing the necessary packages\n",
        "import pandas as pd\n",
        "import numpy as npd\n",
        "import matplotlib.pyplot as plt\n",
        "%matplotlib inline\n",
        "import seaborn as sns\n",
        "from sklearn.preprocessing import MinMaxScaler\n",
        "from sklearn.preprocessing import StandardScaler\n",
        "from sklearn.preprocessing import LabelEncoder\n",
        "import warnings\n",
        "warnings.filterwarnings(action='ignore')\n",
        "from sklearn.model_selection import GridSearchCV, cross_val_score, train_test_split\n",
        "import keras\n",
        "from sklearn.preprocessing import StandardScaler\n",
        "\n",
        "import warnings\n",
        "warnings.filterwarnings('ignore')"
      ]
    },
    {
      "cell_type": "code",
      "execution_count": null,
      "metadata": {
        "colab": {
          "base_uri": "https://localhost:8080/",
          "height": 74
        },
        "id": "PNRnVOuNYqoE",
        "outputId": "74053832-3687-4f1d-e485-082c0eced30f"
      },
      "outputs": [
        {
          "output_type": "display_data",
          "data": {
            "text/plain": [
              "<IPython.core.display.HTML object>"
            ],
            "text/html": [
              "\n",
              "     <input type=\"file\" id=\"files-3c084533-504f-4826-9759-e1e7730feb70\" name=\"files[]\" multiple disabled\n",
              "        style=\"border:none\" />\n",
              "     <output id=\"result-3c084533-504f-4826-9759-e1e7730feb70\">\n",
              "      Upload widget is only available when the cell has been executed in the\n",
              "      current browser session. Please rerun this cell to enable.\n",
              "      </output>\n",
              "      <script>// Copyright 2017 Google LLC\n",
              "//\n",
              "// Licensed under the Apache License, Version 2.0 (the \"License\");\n",
              "// you may not use this file except in compliance with the License.\n",
              "// You may obtain a copy of the License at\n",
              "//\n",
              "//      http://www.apache.org/licenses/LICENSE-2.0\n",
              "//\n",
              "// Unless required by applicable law or agreed to in writing, software\n",
              "// distributed under the License is distributed on an \"AS IS\" BASIS,\n",
              "// WITHOUT WARRANTIES OR CONDITIONS OF ANY KIND, either express or implied.\n",
              "// See the License for the specific language governing permissions and\n",
              "// limitations under the License.\n",
              "\n",
              "/**\n",
              " * @fileoverview Helpers for google.colab Python module.\n",
              " */\n",
              "(function(scope) {\n",
              "function span(text, styleAttributes = {}) {\n",
              "  const element = document.createElement('span');\n",
              "  element.textContent = text;\n",
              "  for (const key of Object.keys(styleAttributes)) {\n",
              "    element.style[key] = styleAttributes[key];\n",
              "  }\n",
              "  return element;\n",
              "}\n",
              "\n",
              "// Max number of bytes which will be uploaded at a time.\n",
              "const MAX_PAYLOAD_SIZE = 100 * 1024;\n",
              "\n",
              "function _uploadFiles(inputId, outputId) {\n",
              "  const steps = uploadFilesStep(inputId, outputId);\n",
              "  const outputElement = document.getElementById(outputId);\n",
              "  // Cache steps on the outputElement to make it available for the next call\n",
              "  // to uploadFilesContinue from Python.\n",
              "  outputElement.steps = steps;\n",
              "\n",
              "  return _uploadFilesContinue(outputId);\n",
              "}\n",
              "\n",
              "// This is roughly an async generator (not supported in the browser yet),\n",
              "// where there are multiple asynchronous steps and the Python side is going\n",
              "// to poll for completion of each step.\n",
              "// This uses a Promise to block the python side on completion of each step,\n",
              "// then passes the result of the previous step as the input to the next step.\n",
              "function _uploadFilesContinue(outputId) {\n",
              "  const outputElement = document.getElementById(outputId);\n",
              "  const steps = outputElement.steps;\n",
              "\n",
              "  const next = steps.next(outputElement.lastPromiseValue);\n",
              "  return Promise.resolve(next.value.promise).then((value) => {\n",
              "    // Cache the last promise value to make it available to the next\n",
              "    // step of the generator.\n",
              "    outputElement.lastPromiseValue = value;\n",
              "    return next.value.response;\n",
              "  });\n",
              "}\n",
              "\n",
              "/**\n",
              " * Generator function which is called between each async step of the upload\n",
              " * process.\n",
              " * @param {string} inputId Element ID of the input file picker element.\n",
              " * @param {string} outputId Element ID of the output display.\n",
              " * @return {!Iterable<!Object>} Iterable of next steps.\n",
              " */\n",
              "function* uploadFilesStep(inputId, outputId) {\n",
              "  const inputElement = document.getElementById(inputId);\n",
              "  inputElement.disabled = false;\n",
              "\n",
              "  const outputElement = document.getElementById(outputId);\n",
              "  outputElement.innerHTML = '';\n",
              "\n",
              "  const pickedPromise = new Promise((resolve) => {\n",
              "    inputElement.addEventListener('change', (e) => {\n",
              "      resolve(e.target.files);\n",
              "    });\n",
              "  });\n",
              "\n",
              "  const cancel = document.createElement('button');\n",
              "  inputElement.parentElement.appendChild(cancel);\n",
              "  cancel.textContent = 'Cancel upload';\n",
              "  const cancelPromise = new Promise((resolve) => {\n",
              "    cancel.onclick = () => {\n",
              "      resolve(null);\n",
              "    };\n",
              "  });\n",
              "\n",
              "  // Wait for the user to pick the files.\n",
              "  const files = yield {\n",
              "    promise: Promise.race([pickedPromise, cancelPromise]),\n",
              "    response: {\n",
              "      action: 'starting',\n",
              "    }\n",
              "  };\n",
              "\n",
              "  cancel.remove();\n",
              "\n",
              "  // Disable the input element since further picks are not allowed.\n",
              "  inputElement.disabled = true;\n",
              "\n",
              "  if (!files) {\n",
              "    return {\n",
              "      response: {\n",
              "        action: 'complete',\n",
              "      }\n",
              "    };\n",
              "  }\n",
              "\n",
              "  for (const file of files) {\n",
              "    const li = document.createElement('li');\n",
              "    li.append(span(file.name, {fontWeight: 'bold'}));\n",
              "    li.append(span(\n",
              "        `(${file.type || 'n/a'}) - ${file.size} bytes, ` +\n",
              "        `last modified: ${\n",
              "            file.lastModifiedDate ? file.lastModifiedDate.toLocaleDateString() :\n",
              "                                    'n/a'} - `));\n",
              "    const percent = span('0% done');\n",
              "    li.appendChild(percent);\n",
              "\n",
              "    outputElement.appendChild(li);\n",
              "\n",
              "    const fileDataPromise = new Promise((resolve) => {\n",
              "      const reader = new FileReader();\n",
              "      reader.onload = (e) => {\n",
              "        resolve(e.target.result);\n",
              "      };\n",
              "      reader.readAsArrayBuffer(file);\n",
              "    });\n",
              "    // Wait for the data to be ready.\n",
              "    let fileData = yield {\n",
              "      promise: fileDataPromise,\n",
              "      response: {\n",
              "        action: 'continue',\n",
              "      }\n",
              "    };\n",
              "\n",
              "    // Use a chunked sending to avoid message size limits. See b/62115660.\n",
              "    let position = 0;\n",
              "    do {\n",
              "      const length = Math.min(fileData.byteLength - position, MAX_PAYLOAD_SIZE);\n",
              "      const chunk = new Uint8Array(fileData, position, length);\n",
              "      position += length;\n",
              "\n",
              "      const base64 = btoa(String.fromCharCode.apply(null, chunk));\n",
              "      yield {\n",
              "        response: {\n",
              "          action: 'append',\n",
              "          file: file.name,\n",
              "          data: base64,\n",
              "        },\n",
              "      };\n",
              "\n",
              "      let percentDone = fileData.byteLength === 0 ?\n",
              "          100 :\n",
              "          Math.round((position / fileData.byteLength) * 100);\n",
              "      percent.textContent = `${percentDone}% done`;\n",
              "\n",
              "    } while (position < fileData.byteLength);\n",
              "  }\n",
              "\n",
              "  // All done.\n",
              "  yield {\n",
              "    response: {\n",
              "      action: 'complete',\n",
              "    }\n",
              "  };\n",
              "}\n",
              "\n",
              "scope.google = scope.google || {};\n",
              "scope.google.colab = scope.google.colab || {};\n",
              "scope.google.colab._files = {\n",
              "  _uploadFiles,\n",
              "  _uploadFilesContinue,\n",
              "};\n",
              "})(self);\n",
              "</script> "
            ]
          },
          "metadata": {}
        },
        {
          "output_type": "stream",
          "name": "stdout",
          "text": [
            "Saving gas_turbines.csv to gas_turbines (1).csv\n"
          ]
        }
      ],
      "source": [
        "from google.colab import files\n",
        "uploaded=files.upload() #Upload file"
      ]
    },
    {
      "cell_type": "code",
      "execution_count": null,
      "metadata": {
        "id": "fHmNqZgPYqbV"
      },
      "outputs": [],
      "source": [
        "df=pd.read_csv('gas_turbines.csv') #Read the file"
      ]
    },
    {
      "cell_type": "code",
      "execution_count": null,
      "metadata": {
        "colab": {
          "base_uri": "https://localhost:8080/",
          "height": 423
        },
        "id": "d95T5_HBaH1z",
        "outputId": "d98d8599-3c4e-42e0-d9ce-ff1ce82efc31"
      },
      "outputs": [
        {
          "output_type": "execute_result",
          "data": {
            "text/plain": [
              "           AT      AP      AH    AFDP    GTEP     TIT     TAT     TEY     CDP  \\\n",
              "0      6.8594  1007.9  96.799  3.5000  19.663  1059.2  550.00  114.70  10.605   \n",
              "1      6.7850  1008.4  97.118  3.4998  19.728  1059.3  550.00  114.72  10.598   \n",
              "2      6.8977  1008.8  95.939  3.4824  19.779  1059.4  549.87  114.71  10.601   \n",
              "3      7.0569  1009.2  95.249  3.4805  19.792  1059.6  549.99  114.72  10.606   \n",
              "4      7.3978  1009.7  95.150  3.4976  19.765  1059.7  549.98  114.72  10.612   \n",
              "...       ...     ...     ...     ...     ...     ...     ...     ...     ...   \n",
              "15034  9.0301  1005.6  98.460  3.5421  19.164  1049.7  546.21  111.61  10.400   \n",
              "15035  7.8879  1005.9  99.093  3.5059  19.414  1046.3  543.22  111.78  10.433   \n",
              "15036  7.2647  1006.3  99.496  3.4770  19.530  1037.7  537.32  110.19  10.483   \n",
              "15037  7.0060  1006.8  99.008  3.4486  19.377  1043.2  541.24  110.74  10.533   \n",
              "15038  6.9279  1007.2  97.533  3.4275  19.306  1049.9  545.85  111.58  10.583   \n",
              "\n",
              "           CO     NOX  \n",
              "0      3.1547  82.722  \n",
              "1      3.2363  82.776  \n",
              "2      3.2012  82.468  \n",
              "3      3.1923  82.670  \n",
              "4      3.2484  82.311  \n",
              "...       ...     ...  \n",
              "15034  4.5186  79.559  \n",
              "15035  4.8470  79.917  \n",
              "15036  7.9632  90.912  \n",
              "15037  6.2494  93.227  \n",
              "15038  4.9816  92.498  \n",
              "\n",
              "[15039 rows x 11 columns]"
            ],
            "text/html": [
              "\n",
              "  <div id=\"df-90dc2869-7f7f-4be0-9aef-8b8cebf0323b\">\n",
              "    <div class=\"colab-df-container\">\n",
              "      <div>\n",
              "<style scoped>\n",
              "    .dataframe tbody tr th:only-of-type {\n",
              "        vertical-align: middle;\n",
              "    }\n",
              "\n",
              "    .dataframe tbody tr th {\n",
              "        vertical-align: top;\n",
              "    }\n",
              "\n",
              "    .dataframe thead th {\n",
              "        text-align: right;\n",
              "    }\n",
              "</style>\n",
              "<table border=\"1\" class=\"dataframe\">\n",
              "  <thead>\n",
              "    <tr style=\"text-align: right;\">\n",
              "      <th></th>\n",
              "      <th>AT</th>\n",
              "      <th>AP</th>\n",
              "      <th>AH</th>\n",
              "      <th>AFDP</th>\n",
              "      <th>GTEP</th>\n",
              "      <th>TIT</th>\n",
              "      <th>TAT</th>\n",
              "      <th>TEY</th>\n",
              "      <th>CDP</th>\n",
              "      <th>CO</th>\n",
              "      <th>NOX</th>\n",
              "    </tr>\n",
              "  </thead>\n",
              "  <tbody>\n",
              "    <tr>\n",
              "      <th>0</th>\n",
              "      <td>6.8594</td>\n",
              "      <td>1007.9</td>\n",
              "      <td>96.799</td>\n",
              "      <td>3.5000</td>\n",
              "      <td>19.663</td>\n",
              "      <td>1059.2</td>\n",
              "      <td>550.00</td>\n",
              "      <td>114.70</td>\n",
              "      <td>10.605</td>\n",
              "      <td>3.1547</td>\n",
              "      <td>82.722</td>\n",
              "    </tr>\n",
              "    <tr>\n",
              "      <th>1</th>\n",
              "      <td>6.7850</td>\n",
              "      <td>1008.4</td>\n",
              "      <td>97.118</td>\n",
              "      <td>3.4998</td>\n",
              "      <td>19.728</td>\n",
              "      <td>1059.3</td>\n",
              "      <td>550.00</td>\n",
              "      <td>114.72</td>\n",
              "      <td>10.598</td>\n",
              "      <td>3.2363</td>\n",
              "      <td>82.776</td>\n",
              "    </tr>\n",
              "    <tr>\n",
              "      <th>2</th>\n",
              "      <td>6.8977</td>\n",
              "      <td>1008.8</td>\n",
              "      <td>95.939</td>\n",
              "      <td>3.4824</td>\n",
              "      <td>19.779</td>\n",
              "      <td>1059.4</td>\n",
              "      <td>549.87</td>\n",
              "      <td>114.71</td>\n",
              "      <td>10.601</td>\n",
              "      <td>3.2012</td>\n",
              "      <td>82.468</td>\n",
              "    </tr>\n",
              "    <tr>\n",
              "      <th>3</th>\n",
              "      <td>7.0569</td>\n",
              "      <td>1009.2</td>\n",
              "      <td>95.249</td>\n",
              "      <td>3.4805</td>\n",
              "      <td>19.792</td>\n",
              "      <td>1059.6</td>\n",
              "      <td>549.99</td>\n",
              "      <td>114.72</td>\n",
              "      <td>10.606</td>\n",
              "      <td>3.1923</td>\n",
              "      <td>82.670</td>\n",
              "    </tr>\n",
              "    <tr>\n",
              "      <th>4</th>\n",
              "      <td>7.3978</td>\n",
              "      <td>1009.7</td>\n",
              "      <td>95.150</td>\n",
              "      <td>3.4976</td>\n",
              "      <td>19.765</td>\n",
              "      <td>1059.7</td>\n",
              "      <td>549.98</td>\n",
              "      <td>114.72</td>\n",
              "      <td>10.612</td>\n",
              "      <td>3.2484</td>\n",
              "      <td>82.311</td>\n",
              "    </tr>\n",
              "    <tr>\n",
              "      <th>...</th>\n",
              "      <td>...</td>\n",
              "      <td>...</td>\n",
              "      <td>...</td>\n",
              "      <td>...</td>\n",
              "      <td>...</td>\n",
              "      <td>...</td>\n",
              "      <td>...</td>\n",
              "      <td>...</td>\n",
              "      <td>...</td>\n",
              "      <td>...</td>\n",
              "      <td>...</td>\n",
              "    </tr>\n",
              "    <tr>\n",
              "      <th>15034</th>\n",
              "      <td>9.0301</td>\n",
              "      <td>1005.6</td>\n",
              "      <td>98.460</td>\n",
              "      <td>3.5421</td>\n",
              "      <td>19.164</td>\n",
              "      <td>1049.7</td>\n",
              "      <td>546.21</td>\n",
              "      <td>111.61</td>\n",
              "      <td>10.400</td>\n",
              "      <td>4.5186</td>\n",
              "      <td>79.559</td>\n",
              "    </tr>\n",
              "    <tr>\n",
              "      <th>15035</th>\n",
              "      <td>7.8879</td>\n",
              "      <td>1005.9</td>\n",
              "      <td>99.093</td>\n",
              "      <td>3.5059</td>\n",
              "      <td>19.414</td>\n",
              "      <td>1046.3</td>\n",
              "      <td>543.22</td>\n",
              "      <td>111.78</td>\n",
              "      <td>10.433</td>\n",
              "      <td>4.8470</td>\n",
              "      <td>79.917</td>\n",
              "    </tr>\n",
              "    <tr>\n",
              "      <th>15036</th>\n",
              "      <td>7.2647</td>\n",
              "      <td>1006.3</td>\n",
              "      <td>99.496</td>\n",
              "      <td>3.4770</td>\n",
              "      <td>19.530</td>\n",
              "      <td>1037.7</td>\n",
              "      <td>537.32</td>\n",
              "      <td>110.19</td>\n",
              "      <td>10.483</td>\n",
              "      <td>7.9632</td>\n",
              "      <td>90.912</td>\n",
              "    </tr>\n",
              "    <tr>\n",
              "      <th>15037</th>\n",
              "      <td>7.0060</td>\n",
              "      <td>1006.8</td>\n",
              "      <td>99.008</td>\n",
              "      <td>3.4486</td>\n",
              "      <td>19.377</td>\n",
              "      <td>1043.2</td>\n",
              "      <td>541.24</td>\n",
              "      <td>110.74</td>\n",
              "      <td>10.533</td>\n",
              "      <td>6.2494</td>\n",
              "      <td>93.227</td>\n",
              "    </tr>\n",
              "    <tr>\n",
              "      <th>15038</th>\n",
              "      <td>6.9279</td>\n",
              "      <td>1007.2</td>\n",
              "      <td>97.533</td>\n",
              "      <td>3.4275</td>\n",
              "      <td>19.306</td>\n",
              "      <td>1049.9</td>\n",
              "      <td>545.85</td>\n",
              "      <td>111.58</td>\n",
              "      <td>10.583</td>\n",
              "      <td>4.9816</td>\n",
              "      <td>92.498</td>\n",
              "    </tr>\n",
              "  </tbody>\n",
              "</table>\n",
              "<p>15039 rows × 11 columns</p>\n",
              "</div>\n",
              "      <button class=\"colab-df-convert\" onclick=\"convertToInteractive('df-90dc2869-7f7f-4be0-9aef-8b8cebf0323b')\"\n",
              "              title=\"Convert this dataframe to an interactive table.\"\n",
              "              style=\"display:none;\">\n",
              "        \n",
              "  <svg xmlns=\"http://www.w3.org/2000/svg\" height=\"24px\"viewBox=\"0 0 24 24\"\n",
              "       width=\"24px\">\n",
              "    <path d=\"M0 0h24v24H0V0z\" fill=\"none\"/>\n",
              "    <path d=\"M18.56 5.44l.94 2.06.94-2.06 2.06-.94-2.06-.94-.94-2.06-.94 2.06-2.06.94zm-11 1L8.5 8.5l.94-2.06 2.06-.94-2.06-.94L8.5 2.5l-.94 2.06-2.06.94zm10 10l.94 2.06.94-2.06 2.06-.94-2.06-.94-.94-2.06-.94 2.06-2.06.94z\"/><path d=\"M17.41 7.96l-1.37-1.37c-.4-.4-.92-.59-1.43-.59-.52 0-1.04.2-1.43.59L10.3 9.45l-7.72 7.72c-.78.78-.78 2.05 0 2.83L4 21.41c.39.39.9.59 1.41.59.51 0 1.02-.2 1.41-.59l7.78-7.78 2.81-2.81c.8-.78.8-2.07 0-2.86zM5.41 20L4 18.59l7.72-7.72 1.47 1.35L5.41 20z\"/>\n",
              "  </svg>\n",
              "      </button>\n",
              "      \n",
              "  <style>\n",
              "    .colab-df-container {\n",
              "      display:flex;\n",
              "      flex-wrap:wrap;\n",
              "      gap: 12px;\n",
              "    }\n",
              "\n",
              "    .colab-df-convert {\n",
              "      background-color: #E8F0FE;\n",
              "      border: none;\n",
              "      border-radius: 50%;\n",
              "      cursor: pointer;\n",
              "      display: none;\n",
              "      fill: #1967D2;\n",
              "      height: 32px;\n",
              "      padding: 0 0 0 0;\n",
              "      width: 32px;\n",
              "    }\n",
              "\n",
              "    .colab-df-convert:hover {\n",
              "      background-color: #E2EBFA;\n",
              "      box-shadow: 0px 1px 2px rgba(60, 64, 67, 0.3), 0px 1px 3px 1px rgba(60, 64, 67, 0.15);\n",
              "      fill: #174EA6;\n",
              "    }\n",
              "\n",
              "    [theme=dark] .colab-df-convert {\n",
              "      background-color: #3B4455;\n",
              "      fill: #D2E3FC;\n",
              "    }\n",
              "\n",
              "    [theme=dark] .colab-df-convert:hover {\n",
              "      background-color: #434B5C;\n",
              "      box-shadow: 0px 1px 3px 1px rgba(0, 0, 0, 0.15);\n",
              "      filter: drop-shadow(0px 1px 2px rgba(0, 0, 0, 0.3));\n",
              "      fill: #FFFFFF;\n",
              "    }\n",
              "  </style>\n",
              "\n",
              "      <script>\n",
              "        const buttonEl =\n",
              "          document.querySelector('#df-90dc2869-7f7f-4be0-9aef-8b8cebf0323b button.colab-df-convert');\n",
              "        buttonEl.style.display =\n",
              "          google.colab.kernel.accessAllowed ? 'block' : 'none';\n",
              "\n",
              "        async function convertToInteractive(key) {\n",
              "          const element = document.querySelector('#df-90dc2869-7f7f-4be0-9aef-8b8cebf0323b');\n",
              "          const dataTable =\n",
              "            await google.colab.kernel.invokeFunction('convertToInteractive',\n",
              "                                                     [key], {});\n",
              "          if (!dataTable) return;\n",
              "\n",
              "          const docLinkHtml = 'Like what you see? Visit the ' +\n",
              "            '<a target=\"_blank\" href=https://colab.research.google.com/notebooks/data_table.ipynb>data table notebook</a>'\n",
              "            + ' to learn more about interactive tables.';\n",
              "          element.innerHTML = '';\n",
              "          dataTable['output_type'] = 'display_data';\n",
              "          await google.colab.output.renderOutput(dataTable, element);\n",
              "          const docLink = document.createElement('div');\n",
              "          docLink.innerHTML = docLinkHtml;\n",
              "          element.appendChild(docLink);\n",
              "        }\n",
              "      </script>\n",
              "    </div>\n",
              "  </div>\n",
              "  "
            ]
          },
          "metadata": {},
          "execution_count": 11
        }
      ],
      "source": [
        "df"
      ]
    },
    {
      "cell_type": "code",
      "execution_count": null,
      "metadata": {
        "colab": {
          "base_uri": "https://localhost:8080/"
        },
        "id": "9H9FiG1zaLYM",
        "outputId": "a4a1f163-acc9-49fd-cb68-1707e353c9a9"
      },
      "outputs": [
        {
          "output_type": "execute_result",
          "data": {
            "text/plain": [
              "(15039, 11)"
            ]
          },
          "metadata": {},
          "execution_count": 12
        }
      ],
      "source": [
        "df.shape"
      ]
    },
    {
      "cell_type": "code",
      "execution_count": null,
      "metadata": {
        "colab": {
          "base_uri": "https://localhost:8080/"
        },
        "id": "5bnhgErSjBON",
        "outputId": "d4c96170-c435-4e75-8deb-c6f32587f555"
      },
      "outputs": [
        {
          "output_type": "execute_result",
          "data": {
            "text/plain": [
              "AT      float64\n",
              "AP      float64\n",
              "AH      float64\n",
              "AFDP    float64\n",
              "GTEP    float64\n",
              "TIT     float64\n",
              "TAT     float64\n",
              "TEY     float64\n",
              "CDP     float64\n",
              "CO      float64\n",
              "NOX     float64\n",
              "dtype: object"
            ]
          },
          "metadata": {},
          "execution_count": 13
        }
      ],
      "source": [
        "df.dtypes"
      ]
    },
    {
      "cell_type": "code",
      "execution_count": null,
      "metadata": {
        "colab": {
          "base_uri": "https://localhost:8080/"
        },
        "id": "UxWMbv4BiQwO",
        "outputId": "dd22f704-babb-4945-b4ca-9a7e6fa48d2a"
      },
      "outputs": [
        {
          "output_type": "execute_result",
          "data": {
            "text/plain": [
              "Index(['AT', 'AP', 'AH', 'AFDP', 'GTEP', 'TIT', 'TAT', 'TEY', 'CDP', 'CO',\n",
              "       'NOX'],\n",
              "      dtype='object')"
            ]
          },
          "metadata": {},
          "execution_count": 14
        }
      ],
      "source": [
        "df.columns"
      ]
    },
    {
      "cell_type": "code",
      "execution_count": null,
      "metadata": {
        "colab": {
          "base_uri": "https://localhost:8080/"
        },
        "id": "MW2j_i8TiQuY",
        "outputId": "d3e2c363-985b-49ce-c8f0-cfb8f34518f9"
      },
      "outputs": [
        {
          "output_type": "stream",
          "name": "stdout",
          "text": [
            "<class 'pandas.core.frame.DataFrame'>\n",
            "RangeIndex: 15039 entries, 0 to 15038\n",
            "Data columns (total 11 columns):\n",
            " #   Column  Non-Null Count  Dtype  \n",
            "---  ------  --------------  -----  \n",
            " 0   AT      15039 non-null  float64\n",
            " 1   AP      15039 non-null  float64\n",
            " 2   AH      15039 non-null  float64\n",
            " 3   AFDP    15039 non-null  float64\n",
            " 4   GTEP    15039 non-null  float64\n",
            " 5   TIT     15039 non-null  float64\n",
            " 6   TAT     15039 non-null  float64\n",
            " 7   TEY     15039 non-null  float64\n",
            " 8   CDP     15039 non-null  float64\n",
            " 9   CO      15039 non-null  float64\n",
            " 10  NOX     15039 non-null  float64\n",
            "dtypes: float64(11)\n",
            "memory usage: 1.3 MB\n"
          ]
        }
      ],
      "source": [
        "df.info()"
      ]
    },
    {
      "cell_type": "code",
      "execution_count": null,
      "metadata": {
        "colab": {
          "base_uri": "https://localhost:8080/",
          "height": 300
        },
        "id": "FTLhD6xoiQrn",
        "outputId": "e124315e-36da-400b-d0d5-8c65e8238e6d"
      },
      "outputs": [
        {
          "output_type": "execute_result",
          "data": {
            "text/plain": [
              "                 AT           AP            AH          AFDP          GTEP  \\\n",
              "count  15039.000000  15039.00000  15039.000000  15039.000000  15039.000000   \n",
              "mean      17.764381   1013.19924     79.124174      4.200294     25.419061   \n",
              "std        7.574323      6.41076     13.793439      0.760197      4.173916   \n",
              "min        0.522300    985.85000     30.344000      2.087400     17.878000   \n",
              "25%       11.408000   1008.90000     69.750000      3.723900     23.294000   \n",
              "50%       18.186000   1012.80000     82.266000      4.186200     25.082000   \n",
              "75%       23.862500   1016.90000     90.043500      4.550900     27.184000   \n",
              "max       34.929000   1034.20000    100.200000      7.610600     37.402000   \n",
              "\n",
              "                TIT           TAT           TEY           CDP            CO  \\\n",
              "count  15039.000000  15039.000000  15039.000000  15039.000000  15039.000000   \n",
              "mean    1083.798770    545.396183    134.188464     12.102353      1.972499   \n",
              "std       16.527806      7.866803     15.829717      1.103196      2.222206   \n",
              "min     1000.800000    512.450000    100.170000      9.904400      0.000388   \n",
              "25%     1079.600000    542.170000    127.985000     11.622000      0.858055   \n",
              "50%     1088.700000    549.890000    133.780000     12.025000      1.390200   \n",
              "75%     1096.000000    550.060000    140.895000     12.578000      2.160400   \n",
              "max     1100.800000    550.610000    174.610000     15.081000     44.103000   \n",
              "\n",
              "                NOX  \n",
              "count  15039.000000  \n",
              "mean      68.190934  \n",
              "std       10.470586  \n",
              "min       27.765000  \n",
              "25%       61.303500  \n",
              "50%       66.601000  \n",
              "75%       73.935500  \n",
              "max      119.890000  "
            ],
            "text/html": [
              "\n",
              "  <div id=\"df-722b864b-f92e-4adc-8479-0d093de64f6d\">\n",
              "    <div class=\"colab-df-container\">\n",
              "      <div>\n",
              "<style scoped>\n",
              "    .dataframe tbody tr th:only-of-type {\n",
              "        vertical-align: middle;\n",
              "    }\n",
              "\n",
              "    .dataframe tbody tr th {\n",
              "        vertical-align: top;\n",
              "    }\n",
              "\n",
              "    .dataframe thead th {\n",
              "        text-align: right;\n",
              "    }\n",
              "</style>\n",
              "<table border=\"1\" class=\"dataframe\">\n",
              "  <thead>\n",
              "    <tr style=\"text-align: right;\">\n",
              "      <th></th>\n",
              "      <th>AT</th>\n",
              "      <th>AP</th>\n",
              "      <th>AH</th>\n",
              "      <th>AFDP</th>\n",
              "      <th>GTEP</th>\n",
              "      <th>TIT</th>\n",
              "      <th>TAT</th>\n",
              "      <th>TEY</th>\n",
              "      <th>CDP</th>\n",
              "      <th>CO</th>\n",
              "      <th>NOX</th>\n",
              "    </tr>\n",
              "  </thead>\n",
              "  <tbody>\n",
              "    <tr>\n",
              "      <th>count</th>\n",
              "      <td>15039.000000</td>\n",
              "      <td>15039.00000</td>\n",
              "      <td>15039.000000</td>\n",
              "      <td>15039.000000</td>\n",
              "      <td>15039.000000</td>\n",
              "      <td>15039.000000</td>\n",
              "      <td>15039.000000</td>\n",
              "      <td>15039.000000</td>\n",
              "      <td>15039.000000</td>\n",
              "      <td>15039.000000</td>\n",
              "      <td>15039.000000</td>\n",
              "    </tr>\n",
              "    <tr>\n",
              "      <th>mean</th>\n",
              "      <td>17.764381</td>\n",
              "      <td>1013.19924</td>\n",
              "      <td>79.124174</td>\n",
              "      <td>4.200294</td>\n",
              "      <td>25.419061</td>\n",
              "      <td>1083.798770</td>\n",
              "      <td>545.396183</td>\n",
              "      <td>134.188464</td>\n",
              "      <td>12.102353</td>\n",
              "      <td>1.972499</td>\n",
              "      <td>68.190934</td>\n",
              "    </tr>\n",
              "    <tr>\n",
              "      <th>std</th>\n",
              "      <td>7.574323</td>\n",
              "      <td>6.41076</td>\n",
              "      <td>13.793439</td>\n",
              "      <td>0.760197</td>\n",
              "      <td>4.173916</td>\n",
              "      <td>16.527806</td>\n",
              "      <td>7.866803</td>\n",
              "      <td>15.829717</td>\n",
              "      <td>1.103196</td>\n",
              "      <td>2.222206</td>\n",
              "      <td>10.470586</td>\n",
              "    </tr>\n",
              "    <tr>\n",
              "      <th>min</th>\n",
              "      <td>0.522300</td>\n",
              "      <td>985.85000</td>\n",
              "      <td>30.344000</td>\n",
              "      <td>2.087400</td>\n",
              "      <td>17.878000</td>\n",
              "      <td>1000.800000</td>\n",
              "      <td>512.450000</td>\n",
              "      <td>100.170000</td>\n",
              "      <td>9.904400</td>\n",
              "      <td>0.000388</td>\n",
              "      <td>27.765000</td>\n",
              "    </tr>\n",
              "    <tr>\n",
              "      <th>25%</th>\n",
              "      <td>11.408000</td>\n",
              "      <td>1008.90000</td>\n",
              "      <td>69.750000</td>\n",
              "      <td>3.723900</td>\n",
              "      <td>23.294000</td>\n",
              "      <td>1079.600000</td>\n",
              "      <td>542.170000</td>\n",
              "      <td>127.985000</td>\n",
              "      <td>11.622000</td>\n",
              "      <td>0.858055</td>\n",
              "      <td>61.303500</td>\n",
              "    </tr>\n",
              "    <tr>\n",
              "      <th>50%</th>\n",
              "      <td>18.186000</td>\n",
              "      <td>1012.80000</td>\n",
              "      <td>82.266000</td>\n",
              "      <td>4.186200</td>\n",
              "      <td>25.082000</td>\n",
              "      <td>1088.700000</td>\n",
              "      <td>549.890000</td>\n",
              "      <td>133.780000</td>\n",
              "      <td>12.025000</td>\n",
              "      <td>1.390200</td>\n",
              "      <td>66.601000</td>\n",
              "    </tr>\n",
              "    <tr>\n",
              "      <th>75%</th>\n",
              "      <td>23.862500</td>\n",
              "      <td>1016.90000</td>\n",
              "      <td>90.043500</td>\n",
              "      <td>4.550900</td>\n",
              "      <td>27.184000</td>\n",
              "      <td>1096.000000</td>\n",
              "      <td>550.060000</td>\n",
              "      <td>140.895000</td>\n",
              "      <td>12.578000</td>\n",
              "      <td>2.160400</td>\n",
              "      <td>73.935500</td>\n",
              "    </tr>\n",
              "    <tr>\n",
              "      <th>max</th>\n",
              "      <td>34.929000</td>\n",
              "      <td>1034.20000</td>\n",
              "      <td>100.200000</td>\n",
              "      <td>7.610600</td>\n",
              "      <td>37.402000</td>\n",
              "      <td>1100.800000</td>\n",
              "      <td>550.610000</td>\n",
              "      <td>174.610000</td>\n",
              "      <td>15.081000</td>\n",
              "      <td>44.103000</td>\n",
              "      <td>119.890000</td>\n",
              "    </tr>\n",
              "  </tbody>\n",
              "</table>\n",
              "</div>\n",
              "      <button class=\"colab-df-convert\" onclick=\"convertToInteractive('df-722b864b-f92e-4adc-8479-0d093de64f6d')\"\n",
              "              title=\"Convert this dataframe to an interactive table.\"\n",
              "              style=\"display:none;\">\n",
              "        \n",
              "  <svg xmlns=\"http://www.w3.org/2000/svg\" height=\"24px\"viewBox=\"0 0 24 24\"\n",
              "       width=\"24px\">\n",
              "    <path d=\"M0 0h24v24H0V0z\" fill=\"none\"/>\n",
              "    <path d=\"M18.56 5.44l.94 2.06.94-2.06 2.06-.94-2.06-.94-.94-2.06-.94 2.06-2.06.94zm-11 1L8.5 8.5l.94-2.06 2.06-.94-2.06-.94L8.5 2.5l-.94 2.06-2.06.94zm10 10l.94 2.06.94-2.06 2.06-.94-2.06-.94-.94-2.06-.94 2.06-2.06.94z\"/><path d=\"M17.41 7.96l-1.37-1.37c-.4-.4-.92-.59-1.43-.59-.52 0-1.04.2-1.43.59L10.3 9.45l-7.72 7.72c-.78.78-.78 2.05 0 2.83L4 21.41c.39.39.9.59 1.41.59.51 0 1.02-.2 1.41-.59l7.78-7.78 2.81-2.81c.8-.78.8-2.07 0-2.86zM5.41 20L4 18.59l7.72-7.72 1.47 1.35L5.41 20z\"/>\n",
              "  </svg>\n",
              "      </button>\n",
              "      \n",
              "  <style>\n",
              "    .colab-df-container {\n",
              "      display:flex;\n",
              "      flex-wrap:wrap;\n",
              "      gap: 12px;\n",
              "    }\n",
              "\n",
              "    .colab-df-convert {\n",
              "      background-color: #E8F0FE;\n",
              "      border: none;\n",
              "      border-radius: 50%;\n",
              "      cursor: pointer;\n",
              "      display: none;\n",
              "      fill: #1967D2;\n",
              "      height: 32px;\n",
              "      padding: 0 0 0 0;\n",
              "      width: 32px;\n",
              "    }\n",
              "\n",
              "    .colab-df-convert:hover {\n",
              "      background-color: #E2EBFA;\n",
              "      box-shadow: 0px 1px 2px rgba(60, 64, 67, 0.3), 0px 1px 3px 1px rgba(60, 64, 67, 0.15);\n",
              "      fill: #174EA6;\n",
              "    }\n",
              "\n",
              "    [theme=dark] .colab-df-convert {\n",
              "      background-color: #3B4455;\n",
              "      fill: #D2E3FC;\n",
              "    }\n",
              "\n",
              "    [theme=dark] .colab-df-convert:hover {\n",
              "      background-color: #434B5C;\n",
              "      box-shadow: 0px 1px 3px 1px rgba(0, 0, 0, 0.15);\n",
              "      filter: drop-shadow(0px 1px 2px rgba(0, 0, 0, 0.3));\n",
              "      fill: #FFFFFF;\n",
              "    }\n",
              "  </style>\n",
              "\n",
              "      <script>\n",
              "        const buttonEl =\n",
              "          document.querySelector('#df-722b864b-f92e-4adc-8479-0d093de64f6d button.colab-df-convert');\n",
              "        buttonEl.style.display =\n",
              "          google.colab.kernel.accessAllowed ? 'block' : 'none';\n",
              "\n",
              "        async function convertToInteractive(key) {\n",
              "          const element = document.querySelector('#df-722b864b-f92e-4adc-8479-0d093de64f6d');\n",
              "          const dataTable =\n",
              "            await google.colab.kernel.invokeFunction('convertToInteractive',\n",
              "                                                     [key], {});\n",
              "          if (!dataTable) return;\n",
              "\n",
              "          const docLinkHtml = 'Like what you see? Visit the ' +\n",
              "            '<a target=\"_blank\" href=https://colab.research.google.com/notebooks/data_table.ipynb>data table notebook</a>'\n",
              "            + ' to learn more about interactive tables.';\n",
              "          element.innerHTML = '';\n",
              "          dataTable['output_type'] = 'display_data';\n",
              "          await google.colab.output.renderOutput(dataTable, element);\n",
              "          const docLink = document.createElement('div');\n",
              "          docLink.innerHTML = docLinkHtml;\n",
              "          element.appendChild(docLink);\n",
              "        }\n",
              "      </script>\n",
              "    </div>\n",
              "  </div>\n",
              "  "
            ]
          },
          "metadata": {},
          "execution_count": 16
        }
      ],
      "source": [
        "df.describe()"
      ]
    },
    {
      "cell_type": "code",
      "execution_count": null,
      "metadata": {
        "colab": {
          "base_uri": "https://localhost:8080/",
          "height": 394
        },
        "id": "NXFupNAUiQqX",
        "outputId": "6e8d14cd-3a8d-497b-8afe-717465923eda"
      },
      "outputs": [
        {
          "output_type": "execute_result",
          "data": {
            "text/plain": [
              "              0          1          2          3          4\n",
              "AT       6.8594     6.7850     6.8977     7.0569     7.3978\n",
              "AP    1007.9000  1008.4000  1008.8000  1009.2000  1009.7000\n",
              "AH      96.7990    97.1180    95.9390    95.2490    95.1500\n",
              "AFDP     3.5000     3.4998     3.4824     3.4805     3.4976\n",
              "GTEP    19.6630    19.7280    19.7790    19.7920    19.7650\n",
              "TIT   1059.2000  1059.3000  1059.4000  1059.6000  1059.7000\n",
              "TAT    550.0000   550.0000   549.8700   549.9900   549.9800\n",
              "TEY    114.7000   114.7200   114.7100   114.7200   114.7200\n",
              "CDP     10.6050    10.5980    10.6010    10.6060    10.6120\n",
              "CO       3.1547     3.2363     3.2012     3.1923     3.2484\n",
              "NOX     82.7220    82.7760    82.4680    82.6700    82.3110"
            ],
            "text/html": [
              "\n",
              "  <div id=\"df-8483a951-7784-4884-8d16-98e6924bdcb5\">\n",
              "    <div class=\"colab-df-container\">\n",
              "      <div>\n",
              "<style scoped>\n",
              "    .dataframe tbody tr th:only-of-type {\n",
              "        vertical-align: middle;\n",
              "    }\n",
              "\n",
              "    .dataframe tbody tr th {\n",
              "        vertical-align: top;\n",
              "    }\n",
              "\n",
              "    .dataframe thead th {\n",
              "        text-align: right;\n",
              "    }\n",
              "</style>\n",
              "<table border=\"1\" class=\"dataframe\">\n",
              "  <thead>\n",
              "    <tr style=\"text-align: right;\">\n",
              "      <th></th>\n",
              "      <th>0</th>\n",
              "      <th>1</th>\n",
              "      <th>2</th>\n",
              "      <th>3</th>\n",
              "      <th>4</th>\n",
              "    </tr>\n",
              "  </thead>\n",
              "  <tbody>\n",
              "    <tr>\n",
              "      <th>AT</th>\n",
              "      <td>6.8594</td>\n",
              "      <td>6.7850</td>\n",
              "      <td>6.8977</td>\n",
              "      <td>7.0569</td>\n",
              "      <td>7.3978</td>\n",
              "    </tr>\n",
              "    <tr>\n",
              "      <th>AP</th>\n",
              "      <td>1007.9000</td>\n",
              "      <td>1008.4000</td>\n",
              "      <td>1008.8000</td>\n",
              "      <td>1009.2000</td>\n",
              "      <td>1009.7000</td>\n",
              "    </tr>\n",
              "    <tr>\n",
              "      <th>AH</th>\n",
              "      <td>96.7990</td>\n",
              "      <td>97.1180</td>\n",
              "      <td>95.9390</td>\n",
              "      <td>95.2490</td>\n",
              "      <td>95.1500</td>\n",
              "    </tr>\n",
              "    <tr>\n",
              "      <th>AFDP</th>\n",
              "      <td>3.5000</td>\n",
              "      <td>3.4998</td>\n",
              "      <td>3.4824</td>\n",
              "      <td>3.4805</td>\n",
              "      <td>3.4976</td>\n",
              "    </tr>\n",
              "    <tr>\n",
              "      <th>GTEP</th>\n",
              "      <td>19.6630</td>\n",
              "      <td>19.7280</td>\n",
              "      <td>19.7790</td>\n",
              "      <td>19.7920</td>\n",
              "      <td>19.7650</td>\n",
              "    </tr>\n",
              "    <tr>\n",
              "      <th>TIT</th>\n",
              "      <td>1059.2000</td>\n",
              "      <td>1059.3000</td>\n",
              "      <td>1059.4000</td>\n",
              "      <td>1059.6000</td>\n",
              "      <td>1059.7000</td>\n",
              "    </tr>\n",
              "    <tr>\n",
              "      <th>TAT</th>\n",
              "      <td>550.0000</td>\n",
              "      <td>550.0000</td>\n",
              "      <td>549.8700</td>\n",
              "      <td>549.9900</td>\n",
              "      <td>549.9800</td>\n",
              "    </tr>\n",
              "    <tr>\n",
              "      <th>TEY</th>\n",
              "      <td>114.7000</td>\n",
              "      <td>114.7200</td>\n",
              "      <td>114.7100</td>\n",
              "      <td>114.7200</td>\n",
              "      <td>114.7200</td>\n",
              "    </tr>\n",
              "    <tr>\n",
              "      <th>CDP</th>\n",
              "      <td>10.6050</td>\n",
              "      <td>10.5980</td>\n",
              "      <td>10.6010</td>\n",
              "      <td>10.6060</td>\n",
              "      <td>10.6120</td>\n",
              "    </tr>\n",
              "    <tr>\n",
              "      <th>CO</th>\n",
              "      <td>3.1547</td>\n",
              "      <td>3.2363</td>\n",
              "      <td>3.2012</td>\n",
              "      <td>3.1923</td>\n",
              "      <td>3.2484</td>\n",
              "    </tr>\n",
              "    <tr>\n",
              "      <th>NOX</th>\n",
              "      <td>82.7220</td>\n",
              "      <td>82.7760</td>\n",
              "      <td>82.4680</td>\n",
              "      <td>82.6700</td>\n",
              "      <td>82.3110</td>\n",
              "    </tr>\n",
              "  </tbody>\n",
              "</table>\n",
              "</div>\n",
              "      <button class=\"colab-df-convert\" onclick=\"convertToInteractive('df-8483a951-7784-4884-8d16-98e6924bdcb5')\"\n",
              "              title=\"Convert this dataframe to an interactive table.\"\n",
              "              style=\"display:none;\">\n",
              "        \n",
              "  <svg xmlns=\"http://www.w3.org/2000/svg\" height=\"24px\"viewBox=\"0 0 24 24\"\n",
              "       width=\"24px\">\n",
              "    <path d=\"M0 0h24v24H0V0z\" fill=\"none\"/>\n",
              "    <path d=\"M18.56 5.44l.94 2.06.94-2.06 2.06-.94-2.06-.94-.94-2.06-.94 2.06-2.06.94zm-11 1L8.5 8.5l.94-2.06 2.06-.94-2.06-.94L8.5 2.5l-.94 2.06-2.06.94zm10 10l.94 2.06.94-2.06 2.06-.94-2.06-.94-.94-2.06-.94 2.06-2.06.94z\"/><path d=\"M17.41 7.96l-1.37-1.37c-.4-.4-.92-.59-1.43-.59-.52 0-1.04.2-1.43.59L10.3 9.45l-7.72 7.72c-.78.78-.78 2.05 0 2.83L4 21.41c.39.39.9.59 1.41.59.51 0 1.02-.2 1.41-.59l7.78-7.78 2.81-2.81c.8-.78.8-2.07 0-2.86zM5.41 20L4 18.59l7.72-7.72 1.47 1.35L5.41 20z\"/>\n",
              "  </svg>\n",
              "      </button>\n",
              "      \n",
              "  <style>\n",
              "    .colab-df-container {\n",
              "      display:flex;\n",
              "      flex-wrap:wrap;\n",
              "      gap: 12px;\n",
              "    }\n",
              "\n",
              "    .colab-df-convert {\n",
              "      background-color: #E8F0FE;\n",
              "      border: none;\n",
              "      border-radius: 50%;\n",
              "      cursor: pointer;\n",
              "      display: none;\n",
              "      fill: #1967D2;\n",
              "      height: 32px;\n",
              "      padding: 0 0 0 0;\n",
              "      width: 32px;\n",
              "    }\n",
              "\n",
              "    .colab-df-convert:hover {\n",
              "      background-color: #E2EBFA;\n",
              "      box-shadow: 0px 1px 2px rgba(60, 64, 67, 0.3), 0px 1px 3px 1px rgba(60, 64, 67, 0.15);\n",
              "      fill: #174EA6;\n",
              "    }\n",
              "\n",
              "    [theme=dark] .colab-df-convert {\n",
              "      background-color: #3B4455;\n",
              "      fill: #D2E3FC;\n",
              "    }\n",
              "\n",
              "    [theme=dark] .colab-df-convert:hover {\n",
              "      background-color: #434B5C;\n",
              "      box-shadow: 0px 1px 3px 1px rgba(0, 0, 0, 0.15);\n",
              "      filter: drop-shadow(0px 1px 2px rgba(0, 0, 0, 0.3));\n",
              "      fill: #FFFFFF;\n",
              "    }\n",
              "  </style>\n",
              "\n",
              "      <script>\n",
              "        const buttonEl =\n",
              "          document.querySelector('#df-8483a951-7784-4884-8d16-98e6924bdcb5 button.colab-df-convert');\n",
              "        buttonEl.style.display =\n",
              "          google.colab.kernel.accessAllowed ? 'block' : 'none';\n",
              "\n",
              "        async function convertToInteractive(key) {\n",
              "          const element = document.querySelector('#df-8483a951-7784-4884-8d16-98e6924bdcb5');\n",
              "          const dataTable =\n",
              "            await google.colab.kernel.invokeFunction('convertToInteractive',\n",
              "                                                     [key], {});\n",
              "          if (!dataTable) return;\n",
              "\n",
              "          const docLinkHtml = 'Like what you see? Visit the ' +\n",
              "            '<a target=\"_blank\" href=https://colab.research.google.com/notebooks/data_table.ipynb>data table notebook</a>'\n",
              "            + ' to learn more about interactive tables.';\n",
              "          element.innerHTML = '';\n",
              "          dataTable['output_type'] = 'display_data';\n",
              "          await google.colab.output.renderOutput(dataTable, element);\n",
              "          const docLink = document.createElement('div');\n",
              "          docLink.innerHTML = docLinkHtml;\n",
              "          element.appendChild(docLink);\n",
              "        }\n",
              "      </script>\n",
              "    </div>\n",
              "  </div>\n",
              "  "
            ]
          },
          "metadata": {},
          "execution_count": 17
        }
      ],
      "source": [
        "df.head().T"
      ]
    },
    {
      "cell_type": "code",
      "execution_count": null,
      "metadata": {
        "colab": {
          "base_uri": "https://localhost:8080/"
        },
        "id": "WbgAcwpuiQn3",
        "outputId": "0a0720fa-5e51-4bd1-9217-8ebd2d024d43"
      },
      "outputs": [
        {
          "output_type": "execute_result",
          "data": {
            "text/plain": [
              "AT      0\n",
              "AP      0\n",
              "AH      0\n",
              "AFDP    0\n",
              "GTEP    0\n",
              "TIT     0\n",
              "TAT     0\n",
              "TEY     0\n",
              "CDP     0\n",
              "CO      0\n",
              "NOX     0\n",
              "dtype: int64"
            ]
          },
          "metadata": {},
          "execution_count": 18
        }
      ],
      "source": [
        "#check for misssing values\n",
        "df.isna().sum()"
      ]
    },
    {
      "cell_type": "code",
      "execution_count": null,
      "metadata": {
        "colab": {
          "base_uri": "https://localhost:8080/"
        },
        "id": "MFcsUvsIiQmc",
        "outputId": "8587a771-aef1-4b50-d011-380ca31a3116"
      },
      "outputs": [
        {
          "output_type": "execute_result",
          "data": {
            "text/plain": [
              "AT      False\n",
              "AP      False\n",
              "AH      False\n",
              "AFDP    False\n",
              "GTEP    False\n",
              "TIT     False\n",
              "TAT     False\n",
              "TEY     False\n",
              "CDP     False\n",
              "CO      False\n",
              "NOX     False\n",
              "dtype: bool"
            ]
          },
          "metadata": {},
          "execution_count": 19
        }
      ],
      "source": [
        "df.isna().any()"
      ]
    },
    {
      "cell_type": "code",
      "execution_count": null,
      "metadata": {
        "colab": {
          "base_uri": "https://localhost:8080/",
          "height": 396
        },
        "id": "A-0eopnIi6nq",
        "outputId": "aa407b30-aac7-40ce-ffb2-d557cf79fa2d"
      },
      "outputs": [
        {
          "output_type": "execute_result",
          "data": {
            "text/plain": [
              "<matplotlib.axes._subplots.AxesSubplot at 0x7f00924c1410>"
            ]
          },
          "metadata": {},
          "execution_count": 20
        },
        {
          "output_type": "display_data",
          "data": {
            "text/plain": [
              "<Figure size 864x432 with 2 Axes>"
            ],
            "image/png": "[encoded data removed]"
          },
          "metadata": {
            "needs_background": "light"
          }
        }
      ],
      "source": [
        "plt.rcParams['figure.figsize']=(12,6)\n",
        "sns.heatmap(df.isna(), cmap =('gist_heat'), yticklabels=False)"
      ]
    },
    {
      "cell_type": "code",
      "execution_count": null,
      "metadata": {
        "colab": {
          "base_uri": "https://localhost:8080/"
        },
        "id": "4iWIClMSi9Iu",
        "outputId": "c9f216e3-07f9-476d-bf00-8375f2976918"
      },
      "outputs": [
        {
          "output_type": "execute_result",
          "data": {
            "text/plain": [
              "(0, 11)"
            ]
          },
          "metadata": {},
          "execution_count": 21
        }
      ],
      "source": [
        "#check for duplicate values\n",
        "df[df.duplicated()].shape"
      ]
    },
    {
      "cell_type": "code",
      "execution_count": null,
      "metadata": {
        "colab": {
          "base_uri": "https://localhost:8080/",
          "height": 49
        },
        "id": "-j2R95MTi9Hh",
        "outputId": "4d2521d4-e99d-497d-9801-309c35842458"
      },
      "outputs": [
        {
          "output_type": "execute_result",
          "data": {
            "text/plain": [
              "Empty DataFrame\n",
              "Columns: [AT, AP, AH, AFDP, GTEP, TIT, TAT, TEY, CDP, CO, NOX]\n",
              "Index: []"
            ],
            "text/html": [
              "\n",
              "  <div id=\"df-f0024f94-9f40-4f9a-9a48-cbd64ef67bc8\">\n",
              "    <div class=\"colab-df-container\">\n",
              "      <div>\n",
              "<style scoped>\n",
              "    .dataframe tbody tr th:only-of-type {\n",
              "        vertical-align: middle;\n",
              "    }\n",
              "\n",
              "    .dataframe tbody tr th {\n",
              "        vertical-align: top;\n",
              "    }\n",
              "\n",
              "    .dataframe thead th {\n",
              "        text-align: right;\n",
              "    }\n",
              "</style>\n",
              "<table border=\"1\" class=\"dataframe\">\n",
              "  <thead>\n",
              "    <tr style=\"text-align: right;\">\n",
              "      <th></th>\n",
              "      <th>AT</th>\n",
              "      <th>AP</th>\n",
              "      <th>AH</th>\n",
              "      <th>AFDP</th>\n",
              "      <th>GTEP</th>\n",
              "      <th>TIT</th>\n",
              "      <th>TAT</th>\n",
              "      <th>TEY</th>\n",
              "      <th>CDP</th>\n",
              "      <th>CO</th>\n",
              "      <th>NOX</th>\n",
              "    </tr>\n",
              "  </thead>\n",
              "  <tbody>\n",
              "  </tbody>\n",
              "</table>\n",
              "</div>\n",
              "      <button class=\"colab-df-convert\" onclick=\"convertToInteractive('df-f0024f94-9f40-4f9a-9a48-cbd64ef67bc8')\"\n",
              "              title=\"Convert this dataframe to an interactive table.\"\n",
              "              style=\"display:none;\">\n",
              "        \n",
              "  <svg xmlns=\"http://www.w3.org/2000/svg\" height=\"24px\"viewBox=\"0 0 24 24\"\n",
              "       width=\"24px\">\n",
              "    <path d=\"M0 0h24v24H0V0z\" fill=\"none\"/>\n",
              "    <path d=\"M18.56 5.44l.94 2.06.94-2.06 2.06-.94-2.06-.94-.94-2.06-.94 2.06-2.06.94zm-11 1L8.5 8.5l.94-2.06 2.06-.94-2.06-.94L8.5 2.5l-.94 2.06-2.06.94zm10 10l.94 2.06.94-2.06 2.06-.94-2.06-.94-.94-2.06-.94 2.06-2.06.94z\"/><path d=\"M17.41 7.96l-1.37-1.37c-.4-.4-.92-.59-1.43-.59-.52 0-1.04.2-1.43.59L10.3 9.45l-7.72 7.72c-.78.78-.78 2.05 0 2.83L4 21.41c.39.39.9.59 1.41.59.51 0 1.02-.2 1.41-.59l7.78-7.78 2.81-2.81c.8-.78.8-2.07 0-2.86zM5.41 20L4 18.59l7.72-7.72 1.47 1.35L5.41 20z\"/>\n",
              "  </svg>\n",
              "      </button>\n",
              "      \n",
              "  <style>\n",
              "    .colab-df-container {\n",
              "      display:flex;\n",
              "      flex-wrap:wrap;\n",
              "      gap: 12px;\n",
              "    }\n",
              "\n",
              "    .colab-df-convert {\n",
              "      background-color: #E8F0FE;\n",
              "      border: none;\n",
              "      border-radius: 50%;\n",
              "      cursor: pointer;\n",
              "      display: none;\n",
              "      fill: #1967D2;\n",
              "      height: 32px;\n",
              "      padding: 0 0 0 0;\n",
              "      width: 32px;\n",
              "    }\n",
              "\n",
              "    .colab-df-convert:hover {\n",
              "      background-color: #E2EBFA;\n",
              "      box-shadow: 0px 1px 2px rgba(60, 64, 67, 0.3), 0px 1px 3px 1px rgba(60, 64, 67, 0.15);\n",
              "      fill: #174EA6;\n",
              "    }\n",
              "\n",
              "    [theme=dark] .colab-df-convert {\n",
              "      background-color: #3B4455;\n",
              "      fill: #D2E3FC;\n",
              "    }\n",
              "\n",
              "    [theme=dark] .colab-df-convert:hover {\n",
              "      background-color: #434B5C;\n",
              "      box-shadow: 0px 1px 3px 1px rgba(0, 0, 0, 0.15);\n",
              "      filter: drop-shadow(0px 1px 2px rgba(0, 0, 0, 0.3));\n",
              "      fill: #FFFFFF;\n",
              "    }\n",
              "  </style>\n",
              "\n",
              "      <script>\n",
              "        const buttonEl =\n",
              "          document.querySelector('#df-f0024f94-9f40-4f9a-9a48-cbd64ef67bc8 button.colab-df-convert');\n",
              "        buttonEl.style.display =\n",
              "          google.colab.kernel.accessAllowed ? 'block' : 'none';\n",
              "\n",
              "        async function convertToInteractive(key) {\n",
              "          const element = document.querySelector('#df-f0024f94-9f40-4f9a-9a48-cbd64ef67bc8');\n",
              "          const dataTable =\n",
              "            await google.colab.kernel.invokeFunction('convertToInteractive',\n",
              "                                                     [key], {});\n",
              "          if (!dataTable) return;\n",
              "\n",
              "          const docLinkHtml = 'Like what you see? Visit the ' +\n",
              "            '<a target=\"_blank\" href=https://colab.research.google.com/notebooks/data_table.ipynb>data table notebook</a>'\n",
              "            + ' to learn more about interactive tables.';\n",
              "          element.innerHTML = '';\n",
              "          dataTable['output_type'] = 'display_data';\n",
              "          await google.colab.output.renderOutput(dataTable, element);\n",
              "          const docLink = document.createElement('div');\n",
              "          docLink.innerHTML = docLinkHtml;\n",
              "          element.appendChild(docLink);\n",
              "        }\n",
              "      </script>\n",
              "    </div>\n",
              "  </div>\n",
              "  "
            ]
          },
          "metadata": {},
          "execution_count": 22
        }
      ],
      "source": [
        "df[df.duplicated()]"
      ]
    },
    {
      "cell_type": "code",
      "execution_count": null,
      "metadata": {
        "colab": {
          "base_uri": "https://localhost:8080/"
        },
        "id": "oMV7Y8o_i9F9",
        "outputId": "7ae15e5d-427a-40be-f940-0b1508dbac7f"
      },
      "outputs": [
        {
          "output_type": "execute_result",
          "data": {
            "text/plain": [
              "AT      12086\n",
              "AP        540\n",
              "AH      12637\n",
              "AFDP    11314\n",
              "GTEP     8234\n",
              "TIT       706\n",
              "TAT      2340\n",
              "TEY      4207\n",
              "CDP      3611\n",
              "CO      13096\n",
              "NOX     11996\n",
              "dtype: int64"
            ]
          },
          "metadata": {},
          "execution_count": 23
        }
      ],
      "source": [
        "df.nunique()"
      ]
    },
    {
      "cell_type": "markdown",
      "metadata": {
        "id": "RtWABq2hjHO6"
      },
      "source": [
        "#Data Visualisation"
      ]
    },
    {
      "cell_type": "code",
      "execution_count": null,
      "metadata": {
        "colab": {
          "base_uri": "https://localhost:8080/",
          "height": 429
        },
        "id": "JtOZaE1Si9EV",
        "outputId": "da410bd7-c577-452c-fe4a-241cf1aeaca2"
      },
      "outputs": [
        {
          "output_type": "execute_result",
          "data": {
            "text/plain": [
              "<matplotlib.axes._subplots.AxesSubplot at 0x7f008fbb4250>"
            ]
          },
          "metadata": {},
          "execution_count": 24
        },
        {
          "output_type": "display_data",
          "data": {
            "text/plain": [
              "<Figure size 864x432 with 1 Axes>"
            ],
            "image/png": "[encoded data removed]"
          },
          "metadata": {
            "needs_background": "light"
          }
        }
      ],
      "source": [
        "#Target variable\n",
        "plt.title('Distplot for TEY', fontsize=17, y = 1.01)\n",
        "sns.distplot(df['TEY'])"
      ]
    },
    {
      "cell_type": "code",
      "execution_count": null,
      "metadata": {
        "colab": {
          "base_uri": "https://localhost:8080/",
          "height": 429
        },
        "id": "XuCJY0NyjJsh",
        "outputId": "b0743898-5f7a-4817-824e-588ef847a28b"
      },
      "outputs": [
        {
          "output_type": "execute_result",
          "data": {
            "text/plain": [
              "<matplotlib.axes._subplots.AxesSubplot at 0x7f008faf7a10>"
            ]
          },
          "metadata": {},
          "execution_count": 25
        },
        {
          "output_type": "display_data",
          "data": {
            "text/plain": [
              "<Figure size 864x432 with 1 Axes>"
            ],
            "image/png": "[encoded data removed]"
          },
          "metadata": {
            "needs_background": "light"
          }
        }
      ],
      "source": [
        "plt.title('Distplot for AT', fontsize=17, y = 1.01)\n",
        "sns.distplot(df['AT'])"
      ]
    },
    {
      "cell_type": "code",
      "execution_count": null,
      "metadata": {
        "colab": {
          "base_uri": "https://localhost:8080/",
          "height": 429
        },
        "id": "vRDXBxfRjJrU",
        "outputId": "143db943-102a-4503-cc8f-9f704498fb59"
      },
      "outputs": [
        {
          "output_type": "execute_result",
          "data": {
            "text/plain": [
              "<matplotlib.axes._subplots.AxesSubplot at 0x7f008f9fc850>"
            ]
          },
          "metadata": {},
          "execution_count": 26
        },
        {
          "output_type": "display_data",
          "data": {
            "text/plain": [
              "<Figure size 864x432 with 1 Axes>"
            ],
            "image/png": "[encoded data removed]"
          },
          "metadata": {
            "needs_background": "light"
          }
        }
      ],
      "source": [
        "plt.title('Distplot for AP', fontsize=17, y = 1.01)\n",
        "sns.distplot(df['AP'])"
      ]
    },
    {
      "cell_type": "code",
      "execution_count": null,
      "metadata": {
        "colab": {
          "base_uri": "https://localhost:8080/",
          "height": 429
        },
        "id": "iLr47Zi0jJoT",
        "outputId": "464c4b79-c8b6-4413-da5b-769f517f9b6e"
      },
      "outputs": [
        {
          "output_type": "execute_result",
          "data": {
            "text/plain": [
              "<matplotlib.axes._subplots.AxesSubplot at 0x7f008f91aa90>"
            ]
          },
          "metadata": {},
          "execution_count": 27
        },
        {
          "output_type": "display_data",
          "data": {
            "text/plain": [
              "<Figure size 864x432 with 1 Axes>"
            ],
            "image/png": "[encoded data removed]"
          },
          "metadata": {
            "needs_background": "light"
          }
        }
      ],
      "source": [
        "plt.title('Distplot for AH', fontsize=17, y = 1.01)\n",
        "sns.distplot(df['AH'])"
      ]
    },
    {
      "cell_type": "code",
      "execution_count": null,
      "metadata": {
        "colab": {
          "base_uri": "https://localhost:8080/",
          "height": 429
        },
        "id": "RBzdNi8-jJmW",
        "outputId": "291aaedf-2646-40a0-f6fd-13d35147c28e"
      },
      "outputs": [
        {
          "output_type": "execute_result",
          "data": {
            "text/plain": [
              "<matplotlib.axes._subplots.AxesSubplot at 0x7f00929f9450>"
            ]
          },
          "metadata": {},
          "execution_count": 28
        },
        {
          "output_type": "display_data",
          "data": {
            "text/plain": [
              "<Figure size 864x432 with 1 Axes>"
            ],
            "image/png": "[encoded data removed]"
          },
          "metadata": {
            "needs_background": "light"
          }
        }
      ],
      "source": [
        "plt.title('Distplot for AFDP', fontsize=17, y = 1.01)\n",
        "sns.distplot(df['AFDP'])"
      ]
    },
    {
      "cell_type": "code",
      "execution_count": null,
      "metadata": {
        "colab": {
          "base_uri": "https://localhost:8080/",
          "height": 429
        },
        "id": "aH4ZdbyJjVkU",
        "outputId": "47f400c9-d1f4-48bc-e224-9acd257f26c8"
      },
      "outputs": [
        {
          "output_type": "execute_result",
          "data": {
            "text/plain": [
              "<matplotlib.axes._subplots.AxesSubplot at 0x7f008f7407d0>"
            ]
          },
          "metadata": {},
          "execution_count": 29
        },
        {
          "output_type": "display_data",
          "data": {
            "text/plain": [
              "<Figure size 864x432 with 1 Axes>"
            ],
            "image/png": "[encoded data removed]"
          },
          "metadata": {
            "needs_background": "light"
          }
        }
      ],
      "source": [
        "plt.title('Distplot for GTEP', fontsize=17, y = 1.01)\n",
        "sns.distplot(df['GTEP'])"
      ]
    },
    {
      "cell_type": "code",
      "execution_count": null,
      "metadata": {
        "colab": {
          "base_uri": "https://localhost:8080/",
          "height": 429
        },
        "id": "1UUcMQ2pjVhy",
        "outputId": "ba58a45a-c0a4-4f23-d6e9-10a65be0fb05"
      },
      "outputs": [
        {
          "output_type": "execute_result",
          "data": {
            "text/plain": [
              "<matplotlib.axes._subplots.AxesSubplot at 0x7f008f6bde10>"
            ]
          },
          "metadata": {},
          "execution_count": 30
        },
        {
          "output_type": "display_data",
          "data": {
            "text/plain": [
              "<Figure size 864x432 with 1 Axes>"
            ],
            "image/png": "[encoded data removed]"
          },
          "metadata": {
            "needs_background": "light"
          }
        }
      ],
      "source": [
        "plt.title('Distplot for TIT', fontsize=17, y = 1.01)\n",
        "sns.distplot(df['TIT'])"
      ]
    },
    {
      "cell_type": "code",
      "execution_count": null,
      "metadata": {
        "colab": {
          "base_uri": "https://localhost:8080/",
          "height": 429
        },
        "id": "1kwR3_8HjVgH",
        "outputId": "863a5c77-cf61-42d7-d84a-fb5769f1f8f2"
      },
      "outputs": [
        {
          "output_type": "execute_result",
          "data": {
            "text/plain": [
              "<matplotlib.axes._subplots.AxesSubplot at 0x7f008f542d10>"
            ]
          },
          "metadata": {},
          "execution_count": 31
        },
        {
          "output_type": "display_data",
          "data": {
            "text/plain": [
              "<Figure size 864x432 with 1 Axes>"
            ],
            "image/png": "[encoded data removed]"
          },
          "metadata": {
            "needs_background": "light"
          }
        }
      ],
      "source": [
        "plt.title('Distplot for TAT', fontsize=17, y = 1.01)\n",
        "sns.distplot(df['TAT'])"
      ]
    },
    {
      "cell_type": "code",
      "execution_count": null,
      "metadata": {
        "colab": {
          "base_uri": "https://localhost:8080/",
          "height": 429
        },
        "id": "x6uDkhgNja5o",
        "outputId": "4061f8a3-1669-4147-d550-31569f54fbd0"
      },
      "outputs": [
        {
          "output_type": "execute_result",
          "data": {
            "text/plain": [
              "<matplotlib.axes._subplots.AxesSubplot at 0x7f008f43a390>"
            ]
          },
          "metadata": {},
          "execution_count": 32
        },
        {
          "output_type": "display_data",
          "data": {
            "text/plain": [
              "<Figure size 864x432 with 1 Axes>"
            ],
            "image/png": "[encoded data removed]"
          },
          "metadata": {
            "needs_background": "light"
          }
        }
      ],
      "source": [
        "plt.title('Distplot for CDP', fontsize=17, y = 1.01)\n",
        "sns.distplot(df['CDP'])"
      ]
    },
    {
      "cell_type": "code",
      "execution_count": null,
      "metadata": {
        "colab": {
          "base_uri": "https://localhost:8080/",
          "height": 429
        },
        "id": "Ud9frHZPja4E",
        "outputId": "887d43ba-8474-44e9-d496-605cf512e650"
      },
      "outputs": [
        {
          "output_type": "execute_result",
          "data": {
            "text/plain": [
              "<matplotlib.axes._subplots.AxesSubplot at 0x7f008f36eb10>"
            ]
          },
          "metadata": {},
          "execution_count": 33
        },
        {
          "output_type": "display_data",
          "data": {
            "text/plain": [
              "<Figure size 864x432 with 1 Axes>"
            ],
            "image/png": "[encoded data removed]"
          },
          "metadata": {
            "needs_background": "light"
          }
        }
      ],
      "source": [
        "plt.title('Distplot for CO', fontsize=17, y = 1.01)\n",
        "sns.distplot(df['CO'])"
      ]
    },
    {
      "cell_type": "code",
      "execution_count": null,
      "metadata": {
        "colab": {
          "base_uri": "https://localhost:8080/",
          "height": 429
        },
        "id": "mJb2g9WyjeOA",
        "outputId": "08241170-d196-4e48-813a-4ce086b7140e"
      },
      "outputs": [
        {
          "output_type": "execute_result",
          "data": {
            "text/plain": [
              "<matplotlib.axes._subplots.AxesSubplot at 0x7f008f24aed0>"
            ]
          },
          "metadata": {},
          "execution_count": 34
        },
        {
          "output_type": "display_data",
          "data": {
            "text/plain": [
              "<Figure size 864x432 with 1 Axes>"
            ],
            "image/png": "[encoded data removed]"
          },
          "metadata": {
            "needs_background": "light"
          }
        }
      ],
      "source": [
        "plt.title('Distplot for NOX', fontsize=17, y = 1.01)\n",
        "sns.distplot(df['NOX'])"
      ]
    },
    {
      "cell_type": "code",
      "execution_count": null,
      "metadata": {
        "colab": {
          "base_uri": "https://localhost:8080/",
          "height": 443
        },
        "id": "P60awv3XjeG0",
        "outputId": "b2c7a32b-c0fb-4182-f2e1-8894a46d9375"
      },
      "outputs": [
        {
          "output_type": "display_data",
          "data": {
            "text/plain": [
              "<Figure size 1368x432 with 12 Axes>"
            ],
            "image/png": "[encoded data removed]"
          },
          "metadata": {
            "needs_background": "light"
          }
        }
      ],
      "source": [
        "#check for outliers\n",
        "fig, ax=plt.subplots(3,4, figsize=(19,6), sharex= False, sharey = False)\n",
        "sns.boxplot(df.TEY, ax=ax[0,0])\n",
        "sns.boxplot(df.AT, ax=ax[0,1])\n",
        "sns.boxplot(df.AP, ax=ax[0,2])\n",
        "sns.boxplot(df.AH, ax=ax[0,3])\n",
        "sns.boxplot(df.AFDP, ax=ax[1,0])\n",
        "sns.boxplot(df.GTEP, ax=ax[1,1])\n",
        "sns.boxplot(df.TIT, ax=ax[1,2])\n",
        "sns.boxplot(df.TAT, ax=ax[1,3])\n",
        "sns.boxplot(df.CDP, ax=ax[2,0])\n",
        "sns.boxplot(df.CO, ax=ax[2,1])\n",
        "sns.boxplot(df.NOX, ax=ax[2,2])\n",
        "plt.suptitle(\"Boxplot for Continuous Variables\", fontsize= 17, y = 1.06)\n",
        "plt.tight_layout(pad=2.0)"
      ]
    },
    {
      "cell_type": "code",
      "execution_count": null,
      "metadata": {
        "colab": {
          "base_uri": "https://localhost:8080/",
          "height": 443
        },
        "id": "7V9RIHUeji2q",
        "outputId": "b22dc224-ed6e-4a5e-d17a-ec0dd9aae1dd"
      },
      "outputs": [
        {
          "output_type": "display_data",
          "data": {
            "text/plain": [
              "<Figure size 1368x432 with 12 Axes>"
            ],
            "image/png": "[encoded data removed]"
          },
          "metadata": {
            "needs_background": "light"
          }
        }
      ],
      "source": [
        "import numpy as np\n",
        "fig, ax=plt.subplots(4,3, figsize=(19,6), sharex= False, sharey = False)\n",
        "sns.boxplot(np.log(df.TEY), ax=ax[0,0])\n",
        "sns.boxplot(np.log(df.AT), ax=ax[0,1])\n",
        "sns.boxplot(np.log(df.AP), ax=ax[0,2])\n",
        "sns.boxplot(np.log(df.AH), ax=ax[1,0])\n",
        "sns.boxplot(np.log(df.AFDP), ax=ax[1,1])\n",
        "sns.boxplot(np.log(df.GTEP), ax=ax[1,2])\n",
        "sns.boxplot(np.log(df.TIT), ax=ax[2,0])\n",
        "sns.boxplot(np.log(df.TAT), ax=ax[2,1])\n",
        "sns.boxplot(np.log(df.CDP), ax=ax[2,2])\n",
        "sns.boxplot(np.log(df.CO), ax=ax[3,0])\n",
        "sns.boxplot(np.log(df.NOX), ax=ax[3,1])\n",
        "plt.suptitle(\"Log Transformation for Continuous Variables\", fontsize= 17, y = 1.06)\n",
        "plt.tight_layout(pad=2.0)"
      ]
    },
    {
      "cell_type": "code",
      "execution_count": null,
      "metadata": {
        "colab": {
          "base_uri": "https://localhost:8080/",
          "height": 443
        },
        "id": "E_xGcbPLjlQg",
        "outputId": "b3df3771-9268-4dc2-a1fc-4fdf51b6233e"
      },
      "outputs": [
        {
          "output_type": "display_data",
          "data": {
            "text/plain": [
              "<Figure size 1368x432 with 12 Axes>"
            ],
            "image/png": "[encoded data removed]"
          },
          "metadata": {
            "needs_background": "light"
          }
        }
      ],
      "source": [
        "fig, ax=plt.subplots(3,4, figsize=(19,6), sharex= False, sharey = False)\n",
        "sns.boxplot(np.sqrt(df.TEY), ax=ax[0,0])\n",
        "sns.boxplot(np.sqrt(df.AT), ax=ax[0,1])\n",
        "sns.boxplot(np.sqrt(df.AP), ax=ax[0,2])\n",
        "sns.boxplot(np.sqrt(df.AH), ax=ax[0,3])\n",
        "sns.boxplot(np.sqrt(df.AFDP), ax=ax[1,0])\n",
        "sns.boxplot(np.sqrt(df.GTEP), ax=ax[1,1])\n",
        "sns.boxplot(np.sqrt(df.TIT), ax=ax[1,2])\n",
        "sns.boxplot(np.sqrt(df.TAT), ax=ax[1,3])\n",
        "sns.boxplot(np.sqrt(df.CDP), ax=ax[2,0])\n",
        "sns.boxplot(np.sqrt(df.CO), ax=ax[2,1])\n",
        "sns.boxplot(np.sqrt(df.NOX), ax=ax[2,2])\n",
        "plt.suptitle(\"SQRT Transformation for Continuous Variables\", fontsize= 17, y = 1.06)\n",
        "plt.tight_layout(pad=2.0)"
      ]
    },
    {
      "cell_type": "code",
      "execution_count": null,
      "metadata": {
        "colab": {
          "base_uri": "https://localhost:8080/",
          "height": 443
        },
        "id": "ndvGbkcQjlPY",
        "outputId": "c5cc568e-7b8f-4f13-97f2-8d2451c2fb73"
      },
      "outputs": [
        {
          "output_type": "display_data",
          "data": {
            "text/plain": [
              "<Figure size 1368x432 with 12 Axes>"
            ],
            "image/png": "[encoded data removed]"
          },
          "metadata": {
            "needs_background": "light"
          }
        }
      ],
      "source": [
        "fig, ax=plt.subplots(4,3, figsize=(19,6), sharex= False, sharey = False)\n",
        "sns.boxplot(np.cbrt(df.TEY), ax=ax[0,0])\n",
        "sns.boxplot(np.cbrt(df.AT), ax=ax[0,1])\n",
        "sns.boxplot(np.cbrt(df.AP), ax=ax[0,2])\n",
        "sns.boxplot(np.cbrt(df.AH), ax=ax[1,0])\n",
        "sns.boxplot(np.cbrt(df.AFDP), ax=ax[1,1])\n",
        "sns.boxplot(np.cbrt(df.GTEP), ax=ax[1,2])\n",
        "sns.boxplot(np.cbrt(df.TIT), ax=ax[2,0])\n",
        "sns.boxplot(np.cbrt(df.TAT), ax=ax[2,1])\n",
        "sns.boxplot(np.cbrt(df.CDP), ax=ax[2,2])\n",
        "sns.boxplot(np.cbrt(df.CO), ax=ax[3,0])\n",
        "sns.boxplot(np.cbrt(df.NOX), ax=ax[3,1])\n",
        "plt.suptitle(\"Cbrt Transformation for Continuous Variables\", fontsize= 17, y = 1.06)\n",
        "plt.tight_layout(pad=2.0)"
      ]
    },
    {
      "cell_type": "code",
      "execution_count": null,
      "metadata": {
        "colab": {
          "base_uri": "https://localhost:8080/",
          "height": 1000
        },
        "id": "S0trdGBujqlg",
        "outputId": "a0f1e92a-2d3f-4913-df60-08203178ade2"
      },
      "outputs": [],
      "source": [
        "sns.pairplot(df)"
      ]
    },
    {
      "cell_type": "code",
      "execution_count": null,
      "metadata": {
        "colab": {
          "base_uri": "https://localhost:8080/",
          "height": 394
        },
        "id": "65KE4kq0jt2U",
        "outputId": "327232bd-0b79-4b05-b0a8-a2b7dbb1b062"
      },
      "outputs": [
        {
          "output_type": "execute_result",
          "data": {
            "text/plain": [
              "           TEY\n",
              "TEY   1.000000\n",
              "CDP   0.988473\n",
              "GTEP  0.977042\n",
              "TIT   0.891587\n",
              "AFDP  0.717995\n",
              "AP    0.146939\n",
              "NOX  -0.102631\n",
              "AH   -0.110272\n",
              "AT   -0.207495\n",
              "CO   -0.541751\n",
              "TAT  -0.720356"
            ],
            "text/html": [
              "\n",
              "  <div id=\"df-6ef69102-b858-4152-8de5-de44b4bfcaaa\">\n",
              "    <div class=\"colab-df-container\">\n",
              "      <div>\n",
              "<style scoped>\n",
              "    .dataframe tbody tr th:only-of-type {\n",
              "        vertical-align: middle;\n",
              "    }\n",
              "\n",
              "    .dataframe tbody tr th {\n",
              "        vertical-align: top;\n",
              "    }\n",
              "\n",
              "    .dataframe thead th {\n",
              "        text-align: right;\n",
              "    }\n",
              "</style>\n",
              "<table border=\"1\" class=\"dataframe\">\n",
              "  <thead>\n",
              "    <tr style=\"text-align: right;\">\n",
              "      <th></th>\n",
              "      <th>TEY</th>\n",
              "    </tr>\n",
              "  </thead>\n",
              "  <tbody>\n",
              "    <tr>\n",
              "      <th>TEY</th>\n",
              "      <td>1.000000</td>\n",
              "    </tr>\n",
              "    <tr>\n",
              "      <th>CDP</th>\n",
              "      <td>0.988473</td>\n",
              "    </tr>\n",
              "    <tr>\n",
              "      <th>GTEP</th>\n",
              "      <td>0.977042</td>\n",
              "    </tr>\n",
              "    <tr>\n",
              "      <th>TIT</th>\n",
              "      <td>0.891587</td>\n",
              "    </tr>\n",
              "    <tr>\n",
              "      <th>AFDP</th>\n",
              "      <td>0.717995</td>\n",
              "    </tr>\n",
              "    <tr>\n",
              "      <th>AP</th>\n",
              "      <td>0.146939</td>\n",
              "    </tr>\n",
              "    <tr>\n",
              "      <th>NOX</th>\n",
              "      <td>-0.102631</td>\n",
              "    </tr>\n",
              "    <tr>\n",
              "      <th>AH</th>\n",
              "      <td>-0.110272</td>\n",
              "    </tr>\n",
              "    <tr>\n",
              "      <th>AT</th>\n",
              "      <td>-0.207495</td>\n",
              "    </tr>\n",
              "    <tr>\n",
              "      <th>CO</th>\n",
              "      <td>-0.541751</td>\n",
              "    </tr>\n",
              "    <tr>\n",
              "      <th>TAT</th>\n",
              "      <td>-0.720356</td>\n",
              "    </tr>\n",
              "  </tbody>\n",
              "</table>\n",
              "</div>\n",
              "      <button class=\"colab-df-convert\" onclick=\"convertToInteractive('df-6ef69102-b858-4152-8de5-de44b4bfcaaa')\"\n",
              "              title=\"Convert this dataframe to an interactive table.\"\n",
              "              style=\"display:none;\">\n",
              "        \n",
              "  <svg xmlns=\"http://www.w3.org/2000/svg\" height=\"24px\"viewBox=\"0 0 24 24\"\n",
              "       width=\"24px\">\n",
              "    <path d=\"M0 0h24v24H0V0z\" fill=\"none\"/>\n",
              "    <path d=\"M18.56 5.44l.94 2.06.94-2.06 2.06-.94-2.06-.94-.94-2.06-.94 2.06-2.06.94zm-11 1L8.5 8.5l.94-2.06 2.06-.94-2.06-.94L8.5 2.5l-.94 2.06-2.06.94zm10 10l.94 2.06.94-2.06 2.06-.94-2.06-.94-.94-2.06-.94 2.06-2.06.94z\"/><path d=\"M17.41 7.96l-1.37-1.37c-.4-.4-.92-.59-1.43-.59-.52 0-1.04.2-1.43.59L10.3 9.45l-7.72 7.72c-.78.78-.78 2.05 0 2.83L4 21.41c.39.39.9.59 1.41.59.51 0 1.02-.2 1.41-.59l7.78-7.78 2.81-2.81c.8-.78.8-2.07 0-2.86zM5.41 20L4 18.59l7.72-7.72 1.47 1.35L5.41 20z\"/>\n",
              "  </svg>\n",
              "      </button>\n",
              "      \n",
              "  <style>\n",
              "    .colab-df-container {\n",
              "      display:flex;\n",
              "      flex-wrap:wrap;\n",
              "      gap: 12px;\n",
              "    }\n",
              "\n",
              "    .colab-df-convert {\n",
              "      background-color: #E8F0FE;\n",
              "      border: none;\n",
              "      border-radius: 50%;\n",
              "      cursor: pointer;\n",
              "      display: none;\n",
              "      fill: #1967D2;\n",
              "      height: 32px;\n",
              "      padding: 0 0 0 0;\n",
              "      width: 32px;\n",
              "    }\n",
              "\n",
              "    .colab-df-convert:hover {\n",
              "      background-color: #E2EBFA;\n",
              "      box-shadow: 0px 1px 2px rgba(60, 64, 67, 0.3), 0px 1px 3px 1px rgba(60, 64, 67, 0.15);\n",
              "      fill: #174EA6;\n",
              "    }\n",
              "\n",
              "    [theme=dark] .colab-df-convert {\n",
              "      background-color: #3B4455;\n",
              "      fill: #D2E3FC;\n",
              "    }\n",
              "\n",
              "    [theme=dark] .colab-df-convert:hover {\n",
              "      background-color: #434B5C;\n",
              "      box-shadow: 0px 1px 3px 1px rgba(0, 0, 0, 0.15);\n",
              "      filter: drop-shadow(0px 1px 2px rgba(0, 0, 0, 0.3));\n",
              "      fill: #FFFFFF;\n",
              "    }\n",
              "  </style>\n",
              "\n",
              "      <script>\n",
              "        const buttonEl =\n",
              "          document.querySelector('#df-6ef69102-b858-4152-8de5-de44b4bfcaaa button.colab-df-convert');\n",
              "        buttonEl.style.display =\n",
              "          google.colab.kernel.accessAllowed ? 'block' : 'none';\n",
              "\n",
              "        async function convertToInteractive(key) {\n",
              "          const element = document.querySelector('#df-6ef69102-b858-4152-8de5-de44b4bfcaaa');\n",
              "          const dataTable =\n",
              "            await google.colab.kernel.invokeFunction('convertToInteractive',\n",
              "                                                     [key], {});\n",
              "          if (!dataTable) return;\n",
              "\n",
              "          const docLinkHtml = 'Like what you see? Visit the ' +\n",
              "            '<a target=\"_blank\" href=https://colab.research.google.com/notebooks/data_table.ipynb>data table notebook</a>'\n",
              "            + ' to learn more about interactive tables.';\n",
              "          element.innerHTML = '';\n",
              "          dataTable['output_type'] = 'display_data';\n",
              "          await google.colab.output.renderOutput(dataTable, element);\n",
              "          const docLink = document.createElement('div');\n",
              "          docLink.innerHTML = docLinkHtml;\n",
              "          element.appendChild(docLink);\n",
              "        }\n",
              "      </script>\n",
              "    </div>\n",
              "  </div>\n",
              "  "
            ]
          },
          "metadata": {},
          "execution_count": 40
        }
      ],
      "source": [
        "corr = pd.DataFrame(data = df.corr().iloc[:,7], index=df.columns)\n",
        "corr = corr.sort_values(by='TEY', ascending=False)\n",
        "corr"
      ]
    },
    {
      "cell_type": "code",
      "execution_count": null,
      "metadata": {
        "colab": {
          "base_uri": "https://localhost:8080/",
          "height": 415
        },
        "id": "kaecNR2QkKwM",
        "outputId": "883fa587-f791-4271-bd7f-6d796a06bb5c"
      },
      "outputs": [
        {
          "output_type": "execute_result",
          "data": {
            "text/plain": [
              "<matplotlib.axes._subplots.AxesSubplot at 0x7f008b327bd0>"
            ]
          },
          "metadata": {},
          "execution_count": 41
        },
        {
          "output_type": "display_data",
          "data": {
            "text/plain": [
              "<Figure size 864x432 with 1 Axes>"
            ],
            "image/png": "[encoded data removed]"
          },
          "metadata": {
            "needs_background": "light"
          }
        }
      ],
      "source": [
        "plt.title(\"Correlation plot between Target variables and independent variables\", y=1.01, fontsize=18)\n",
        "sns.barplot(x = corr.index, y = corr.TEY)"
      ]
    },
    {
      "cell_type": "code",
      "execution_count": null,
      "metadata": {
        "colab": {
          "base_uri": "https://localhost:8080/",
          "height": 646
        },
        "id": "ns4jN1F1kKuR",
        "outputId": "050b0863-7acc-460a-b49c-c6d6e99dba60"
      },
      "outputs": [
        {
          "output_type": "execute_result",
          "data": {
            "text/plain": [
              "Text(0.5, 1.0, 'Correlation Map of variables')"
            ]
          },
          "metadata": {},
          "execution_count": 42
        },
        {
          "output_type": "display_data",
          "data": {
            "text/plain": [
              "<Figure size 1296x720 with 2 Axes>"
            ],
            "image/png": "[encoded data removed]"
          },
          "metadata": {
            "needs_background": "light"
          }
        }
      ],
      "source": [
        "fig= plt.figure(figsize=(18, 10))\n",
        "sns.heatmap(df.corr(), annot=True);\n",
        "plt.xticks(rotation=45)\n",
        "plt.title(\"Correlation Map of variables\", fontsize=19)"
      ]
    },
    {
      "cell_type": "code",
      "execution_count": null,
      "metadata": {
        "colab": {
          "base_uri": "https://localhost:8080/",
          "height": 737
        },
        "id": "hP5KpGvPkKrZ",
        "outputId": "2d333594-faa2-42ce-d972-6b69395c4dba"
      },
      "outputs": [
        {
          "output_type": "stream",
          "name": "stdout",
          "text": [
            "Looking in indexes: https://pypi.org/simple, https://us-python.pkg.dev/colab-wheels/public/simple/\n",
            "Collecting ppscore\n",
            "  Downloading ppscore-1.3.0.tar.gz (17 kB)\n",
            "Requirement already satisfied: pandas<2.0.0,>=1.0.0 in /usr/local/lib/python3.7/dist-packages (from ppscore) (1.3.5)\n",
            "Requirement already satisfied: scikit-learn<2.0.0,>=0.20.2 in /usr/local/lib/python3.7/dist-packages (from ppscore) (1.0.2)\n",
            "Requirement already satisfied: numpy>=1.17.3 in /usr/local/lib/python3.7/dist-packages (from pandas<2.0.0,>=1.0.0->ppscore) (1.21.6)\n",
            "Requirement already satisfied: python-dateutil>=2.7.3 in /usr/local/lib/python3.7/dist-packages (from pandas<2.0.0,>=1.0.0->ppscore) (2.8.2)\n",
            "Requirement already satisfied: pytz>=2017.3 in /usr/local/lib/python3.7/dist-packages (from pandas<2.0.0,>=1.0.0->ppscore) (2022.6)\n",
            "Requirement already satisfied: six>=1.5 in /usr/local/lib/python3.7/dist-packages (from python-dateutil>=2.7.3->pandas<2.0.0,>=1.0.0->ppscore) (1.15.0)\n",
            "Requirement already satisfied: joblib>=0.11 in /usr/local/lib/python3.7/dist-packages (from scikit-learn<2.0.0,>=0.20.2->ppscore) (1.2.0)\n",
            "Requirement already satisfied: scipy>=1.1.0 in /usr/local/lib/python3.7/dist-packages (from scikit-learn<2.0.0,>=0.20.2->ppscore) (1.7.3)\n",
            "Requirement already satisfied: threadpoolctl>=2.0.0 in /usr/local/lib/python3.7/dist-packages (from scikit-learn<2.0.0,>=0.20.2->ppscore) (3.1.0)\n",
            "Building wheels for collected packages: ppscore\n",
            "  Building wheel for ppscore (setup.py) ... \u001b[?25l\u001b[?25hdone\n",
            "  Created wheel for ppscore: filename=ppscore-1.3.0-py2.py3-none-any.whl size=13167 sha256=9f2615a0d3b6db38f64cb5e5caf3a512357c1c45b6b957533e501cdf0af6bc7e\n",
            "  Stored in directory: /root/.cache/pip/wheels/df/f9/57/05d08363f49803608cd482928dce0a93d3aedcaddd3007c97d\n",
            "Successfully built ppscore\n",
            "Installing collected packages: ppscore\n",
            "Successfully installed ppscore-1.3.0\n"
          ]
        },
        {
          "output_type": "execute_result",
          "data": {
            "text/plain": [
              "        x    y   ppscore            case  is_valid_score               metric  \\\n",
              "84    TEY  TEY  1.000000  predict_itself            True                 None   \n",
              "95    CDP  TEY  0.872285      regression            True  mean absolute error   \n",
              "51   GTEP  TEY  0.832336      regression            True  mean absolute error   \n",
              "62    TIT  TEY  0.766040      regression            True  mean absolute error   \n",
              "73    TAT  TEY  0.226050      regression            True  mean absolute error   \n",
              "40   AFDP  TEY  0.152509      regression            True  mean absolute error   \n",
              "106    CO  TEY  0.055869      regression            True  mean absolute error   \n",
              "7      AT  TEY  0.000000      regression            True  mean absolute error   \n",
              "18     AP  TEY  0.000000      regression            True  mean absolute error   \n",
              "29     AH  TEY  0.000000      regression            True  mean absolute error   \n",
              "117   NOX  TEY  0.000000      regression            True  mean absolute error   \n",
              "\n",
              "     baseline_score  model_score                    model  \n",
              "84         0.000000     1.000000                     None  \n",
              "95        11.172076     1.426840  DecisionTreeRegressor()  \n",
              "51        11.172076     1.873154  DecisionTreeRegressor()  \n",
              "62        11.172076     2.613821  DecisionTreeRegressor()  \n",
              "73        11.172076     8.646631  DecisionTreeRegressor()  \n",
              "40        11.172076     9.468234  DecisionTreeRegressor()  \n",
              "106       11.172076    10.547906  DecisionTreeRegressor()  \n",
              "7         11.172076    16.007470  DecisionTreeRegressor()  \n",
              "18        11.172076    12.475617  DecisionTreeRegressor()  \n",
              "29        11.172076    16.950976  DecisionTreeRegressor()  \n",
              "117       11.172076    14.537337  DecisionTreeRegressor()  "
            ],
            "text/html": [
              "\n",
              "  <div id=\"df-1a154d7e-ec09-4e7f-8922-c27a013272ab\">\n",
              "    <div class=\"colab-df-container\">\n",
              "      <div>\n",
              "<style scoped>\n",
              "    .dataframe tbody tr th:only-of-type {\n",
              "        vertical-align: middle;\n",
              "    }\n",
              "\n",
              "    .dataframe tbody tr th {\n",
              "        vertical-align: top;\n",
              "    }\n",
              "\n",
              "    .dataframe thead th {\n",
              "        text-align: right;\n",
              "    }\n",
              "</style>\n",
              "<table border=\"1\" class=\"dataframe\">\n",
              "  <thead>\n",
              "    <tr style=\"text-align: right;\">\n",
              "      <th></th>\n",
              "      <th>x</th>\n",
              "      <th>y</th>\n",
              "      <th>ppscore</th>\n",
              "      <th>case</th>\n",
              "      <th>is_valid_score</th>\n",
              "      <th>metric</th>\n",
              "      <th>baseline_score</th>\n",
              "      <th>model_score</th>\n",
              "      <th>model</th>\n",
              "    </tr>\n",
              "  </thead>\n",
              "  <tbody>\n",
              "    <tr>\n",
              "      <th>84</th>\n",
              "      <td>TEY</td>\n",
              "      <td>TEY</td>\n",
              "      <td>1.000000</td>\n",
              "      <td>predict_itself</td>\n",
              "      <td>True</td>\n",
              "      <td>None</td>\n",
              "      <td>0.000000</td>\n",
              "      <td>1.000000</td>\n",
              "      <td>None</td>\n",
              "    </tr>\n",
              "    <tr>\n",
              "      <th>95</th>\n",
              "      <td>CDP</td>\n",
              "      <td>TEY</td>\n",
              "      <td>0.872285</td>\n",
              "      <td>regression</td>\n",
              "      <td>True</td>\n",
              "      <td>mean absolute error</td>\n",
              "      <td>11.172076</td>\n",
              "      <td>1.426840</td>\n",
              "      <td>DecisionTreeRegressor()</td>\n",
              "    </tr>\n",
              "    <tr>\n",
              "      <th>51</th>\n",
              "      <td>GTEP</td>\n",
              "      <td>TEY</td>\n",
              "      <td>0.832336</td>\n",
              "      <td>regression</td>\n",
              "      <td>True</td>\n",
              "      <td>mean absolute error</td>\n",
              "      <td>11.172076</td>\n",
              "      <td>1.873154</td>\n",
              "      <td>DecisionTreeRegressor()</td>\n",
              "    </tr>\n",
              "    <tr>\n",
              "      <th>62</th>\n",
              "      <td>TIT</td>\n",
              "      <td>TEY</td>\n",
              "      <td>0.766040</td>\n",
              "      <td>regression</td>\n",
              "      <td>True</td>\n",
              "      <td>mean absolute error</td>\n",
              "      <td>11.172076</td>\n",
              "      <td>2.613821</td>\n",
              "      <td>DecisionTreeRegressor()</td>\n",
              "    </tr>\n",
              "    <tr>\n",
              "      <th>73</th>\n",
              "      <td>TAT</td>\n",
              "      <td>TEY</td>\n",
              "      <td>0.226050</td>\n",
              "      <td>regression</td>\n",
              "      <td>True</td>\n",
              "      <td>mean absolute error</td>\n",
              "      <td>11.172076</td>\n",
              "      <td>8.646631</td>\n",
              "      <td>DecisionTreeRegressor()</td>\n",
              "    </tr>\n",
              "    <tr>\n",
              "      <th>40</th>\n",
              "      <td>AFDP</td>\n",
              "      <td>TEY</td>\n",
              "      <td>0.152509</td>\n",
              "      <td>regression</td>\n",
              "      <td>True</td>\n",
              "      <td>mean absolute error</td>\n",
              "      <td>11.172076</td>\n",
              "      <td>9.468234</td>\n",
              "      <td>DecisionTreeRegressor()</td>\n",
              "    </tr>\n",
              "    <tr>\n",
              "      <th>106</th>\n",
              "      <td>CO</td>\n",
              "      <td>TEY</td>\n",
              "      <td>0.055869</td>\n",
              "      <td>regression</td>\n",
              "      <td>True</td>\n",
              "      <td>mean absolute error</td>\n",
              "      <td>11.172076</td>\n",
              "      <td>10.547906</td>\n",
              "      <td>DecisionTreeRegressor()</td>\n",
              "    </tr>\n",
              "    <tr>\n",
              "      <th>7</th>\n",
              "      <td>AT</td>\n",
              "      <td>TEY</td>\n",
              "      <td>0.000000</td>\n",
              "      <td>regression</td>\n",
              "      <td>True</td>\n",
              "      <td>mean absolute error</td>\n",
              "      <td>11.172076</td>\n",
              "      <td>16.007470</td>\n",
              "      <td>DecisionTreeRegressor()</td>\n",
              "    </tr>\n",
              "    <tr>\n",
              "      <th>18</th>\n",
              "      <td>AP</td>\n",
              "      <td>TEY</td>\n",
              "      <td>0.000000</td>\n",
              "      <td>regression</td>\n",
              "      <td>True</td>\n",
              "      <td>mean absolute error</td>\n",
              "      <td>11.172076</td>\n",
              "      <td>12.475617</td>\n",
              "      <td>DecisionTreeRegressor()</td>\n",
              "    </tr>\n",
              "    <tr>\n",
              "      <th>29</th>\n",
              "      <td>AH</td>\n",
              "      <td>TEY</td>\n",
              "      <td>0.000000</td>\n",
              "      <td>regression</td>\n",
              "      <td>True</td>\n",
              "      <td>mean absolute error</td>\n",
              "      <td>11.172076</td>\n",
              "      <td>16.950976</td>\n",
              "      <td>DecisionTreeRegressor()</td>\n",
              "    </tr>\n",
              "    <tr>\n",
              "      <th>117</th>\n",
              "      <td>NOX</td>\n",
              "      <td>TEY</td>\n",
              "      <td>0.000000</td>\n",
              "      <td>regression</td>\n",
              "      <td>True</td>\n",
              "      <td>mean absolute error</td>\n",
              "      <td>11.172076</td>\n",
              "      <td>14.537337</td>\n",
              "      <td>DecisionTreeRegressor()</td>\n",
              "    </tr>\n",
              "  </tbody>\n",
              "</table>\n",
              "</div>\n",
              "      <button class=\"colab-df-convert\" onclick=\"convertToInteractive('df-1a154d7e-ec09-4e7f-8922-c27a013272ab')\"\n",
              "              title=\"Convert this dataframe to an interactive table.\"\n",
              "              style=\"display:none;\">\n",
              "        \n",
              "  <svg xmlns=\"http://www.w3.org/2000/svg\" height=\"24px\"viewBox=\"0 0 24 24\"\n",
              "       width=\"24px\">\n",
              "    <path d=\"M0 0h24v24H0V0z\" fill=\"none\"/>\n",
              "    <path d=\"M18.56 5.44l.94 2.06.94-2.06 2.06-.94-2.06-.94-.94-2.06-.94 2.06-2.06.94zm-11 1L8.5 8.5l.94-2.06 2.06-.94-2.06-.94L8.5 2.5l-.94 2.06-2.06.94zm10 10l.94 2.06.94-2.06 2.06-.94-2.06-.94-.94-2.06-.94 2.06-2.06.94z\"/><path d=\"M17.41 7.96l-1.37-1.37c-.4-.4-.92-.59-1.43-.59-.52 0-1.04.2-1.43.59L10.3 9.45l-7.72 7.72c-.78.78-.78 2.05 0 2.83L4 21.41c.39.39.9.59 1.41.59.51 0 1.02-.2 1.41-.59l7.78-7.78 2.81-2.81c.8-.78.8-2.07 0-2.86zM5.41 20L4 18.59l7.72-7.72 1.47 1.35L5.41 20z\"/>\n",
              "  </svg>\n",
              "      </button>\n",
              "      \n",
              "  <style>\n",
              "    .colab-df-container {\n",
              "      display:flex;\n",
              "      flex-wrap:wrap;\n",
              "      gap: 12px;\n",
              "    }\n",
              "\n",
              "    .colab-df-convert {\n",
              "      background-color: #E8F0FE;\n",
              "      border: none;\n",
              "      border-radius: 50%;\n",
              "      cursor: pointer;\n",
              "      display: none;\n",
              "      fill: #1967D2;\n",
              "      height: 32px;\n",
              "      padding: 0 0 0 0;\n",
              "      width: 32px;\n",
              "    }\n",
              "\n",
              "    .colab-df-convert:hover {\n",
              "      background-color: #E2EBFA;\n",
              "      box-shadow: 0px 1px 2px rgba(60, 64, 67, 0.3), 0px 1px 3px 1px rgba(60, 64, 67, 0.15);\n",
              "      fill: #174EA6;\n",
              "    }\n",
              "\n",
              "    [theme=dark] .colab-df-convert {\n",
              "      background-color: #3B4455;\n",
              "      fill: #D2E3FC;\n",
              "    }\n",
              "\n",
              "    [theme=dark] .colab-df-convert:hover {\n",
              "      background-color: #434B5C;\n",
              "      box-shadow: 0px 1px 3px 1px rgba(0, 0, 0, 0.15);\n",
              "      filter: drop-shadow(0px 1px 2px rgba(0, 0, 0, 0.3));\n",
              "      fill: #FFFFFF;\n",
              "    }\n",
              "  </style>\n",
              "\n",
              "      <script>\n",
              "        const buttonEl =\n",
              "          document.querySelector('#df-1a154d7e-ec09-4e7f-8922-c27a013272ab button.colab-df-convert');\n",
              "        buttonEl.style.display =\n",
              "          google.colab.kernel.accessAllowed ? 'block' : 'none';\n",
              "\n",
              "        async function convertToInteractive(key) {\n",
              "          const element = document.querySelector('#df-1a154d7e-ec09-4e7f-8922-c27a013272ab');\n",
              "          const dataTable =\n",
              "            await google.colab.kernel.invokeFunction('convertToInteractive',\n",
              "                                                     [key], {});\n",
              "          if (!dataTable) return;\n",
              "\n",
              "          const docLinkHtml = 'Like what you see? Visit the ' +\n",
              "            '<a target=\"_blank\" href=https://colab.research.google.com/notebooks/data_table.ipynb>data table notebook</a>'\n",
              "            + ' to learn more about interactive tables.';\n",
              "          element.innerHTML = '';\n",
              "          dataTable['output_type'] = 'display_data';\n",
              "          await google.colab.output.renderOutput(dataTable, element);\n",
              "          const docLink = document.createElement('div');\n",
              "          docLink.innerHTML = docLinkHtml;\n",
              "          element.appendChild(docLink);\n",
              "        }\n",
              "      </script>\n",
              "    </div>\n",
              "  </div>\n",
              "  "
            ]
          },
          "metadata": {},
          "execution_count": 43
        }
      ],
      "source": [
        "!pip install ppscore\n",
        "import ppscore as PPS\n",
        "score = PPS.matrix(df)\n",
        "score_s = score[score['y']=='TEY']\n",
        "score_s.sort_values(by=\"ppscore\", ascending=False)"
      ]
    },
    {
      "cell_type": "code",
      "execution_count": null,
      "metadata": {
        "colab": {
          "base_uri": "https://localhost:8080/",
          "height": 429
        },
        "id": "S5Bb3CrKkKpw",
        "outputId": "187b7ecc-5d3b-40f4-ef04-c07c9f68e498"
      },
      "outputs": [
        {
          "output_type": "execute_result",
          "data": {
            "text/plain": [
              "Text(0.5, 1.01, 'PPScore of each feature with Target variable')"
            ]
          },
          "metadata": {},
          "execution_count": 44
        },
        {
          "output_type": "display_data",
          "data": {
            "text/plain": [
              "<Figure size 1368x432 with 1 Axes>"
            ],
            "image/png": "[encoded data removed]"
          },
          "metadata": {
            "needs_background": "light"
          }
        }
      ],
      "source": [
        "plt.rcParams['figure.figsize']=(19,6)\n",
        "sns.barplot(x='x', y='ppscore', data=score_s.sort_values(by='ppscore', ascending=False))\n",
        "plt.title(\"PPScore of each feature with Target variable\", fontsize=17, y=1.01)"
      ]
    },
    {
      "cell_type": "code",
      "execution_count": null,
      "metadata": {
        "colab": {
          "base_uri": "https://localhost:8080/",
          "height": 551
        },
        "id": "FQr8KcThkfEi",
        "outputId": "b43d0425-1b58-4cc3-c8b6-fe09f5d1f1a0"
      },
      "outputs": [
        {
          "output_type": "execute_result",
          "data": {
            "text/plain": [
              "             AT       AP      AH    AFDP    GTEP     TIT     TAT     TEY  \\\n",
              "261     5.66020  1018.30  86.968  3.8404  21.079  1028.5  523.86  112.02   \n",
              "553     3.55320  1027.30  90.871  4.2162  21.464  1041.2  531.68  117.76   \n",
              "763     1.81300  1007.20  74.980  3.6967  19.958  1026.4  528.18  111.72   \n",
              "764     1.49880  1006.30  76.734  3.7063  20.041  1027.6  528.79  112.28   \n",
              "765     0.97877  1005.70  78.978  3.7379  20.084  1027.9  528.52  112.71   \n",
              "993     4.36570  1021.60  85.528  3.9574  20.263  1025.6  525.72  111.35   \n",
              "6896   17.13200  1010.80  80.503  2.2148  18.484  1034.1  539.98  102.07   \n",
              "7019    7.02760   997.23  97.761  2.0992  19.227  1037.2  538.53  109.63   \n",
              "7470    7.04730  1019.60  96.885  2.4558  19.501  1032.0  532.32  109.21   \n",
              "9920   15.17900  1017.60  71.630  2.7816  18.435  1027.8  533.45  103.64   \n",
              "13820  14.18300  1023.10  78.110  3.1557  18.869  1025.0  530.16  103.80   \n",
              "13921  11.58500  1018.20  92.751  3.2518  18.784  1009.5  519.71  100.83   \n",
              "14100   9.40970  1027.90  82.224  3.3003  18.987  1001.4  512.60  100.32   \n",
              "14278   9.90780  1026.10  65.923  3.3126  19.366  1024.5  527.21  108.08   \n",
              "14317   3.93850  1021.30  90.536  3.4765  20.031  1026.6  526.30  111.70   \n",
              "14320   3.49070  1020.80  91.519  3.5309  20.098  1025.8  525.35  111.91   \n",
              "\n",
              "          CDP       CO      NOX  anamoly  \n",
              "261    10.963  43.4280   99.237       -1  \n",
              "553    10.984   8.8254  106.840       -1  \n",
              "763    10.553  12.0900  114.940       -1  \n",
              "764    10.585  11.6520  112.830       -1  \n",
              "765    10.628  11.6910  108.880       -1  \n",
              "993    10.652  12.7860  112.270       -1  \n",
              "6896   10.182  11.5150  110.760       -1  \n",
              "7019   10.338  11.0440  105.060       -1  \n",
              "7470   10.567  11.3740  112.230       -1  \n",
              "9920   10.143  12.1440  113.800       -1  \n",
              "13820  10.340  13.3130  116.340       -1  \n",
              "13921  10.253  39.0500  111.780       -1  \n",
              "14100  10.495  23.6290  107.890       -1  \n",
              "14278  10.506  20.2710  105.660       -1  \n",
              "14317  10.683  14.0350  114.700       -1  \n",
              "14320  10.761  11.9210  113.900       -1  "
            ],
            "text/html": [
              "\n",
              "  <div id=\"df-6aa9a3b6-9bde-4a2e-8ed2-7cf546fd3f69\">\n",
              "    <div class=\"colab-df-container\">\n",
              "      <div>\n",
              "<style scoped>\n",
              "    .dataframe tbody tr th:only-of-type {\n",
              "        vertical-align: middle;\n",
              "    }\n",
              "\n",
              "    .dataframe tbody tr th {\n",
              "        vertical-align: top;\n",
              "    }\n",
              "\n",
              "    .dataframe thead th {\n",
              "        text-align: right;\n",
              "    }\n",
              "</style>\n",
              "<table border=\"1\" class=\"dataframe\">\n",
              "  <thead>\n",
              "    <tr style=\"text-align: right;\">\n",
              "      <th></th>\n",
              "      <th>AT</th>\n",
              "      <th>AP</th>\n",
              "      <th>AH</th>\n",
              "      <th>AFDP</th>\n",
              "      <th>GTEP</th>\n",
              "      <th>TIT</th>\n",
              "      <th>TAT</th>\n",
              "      <th>TEY</th>\n",
              "      <th>CDP</th>\n",
              "      <th>CO</th>\n",
              "      <th>NOX</th>\n",
              "      <th>anamoly</th>\n",
              "    </tr>\n",
              "  </thead>\n",
              "  <tbody>\n",
              "    <tr>\n",
              "      <th>261</th>\n",
              "      <td>5.66020</td>\n",
              "      <td>1018.30</td>\n",
              "      <td>86.968</td>\n",
              "      <td>3.8404</td>\n",
              "      <td>21.079</td>\n",
              "      <td>1028.5</td>\n",
              "      <td>523.86</td>\n",
              "      <td>112.02</td>\n",
              "      <td>10.963</td>\n",
              "      <td>43.4280</td>\n",
              "      <td>99.237</td>\n",
              "      <td>-1</td>\n",
              "    </tr>\n",
              "    <tr>\n",
              "      <th>553</th>\n",
              "      <td>3.55320</td>\n",
              "      <td>1027.30</td>\n",
              "      <td>90.871</td>\n",
              "      <td>4.2162</td>\n",
              "      <td>21.464</td>\n",
              "      <td>1041.2</td>\n",
              "      <td>531.68</td>\n",
              "      <td>117.76</td>\n",
              "      <td>10.984</td>\n",
              "      <td>8.8254</td>\n",
              "      <td>106.840</td>\n",
              "      <td>-1</td>\n",
              "    </tr>\n",
              "    <tr>\n",
              "      <th>763</th>\n",
              "      <td>1.81300</td>\n",
              "      <td>1007.20</td>\n",
              "      <td>74.980</td>\n",
              "      <td>3.6967</td>\n",
              "      <td>19.958</td>\n",
              "      <td>1026.4</td>\n",
              "      <td>528.18</td>\n",
              "      <td>111.72</td>\n",
              "      <td>10.553</td>\n",
              "      <td>12.0900</td>\n",
              "      <td>114.940</td>\n",
              "      <td>-1</td>\n",
              "    </tr>\n",
              "    <tr>\n",
              "      <th>764</th>\n",
              "      <td>1.49880</td>\n",
              "      <td>1006.30</td>\n",
              "      <td>76.734</td>\n",
              "      <td>3.7063</td>\n",
              "      <td>20.041</td>\n",
              "      <td>1027.6</td>\n",
              "      <td>528.79</td>\n",
              "      <td>112.28</td>\n",
              "      <td>10.585</td>\n",
              "      <td>11.6520</td>\n",
              "      <td>112.830</td>\n",
              "      <td>-1</td>\n",
              "    </tr>\n",
              "    <tr>\n",
              "      <th>765</th>\n",
              "      <td>0.97877</td>\n",
              "      <td>1005.70</td>\n",
              "      <td>78.978</td>\n",
              "      <td>3.7379</td>\n",
              "      <td>20.084</td>\n",
              "      <td>1027.9</td>\n",
              "      <td>528.52</td>\n",
              "      <td>112.71</td>\n",
              "      <td>10.628</td>\n",
              "      <td>11.6910</td>\n",
              "      <td>108.880</td>\n",
              "      <td>-1</td>\n",
              "    </tr>\n",
              "    <tr>\n",
              "      <th>993</th>\n",
              "      <td>4.36570</td>\n",
              "      <td>1021.60</td>\n",
              "      <td>85.528</td>\n",
              "      <td>3.9574</td>\n",
              "      <td>20.263</td>\n",
              "      <td>1025.6</td>\n",
              "      <td>525.72</td>\n",
              "      <td>111.35</td>\n",
              "      <td>10.652</td>\n",
              "      <td>12.7860</td>\n",
              "      <td>112.270</td>\n",
              "      <td>-1</td>\n",
              "    </tr>\n",
              "    <tr>\n",
              "      <th>6896</th>\n",
              "      <td>17.13200</td>\n",
              "      <td>1010.80</td>\n",
              "      <td>80.503</td>\n",
              "      <td>2.2148</td>\n",
              "      <td>18.484</td>\n",
              "      <td>1034.1</td>\n",
              "      <td>539.98</td>\n",
              "      <td>102.07</td>\n",
              "      <td>10.182</td>\n",
              "      <td>11.5150</td>\n",
              "      <td>110.760</td>\n",
              "      <td>-1</td>\n",
              "    </tr>\n",
              "    <tr>\n",
              "      <th>7019</th>\n",
              "      <td>7.02760</td>\n",
              "      <td>997.23</td>\n",
              "      <td>97.761</td>\n",
              "      <td>2.0992</td>\n",
              "      <td>19.227</td>\n",
              "      <td>1037.2</td>\n",
              "      <td>538.53</td>\n",
              "      <td>109.63</td>\n",
              "      <td>10.338</td>\n",
              "      <td>11.0440</td>\n",
              "      <td>105.060</td>\n",
              "      <td>-1</td>\n",
              "    </tr>\n",
              "    <tr>\n",
              "      <th>7470</th>\n",
              "      <td>7.04730</td>\n",
              "      <td>1019.60</td>\n",
              "      <td>96.885</td>\n",
              "      <td>2.4558</td>\n",
              "      <td>19.501</td>\n",
              "      <td>1032.0</td>\n",
              "      <td>532.32</td>\n",
              "      <td>109.21</td>\n",
              "      <td>10.567</td>\n",
              "      <td>11.3740</td>\n",
              "      <td>112.230</td>\n",
              "      <td>-1</td>\n",
              "    </tr>\n",
              "    <tr>\n",
              "      <th>9920</th>\n",
              "      <td>15.17900</td>\n",
              "      <td>1017.60</td>\n",
              "      <td>71.630</td>\n",
              "      <td>2.7816</td>\n",
              "      <td>18.435</td>\n",
              "      <td>1027.8</td>\n",
              "      <td>533.45</td>\n",
              "      <td>103.64</td>\n",
              "      <td>10.143</td>\n",
              "      <td>12.1440</td>\n",
              "      <td>113.800</td>\n",
              "      <td>-1</td>\n",
              "    </tr>\n",
              "    <tr>\n",
              "      <th>13820</th>\n",
              "      <td>14.18300</td>\n",
              "      <td>1023.10</td>\n",
              "      <td>78.110</td>\n",
              "      <td>3.1557</td>\n",
              "      <td>18.869</td>\n",
              "      <td>1025.0</td>\n",
              "      <td>530.16</td>\n",
              "      <td>103.80</td>\n",
              "      <td>10.340</td>\n",
              "      <td>13.3130</td>\n",
              "      <td>116.340</td>\n",
              "      <td>-1</td>\n",
              "    </tr>\n",
              "    <tr>\n",
              "      <th>13921</th>\n",
              "      <td>11.58500</td>\n",
              "      <td>1018.20</td>\n",
              "      <td>92.751</td>\n",
              "      <td>3.2518</td>\n",
              "      <td>18.784</td>\n",
              "      <td>1009.5</td>\n",
              "      <td>519.71</td>\n",
              "      <td>100.83</td>\n",
              "      <td>10.253</td>\n",
              "      <td>39.0500</td>\n",
              "      <td>111.780</td>\n",
              "      <td>-1</td>\n",
              "    </tr>\n",
              "    <tr>\n",
              "      <th>14100</th>\n",
              "      <td>9.40970</td>\n",
              "      <td>1027.90</td>\n",
              "      <td>82.224</td>\n",
              "      <td>3.3003</td>\n",
              "      <td>18.987</td>\n",
              "      <td>1001.4</td>\n",
              "      <td>512.60</td>\n",
              "      <td>100.32</td>\n",
              "      <td>10.495</td>\n",
              "      <td>23.6290</td>\n",
              "      <td>107.890</td>\n",
              "      <td>-1</td>\n",
              "    </tr>\n",
              "    <tr>\n",
              "      <th>14278</th>\n",
              "      <td>9.90780</td>\n",
              "      <td>1026.10</td>\n",
              "      <td>65.923</td>\n",
              "      <td>3.3126</td>\n",
              "      <td>19.366</td>\n",
              "      <td>1024.5</td>\n",
              "      <td>527.21</td>\n",
              "      <td>108.08</td>\n",
              "      <td>10.506</td>\n",
              "      <td>20.2710</td>\n",
              "      <td>105.660</td>\n",
              "      <td>-1</td>\n",
              "    </tr>\n",
              "    <tr>\n",
              "      <th>14317</th>\n",
              "      <td>3.93850</td>\n",
              "      <td>1021.30</td>\n",
              "      <td>90.536</td>\n",
              "      <td>3.4765</td>\n",
              "      <td>20.031</td>\n",
              "      <td>1026.6</td>\n",
              "      <td>526.30</td>\n",
              "      <td>111.70</td>\n",
              "      <td>10.683</td>\n",
              "      <td>14.0350</td>\n",
              "      <td>114.700</td>\n",
              "      <td>-1</td>\n",
              "    </tr>\n",
              "    <tr>\n",
              "      <th>14320</th>\n",
              "      <td>3.49070</td>\n",
              "      <td>1020.80</td>\n",
              "      <td>91.519</td>\n",
              "      <td>3.5309</td>\n",
              "      <td>20.098</td>\n",
              "      <td>1025.8</td>\n",
              "      <td>525.35</td>\n",
              "      <td>111.91</td>\n",
              "      <td>10.761</td>\n",
              "      <td>11.9210</td>\n",
              "      <td>113.900</td>\n",
              "      <td>-1</td>\n",
              "    </tr>\n",
              "  </tbody>\n",
              "</table>\n",
              "</div>\n",
              "      <button class=\"colab-df-convert\" onclick=\"convertToInteractive('df-6aa9a3b6-9bde-4a2e-8ed2-7cf546fd3f69')\"\n",
              "              title=\"Convert this dataframe to an interactive table.\"\n",
              "              style=\"display:none;\">\n",
              "        \n",
              "  <svg xmlns=\"http://www.w3.org/2000/svg\" height=\"24px\"viewBox=\"0 0 24 24\"\n",
              "       width=\"24px\">\n",
              "    <path d=\"M0 0h24v24H0V0z\" fill=\"none\"/>\n",
              "    <path d=\"M18.56 5.44l.94 2.06.94-2.06 2.06-.94-2.06-.94-.94-2.06-.94 2.06-2.06.94zm-11 1L8.5 8.5l.94-2.06 2.06-.94-2.06-.94L8.5 2.5l-.94 2.06-2.06.94zm10 10l.94 2.06.94-2.06 2.06-.94-2.06-.94-.94-2.06-.94 2.06-2.06.94z\"/><path d=\"M17.41 7.96l-1.37-1.37c-.4-.4-.92-.59-1.43-.59-.52 0-1.04.2-1.43.59L10.3 9.45l-7.72 7.72c-.78.78-.78 2.05 0 2.83L4 21.41c.39.39.9.59 1.41.59.51 0 1.02-.2 1.41-.59l7.78-7.78 2.81-2.81c.8-.78.8-2.07 0-2.86zM5.41 20L4 18.59l7.72-7.72 1.47 1.35L5.41 20z\"/>\n",
              "  </svg>\n",
              "      </button>\n",
              "      \n",
              "  <style>\n",
              "    .colab-df-container {\n",
              "      display:flex;\n",
              "      flex-wrap:wrap;\n",
              "      gap: 12px;\n",
              "    }\n",
              "\n",
              "    .colab-df-convert {\n",
              "      background-color: #E8F0FE;\n",
              "      border: none;\n",
              "      border-radius: 50%;\n",
              "      cursor: pointer;\n",
              "      display: none;\n",
              "      fill: #1967D2;\n",
              "      height: 32px;\n",
              "      padding: 0 0 0 0;\n",
              "      width: 32px;\n",
              "    }\n",
              "\n",
              "    .colab-df-convert:hover {\n",
              "      background-color: #E2EBFA;\n",
              "      box-shadow: 0px 1px 2px rgba(60, 64, 67, 0.3), 0px 1px 3px 1px rgba(60, 64, 67, 0.15);\n",
              "      fill: #174EA6;\n",
              "    }\n",
              "\n",
              "    [theme=dark] .colab-df-convert {\n",
              "      background-color: #3B4455;\n",
              "      fill: #D2E3FC;\n",
              "    }\n",
              "\n",
              "    [theme=dark] .colab-df-convert:hover {\n",
              "      background-color: #434B5C;\n",
              "      box-shadow: 0px 1px 3px 1px rgba(0, 0, 0, 0.15);\n",
              "      filter: drop-shadow(0px 1px 2px rgba(0, 0, 0, 0.3));\n",
              "      fill: #FFFFFF;\n",
              "    }\n",
              "  </style>\n",
              "\n",
              "      <script>\n",
              "        const buttonEl =\n",
              "          document.querySelector('#df-6aa9a3b6-9bde-4a2e-8ed2-7cf546fd3f69 button.colab-df-convert');\n",
              "        buttonEl.style.display =\n",
              "          google.colab.kernel.accessAllowed ? 'block' : 'none';\n",
              "\n",
              "        async function convertToInteractive(key) {\n",
              "          const element = document.querySelector('#df-6aa9a3b6-9bde-4a2e-8ed2-7cf546fd3f69');\n",
              "          const dataTable =\n",
              "            await google.colab.kernel.invokeFunction('convertToInteractive',\n",
              "                                                     [key], {});\n",
              "          if (!dataTable) return;\n",
              "\n",
              "          const docLinkHtml = 'Like what you see? Visit the ' +\n",
              "            '<a target=\"_blank\" href=https://colab.research.google.com/notebooks/data_table.ipynb>data table notebook</a>'\n",
              "            + ' to learn more about interactive tables.';\n",
              "          element.innerHTML = '';\n",
              "          dataTable['output_type'] = 'display_data';\n",
              "          await google.colab.output.renderOutput(dataTable, element);\n",
              "          const docLink = document.createElement('div');\n",
              "          docLink.innerHTML = docLinkHtml;\n",
              "          element.appendChild(docLink);\n",
              "        }\n",
              "      </script>\n",
              "    </div>\n",
              "  </div>\n",
              "  "
            ]
          },
          "metadata": {},
          "execution_count": 45
        }
      ],
      "source": [
        "#check for outliers\n",
        "from sklearn.ensemble import IsolationForest\n",
        "data1=df.copy()\n",
        "\n",
        "#training the model\n",
        "clf = IsolationForest(random_state=10, contamination=.001)\n",
        "clf.fit(data1)\n",
        "data1['anamoly'] = clf.predict(data1.iloc[:,0:11])\n",
        "outliers = data1[data1['anamoly']==-1]\n",
        "outliers"
      ]
    },
    {
      "cell_type": "markdown",
      "metadata": {
        "id": "l7KG8u49kuJb"
      },
      "source": [
        "#Data Preprocessing"
      ]
    },
    {
      "cell_type": "code",
      "execution_count": null,
      "metadata": {
        "colab": {
          "base_uri": "https://localhost:8080/"
        },
        "id": "ONr9lRxlku1b",
        "outputId": "d7be6d23-92df-453d-9c2f-dfa02d4567bb"
      },
      "outputs": [
        {
          "output_type": "execute_result",
          "data": {
            "text/plain": [
              "(15039, 11)"
            ]
          },
          "metadata": {},
          "execution_count": 46
        }
      ],
      "source": [
        "df.shape"
      ]
    },
    {
      "cell_type": "code",
      "execution_count": null,
      "metadata": {
        "colab": {
          "base_uri": "https://localhost:8080/"
        },
        "id": "0Iknh-7mk0pP",
        "outputId": "f7412cff-5019-49c5-c4a0-8d5421ccdf85"
      },
      "outputs": [
        {
          "output_type": "execute_result",
          "data": {
            "text/plain": [
              "(15023, 11)"
            ]
          },
          "metadata": {},
          "execution_count": 47
        }
      ],
      "source": [
        "#drop the outliers\n",
        "df = df.drop(outliers.index)\n",
        "df.shape"
      ]
    },
    {
      "cell_type": "code",
      "execution_count": null,
      "metadata": {
        "colab": {
          "base_uri": "https://localhost:8080/",
          "height": 423
        },
        "id": "lDO0H2tLk3aM",
        "outputId": "f4a10044-1cab-4489-cf11-0233b08de39c"
      },
      "outputs": [
        {
          "output_type": "execute_result",
          "data": {
            "text/plain": [
              "           AT      AP      AH    AFDP    GTEP     TIT     TAT     TEY     CDP  \\\n",
              "0      6.8594  1007.9  96.799  3.5000  19.663  1059.2  550.00  114.70  10.605   \n",
              "1      6.7850  1008.4  97.118  3.4998  19.728  1059.3  550.00  114.72  10.598   \n",
              "2      6.8977  1008.8  95.939  3.4824  19.779  1059.4  549.87  114.71  10.601   \n",
              "3      7.0569  1009.2  95.249  3.4805  19.792  1059.6  549.99  114.72  10.606   \n",
              "4      7.3978  1009.7  95.150  3.4976  19.765  1059.7  549.98  114.72  10.612   \n",
              "...       ...     ...     ...     ...     ...     ...     ...     ...     ...   \n",
              "15018  9.0301  1005.6  98.460  3.5421  19.164  1049.7  546.21  111.61  10.400   \n",
              "15019  7.8879  1005.9  99.093  3.5059  19.414  1046.3  543.22  111.78  10.433   \n",
              "15020  7.2647  1006.3  99.496  3.4770  19.530  1037.7  537.32  110.19  10.483   \n",
              "15021  7.0060  1006.8  99.008  3.4486  19.377  1043.2  541.24  110.74  10.533   \n",
              "15022  6.9279  1007.2  97.533  3.4275  19.306  1049.9  545.85  111.58  10.583   \n",
              "\n",
              "           CO     NOX  \n",
              "0      3.1547  82.722  \n",
              "1      3.2363  82.776  \n",
              "2      3.2012  82.468  \n",
              "3      3.1923  82.670  \n",
              "4      3.2484  82.311  \n",
              "...       ...     ...  \n",
              "15018  4.5186  79.559  \n",
              "15019  4.8470  79.917  \n",
              "15020  7.9632  90.912  \n",
              "15021  6.2494  93.227  \n",
              "15022  4.9816  92.498  \n",
              "\n",
              "[15023 rows x 11 columns]"
            ],
            "text/html": [
              "\n",
              "  <div id=\"df-5d444383-cfbf-4882-91f8-b93b712b2a35\">\n",
              "    <div class=\"colab-df-container\">\n",
              "      <div>\n",
              "<style scoped>\n",
              "    .dataframe tbody tr th:only-of-type {\n",
              "        vertical-align: middle;\n",
              "    }\n",
              "\n",
              "    .dataframe tbody tr th {\n",
              "        vertical-align: top;\n",
              "    }\n",
              "\n",
              "    .dataframe thead th {\n",
              "        text-align: right;\n",
              "    }\n",
              "</style>\n",
              "<table border=\"1\" class=\"dataframe\">\n",
              "  <thead>\n",
              "    <tr style=\"text-align: right;\">\n",
              "      <th></th>\n",
              "      <th>AT</th>\n",
              "      <th>AP</th>\n",
              "      <th>AH</th>\n",
              "      <th>AFDP</th>\n",
              "      <th>GTEP</th>\n",
              "      <th>TIT</th>\n",
              "      <th>TAT</th>\n",
              "      <th>TEY</th>\n",
              "      <th>CDP</th>\n",
              "      <th>CO</th>\n",
              "      <th>NOX</th>\n",
              "    </tr>\n",
              "  </thead>\n",
              "  <tbody>\n",
              "    <tr>\n",
              "      <th>0</th>\n",
              "      <td>6.8594</td>\n",
              "      <td>1007.9</td>\n",
              "      <td>96.799</td>\n",
              "      <td>3.5000</td>\n",
              "      <td>19.663</td>\n",
              "      <td>1059.2</td>\n",
              "      <td>550.00</td>\n",
              "      <td>114.70</td>\n",
              "      <td>10.605</td>\n",
              "      <td>3.1547</td>\n",
              "      <td>82.722</td>\n",
              "    </tr>\n",
              "    <tr>\n",
              "      <th>1</th>\n",
              "      <td>6.7850</td>\n",
              "      <td>1008.4</td>\n",
              "      <td>97.118</td>\n",
              "      <td>3.4998</td>\n",
              "      <td>19.728</td>\n",
              "      <td>1059.3</td>\n",
              "      <td>550.00</td>\n",
              "      <td>114.72</td>\n",
              "      <td>10.598</td>\n",
              "      <td>3.2363</td>\n",
              "      <td>82.776</td>\n",
              "    </tr>\n",
              "    <tr>\n",
              "      <th>2</th>\n",
              "      <td>6.8977</td>\n",
              "      <td>1008.8</td>\n",
              "      <td>95.939</td>\n",
              "      <td>3.4824</td>\n",
              "      <td>19.779</td>\n",
              "      <td>1059.4</td>\n",
              "      <td>549.87</td>\n",
              "      <td>114.71</td>\n",
              "      <td>10.601</td>\n",
              "      <td>3.2012</td>\n",
              "      <td>82.468</td>\n",
              "    </tr>\n",
              "    <tr>\n",
              "      <th>3</th>\n",
              "      <td>7.0569</td>\n",
              "      <td>1009.2</td>\n",
              "      <td>95.249</td>\n",
              "      <td>3.4805</td>\n",
              "      <td>19.792</td>\n",
              "      <td>1059.6</td>\n",
              "      <td>549.99</td>\n",
              "      <td>114.72</td>\n",
              "      <td>10.606</td>\n",
              "      <td>3.1923</td>\n",
              "      <td>82.670</td>\n",
              "    </tr>\n",
              "    <tr>\n",
              "      <th>4</th>\n",
              "      <td>7.3978</td>\n",
              "      <td>1009.7</td>\n",
              "      <td>95.150</td>\n",
              "      <td>3.4976</td>\n",
              "      <td>19.765</td>\n",
              "      <td>1059.7</td>\n",
              "      <td>549.98</td>\n",
              "      <td>114.72</td>\n",
              "      <td>10.612</td>\n",
              "      <td>3.2484</td>\n",
              "      <td>82.311</td>\n",
              "    </tr>\n",
              "    <tr>\n",
              "      <th>...</th>\n",
              "      <td>...</td>\n",
              "      <td>...</td>\n",
              "      <td>...</td>\n",
              "      <td>...</td>\n",
              "      <td>...</td>\n",
              "      <td>...</td>\n",
              "      <td>...</td>\n",
              "      <td>...</td>\n",
              "      <td>...</td>\n",
              "      <td>...</td>\n",
              "      <td>...</td>\n",
              "    </tr>\n",
              "    <tr>\n",
              "      <th>15018</th>\n",
              "      <td>9.0301</td>\n",
              "      <td>1005.6</td>\n",
              "      <td>98.460</td>\n",
              "      <td>3.5421</td>\n",
              "      <td>19.164</td>\n",
              "      <td>1049.7</td>\n",
              "      <td>546.21</td>\n",
              "      <td>111.61</td>\n",
              "      <td>10.400</td>\n",
              "      <td>4.5186</td>\n",
              "      <td>79.559</td>\n",
              "    </tr>\n",
              "    <tr>\n",
              "      <th>15019</th>\n",
              "      <td>7.8879</td>\n",
              "      <td>1005.9</td>\n",
              "      <td>99.093</td>\n",
              "      <td>3.5059</td>\n",
              "      <td>19.414</td>\n",
              "      <td>1046.3</td>\n",
              "      <td>543.22</td>\n",
              "      <td>111.78</td>\n",
              "      <td>10.433</td>\n",
              "      <td>4.8470</td>\n",
              "      <td>79.917</td>\n",
              "    </tr>\n",
              "    <tr>\n",
              "      <th>15020</th>\n",
              "      <td>7.2647</td>\n",
              "      <td>1006.3</td>\n",
              "      <td>99.496</td>\n",
              "      <td>3.4770</td>\n",
              "      <td>19.530</td>\n",
              "      <td>1037.7</td>\n",
              "      <td>537.32</td>\n",
              "      <td>110.19</td>\n",
              "      <td>10.483</td>\n",
              "      <td>7.9632</td>\n",
              "      <td>90.912</td>\n",
              "    </tr>\n",
              "    <tr>\n",
              "      <th>15021</th>\n",
              "      <td>7.0060</td>\n",
              "      <td>1006.8</td>\n",
              "      <td>99.008</td>\n",
              "      <td>3.4486</td>\n",
              "      <td>19.377</td>\n",
              "      <td>1043.2</td>\n",
              "      <td>541.24</td>\n",
              "      <td>110.74</td>\n",
              "      <td>10.533</td>\n",
              "      <td>6.2494</td>\n",
              "      <td>93.227</td>\n",
              "    </tr>\n",
              "    <tr>\n",
              "      <th>15022</th>\n",
              "      <td>6.9279</td>\n",
              "      <td>1007.2</td>\n",
              "      <td>97.533</td>\n",
              "      <td>3.4275</td>\n",
              "      <td>19.306</td>\n",
              "      <td>1049.9</td>\n",
              "      <td>545.85</td>\n",
              "      <td>111.58</td>\n",
              "      <td>10.583</td>\n",
              "      <td>4.9816</td>\n",
              "      <td>92.498</td>\n",
              "    </tr>\n",
              "  </tbody>\n",
              "</table>\n",
              "<p>15023 rows × 11 columns</p>\n",
              "</div>\n",
              "      <button class=\"colab-df-convert\" onclick=\"convertToInteractive('df-5d444383-cfbf-4882-91f8-b93b712b2a35')\"\n",
              "              title=\"Convert this dataframe to an interactive table.\"\n",
              "              style=\"display:none;\">\n",
              "        \n",
              "  <svg xmlns=\"http://www.w3.org/2000/svg\" height=\"24px\"viewBox=\"0 0 24 24\"\n",
              "       width=\"24px\">\n",
              "    <path d=\"M0 0h24v24H0V0z\" fill=\"none\"/>\n",
              "    <path d=\"M18.56 5.44l.94 2.06.94-2.06 2.06-.94-2.06-.94-.94-2.06-.94 2.06-2.06.94zm-11 1L8.5 8.5l.94-2.06 2.06-.94-2.06-.94L8.5 2.5l-.94 2.06-2.06.94zm10 10l.94 2.06.94-2.06 2.06-.94-2.06-.94-.94-2.06-.94 2.06-2.06.94z\"/><path d=\"M17.41 7.96l-1.37-1.37c-.4-.4-.92-.59-1.43-.59-.52 0-1.04.2-1.43.59L10.3 9.45l-7.72 7.72c-.78.78-.78 2.05 0 2.83L4 21.41c.39.39.9.59 1.41.59.51 0 1.02-.2 1.41-.59l7.78-7.78 2.81-2.81c.8-.78.8-2.07 0-2.86zM5.41 20L4 18.59l7.72-7.72 1.47 1.35L5.41 20z\"/>\n",
              "  </svg>\n",
              "      </button>\n",
              "      \n",
              "  <style>\n",
              "    .colab-df-container {\n",
              "      display:flex;\n",
              "      flex-wrap:wrap;\n",
              "      gap: 12px;\n",
              "    }\n",
              "\n",
              "    .colab-df-convert {\n",
              "      background-color: #E8F0FE;\n",
              "      border: none;\n",
              "      border-radius: 50%;\n",
              "      cursor: pointer;\n",
              "      display: none;\n",
              "      fill: #1967D2;\n",
              "      height: 32px;\n",
              "      padding: 0 0 0 0;\n",
              "      width: 32px;\n",
              "    }\n",
              "\n",
              "    .colab-df-convert:hover {\n",
              "      background-color: #E2EBFA;\n",
              "      box-shadow: 0px 1px 2px rgba(60, 64, 67, 0.3), 0px 1px 3px 1px rgba(60, 64, 67, 0.15);\n",
              "      fill: #174EA6;\n",
              "    }\n",
              "\n",
              "    [theme=dark] .colab-df-convert {\n",
              "      background-color: #3B4455;\n",
              "      fill: #D2E3FC;\n",
              "    }\n",
              "\n",
              "    [theme=dark] .colab-df-convert:hover {\n",
              "      background-color: #434B5C;\n",
              "      box-shadow: 0px 1px 3px 1px rgba(0, 0, 0, 0.15);\n",
              "      filter: drop-shadow(0px 1px 2px rgba(0, 0, 0, 0.3));\n",
              "      fill: #FFFFFF;\n",
              "    }\n",
              "  </style>\n",
              "\n",
              "      <script>\n",
              "        const buttonEl =\n",
              "          document.querySelector('#df-5d444383-cfbf-4882-91f8-b93b712b2a35 button.colab-df-convert');\n",
              "        buttonEl.style.display =\n",
              "          google.colab.kernel.accessAllowed ? 'block' : 'none';\n",
              "\n",
              "        async function convertToInteractive(key) {\n",
              "          const element = document.querySelector('#df-5d444383-cfbf-4882-91f8-b93b712b2a35');\n",
              "          const dataTable =\n",
              "            await google.colab.kernel.invokeFunction('convertToInteractive',\n",
              "                                                     [key], {});\n",
              "          if (!dataTable) return;\n",
              "\n",
              "          const docLinkHtml = 'Like what you see? Visit the ' +\n",
              "            '<a target=\"_blank\" href=https://colab.research.google.com/notebooks/data_table.ipynb>data table notebook</a>'\n",
              "            + ' to learn more about interactive tables.';\n",
              "          element.innerHTML = '';\n",
              "          dataTable['output_type'] = 'display_data';\n",
              "          await google.colab.output.renderOutput(dataTable, element);\n",
              "          const docLink = document.createElement('div');\n",
              "          docLink.innerHTML = docLinkHtml;\n",
              "          element.appendChild(docLink);\n",
              "        }\n",
              "      </script>\n",
              "    </div>\n",
              "  </div>\n",
              "  "
            ]
          },
          "metadata": {},
          "execution_count": 48
        }
      ],
      "source": [
        "#reset index after dropping outliers\n",
        "df = df.reset_index()\n",
        "df = df.drop('index', axis = 1)\n",
        "df"
      ]
    },
    {
      "cell_type": "code",
      "execution_count": null,
      "metadata": {
        "id": "kInxYKoEk5EW"
      },
      "outputs": [],
      "source": [
        "df = df.drop(['AT', 'AP', 'AH', 'NOX'], axis=1)"
      ]
    },
    {
      "cell_type": "code",
      "execution_count": null,
      "metadata": {
        "colab": {
          "base_uri": "https://localhost:8080/"
        },
        "id": "v8QfX39Gk7jP",
        "outputId": "e42f08f4-694a-48ac-fc5b-850f62196e1d"
      },
      "outputs": [
        {
          "output_type": "execute_result",
          "data": {
            "text/plain": [
              "(15023, 7)"
            ]
          },
          "metadata": {},
          "execution_count": 50
        }
      ],
      "source": [
        "df.shape"
      ]
    },
    {
      "cell_type": "code",
      "execution_count": null,
      "metadata": {
        "id": "C1W8YnbWlFSs"
      },
      "outputs": [],
      "source": [
        "#Standardize & Normalize the data\n",
        "norm = MinMaxScaler()\n",
        "std = StandardScaler()\n",
        "\n",
        "df_norm = pd.DataFrame(norm.fit_transform(df), columns=df.columns)            #data between -3 to +3\n",
        "df_std = pd.DataFrame(std.fit_transform(df), columns=df.columns)            #data between -1 to +1"
      ]
    },
    {
      "cell_type": "code",
      "execution_count": null,
      "metadata": {
        "colab": {
          "base_uri": "https://localhost:8080/",
          "height": 423
        },
        "id": "WBBGjMiClSc0",
        "outputId": "be7dca35-4d0b-49c6-944e-a0679d30afad"
      },
      "outputs": [
        {
          "output_type": "execute_result",
          "data": {
            "text/plain": [
              "           AFDP      GTEP       TIT       TAT       TEY       CDP        CO\n",
              "2695   0.854417  1.149372  1.000825 -1.023748  1.103034  1.257990 -0.305497\n",
              "7283  -1.837787 -0.411390  0.032875  0.586844 -0.023119 -0.319279 -0.102255\n",
              "4537   0.079819  0.138988  0.544245  0.607231  0.062244  0.133313 -0.554879\n",
              "5098  -1.064506 -1.393008 -1.665605  0.581747 -1.552056 -1.532841  1.618060\n",
              "12948 -0.228572  0.107346  0.550332  0.580473 -0.030707  0.073451 -0.772065\n",
              "...         ...       ...       ...       ...       ...       ...       ...\n",
              "6131  -0.650290 -1.497522 -1.799535  0.576650 -1.628566 -1.502003  1.619179\n",
              "5860   0.039675 -0.371358 -0.131494  0.607231 -0.468268 -0.423583 -0.314166\n",
              "4255  -0.923670 -1.271235 -1.525587  0.591941 -1.476810 -1.367768  2.261343\n",
              "10743 -1.496491 -1.245825 -1.422095  0.585570 -1.397139 -1.193624  0.277852\n",
              "13313 -0.771909 -0.616103 -0.478496  0.579199 -0.611804 -0.653961  0.341421\n",
              "\n",
              "[1502 rows x 7 columns]"
            ],
            "text/html": [
              "\n",
              "  <div id=\"df-0a4a4cb1-1894-4286-9427-8eece00480eb\">\n",
              "    <div class=\"colab-df-container\">\n",
              "      <div>\n",
              "<style scoped>\n",
              "    .dataframe tbody tr th:only-of-type {\n",
              "        vertical-align: middle;\n",
              "    }\n",
              "\n",
              "    .dataframe tbody tr th {\n",
              "        vertical-align: top;\n",
              "    }\n",
              "\n",
              "    .dataframe thead th {\n",
              "        text-align: right;\n",
              "    }\n",
              "</style>\n",
              "<table border=\"1\" class=\"dataframe\">\n",
              "  <thead>\n",
              "    <tr style=\"text-align: right;\">\n",
              "      <th></th>\n",
              "      <th>AFDP</th>\n",
              "      <th>GTEP</th>\n",
              "      <th>TIT</th>\n",
              "      <th>TAT</th>\n",
              "      <th>TEY</th>\n",
              "      <th>CDP</th>\n",
              "      <th>CO</th>\n",
              "    </tr>\n",
              "  </thead>\n",
              "  <tbody>\n",
              "    <tr>\n",
              "      <th>2695</th>\n",
              "      <td>0.854417</td>\n",
              "      <td>1.149372</td>\n",
              "      <td>1.000825</td>\n",
              "      <td>-1.023748</td>\n",
              "      <td>1.103034</td>\n",
              "      <td>1.257990</td>\n",
              "      <td>-0.305497</td>\n",
              "    </tr>\n",
              "    <tr>\n",
              "      <th>7283</th>\n",
              "      <td>-1.837787</td>\n",
              "      <td>-0.411390</td>\n",
              "      <td>0.032875</td>\n",
              "      <td>0.586844</td>\n",
              "      <td>-0.023119</td>\n",
              "      <td>-0.319279</td>\n",
              "      <td>-0.102255</td>\n",
              "    </tr>\n",
              "    <tr>\n",
              "      <th>4537</th>\n",
              "      <td>0.079819</td>\n",
              "      <td>0.138988</td>\n",
              "      <td>0.544245</td>\n",
              "      <td>0.607231</td>\n",
              "      <td>0.062244</td>\n",
              "      <td>0.133313</td>\n",
              "      <td>-0.554879</td>\n",
              "    </tr>\n",
              "    <tr>\n",
              "      <th>5098</th>\n",
              "      <td>-1.064506</td>\n",
              "      <td>-1.393008</td>\n",
              "      <td>-1.665605</td>\n",
              "      <td>0.581747</td>\n",
              "      <td>-1.552056</td>\n",
              "      <td>-1.532841</td>\n",
              "      <td>1.618060</td>\n",
              "    </tr>\n",
              "    <tr>\n",
              "      <th>12948</th>\n",
              "      <td>-0.228572</td>\n",
              "      <td>0.107346</td>\n",
              "      <td>0.550332</td>\n",
              "      <td>0.580473</td>\n",
              "      <td>-0.030707</td>\n",
              "      <td>0.073451</td>\n",
              "      <td>-0.772065</td>\n",
              "    </tr>\n",
              "    <tr>\n",
              "      <th>...</th>\n",
              "      <td>...</td>\n",
              "      <td>...</td>\n",
              "      <td>...</td>\n",
              "      <td>...</td>\n",
              "      <td>...</td>\n",
              "      <td>...</td>\n",
              "      <td>...</td>\n",
              "    </tr>\n",
              "    <tr>\n",
              "      <th>6131</th>\n",
              "      <td>-0.650290</td>\n",
              "      <td>-1.497522</td>\n",
              "      <td>-1.799535</td>\n",
              "      <td>0.576650</td>\n",
              "      <td>-1.628566</td>\n",
              "      <td>-1.502003</td>\n",
              "      <td>1.619179</td>\n",
              "    </tr>\n",
              "    <tr>\n",
              "      <th>5860</th>\n",
              "      <td>0.039675</td>\n",
              "      <td>-0.371358</td>\n",
              "      <td>-0.131494</td>\n",
              "      <td>0.607231</td>\n",
              "      <td>-0.468268</td>\n",
              "      <td>-0.423583</td>\n",
              "      <td>-0.314166</td>\n",
              "    </tr>\n",
              "    <tr>\n",
              "      <th>4255</th>\n",
              "      <td>-0.923670</td>\n",
              "      <td>-1.271235</td>\n",
              "      <td>-1.525587</td>\n",
              "      <td>0.591941</td>\n",
              "      <td>-1.476810</td>\n",
              "      <td>-1.367768</td>\n",
              "      <td>2.261343</td>\n",
              "    </tr>\n",
              "    <tr>\n",
              "      <th>10743</th>\n",
              "      <td>-1.496491</td>\n",
              "      <td>-1.245825</td>\n",
              "      <td>-1.422095</td>\n",
              "      <td>0.585570</td>\n",
              "      <td>-1.397139</td>\n",
              "      <td>-1.193624</td>\n",
              "      <td>0.277852</td>\n",
              "    </tr>\n",
              "    <tr>\n",
              "      <th>13313</th>\n",
              "      <td>-0.771909</td>\n",
              "      <td>-0.616103</td>\n",
              "      <td>-0.478496</td>\n",
              "      <td>0.579199</td>\n",
              "      <td>-0.611804</td>\n",
              "      <td>-0.653961</td>\n",
              "      <td>0.341421</td>\n",
              "    </tr>\n",
              "  </tbody>\n",
              "</table>\n",
              "<p>1502 rows × 7 columns</p>\n",
              "</div>\n",
              "      <button class=\"colab-df-convert\" onclick=\"convertToInteractive('df-0a4a4cb1-1894-4286-9427-8eece00480eb')\"\n",
              "              title=\"Convert this dataframe to an interactive table.\"\n",
              "              style=\"display:none;\">\n",
              "        \n",
              "  <svg xmlns=\"http://www.w3.org/2000/svg\" height=\"24px\"viewBox=\"0 0 24 24\"\n",
              "       width=\"24px\">\n",
              "    <path d=\"M0 0h24v24H0V0z\" fill=\"none\"/>\n",
              "    <path d=\"M18.56 5.44l.94 2.06.94-2.06 2.06-.94-2.06-.94-.94-2.06-.94 2.06-2.06.94zm-11 1L8.5 8.5l.94-2.06 2.06-.94-2.06-.94L8.5 2.5l-.94 2.06-2.06.94zm10 10l.94 2.06.94-2.06 2.06-.94-2.06-.94-.94-2.06-.94 2.06-2.06.94z\"/><path d=\"M17.41 7.96l-1.37-1.37c-.4-.4-.92-.59-1.43-.59-.52 0-1.04.2-1.43.59L10.3 9.45l-7.72 7.72c-.78.78-.78 2.05 0 2.83L4 21.41c.39.39.9.59 1.41.59.51 0 1.02-.2 1.41-.59l7.78-7.78 2.81-2.81c.8-.78.8-2.07 0-2.86zM5.41 20L4 18.59l7.72-7.72 1.47 1.35L5.41 20z\"/>\n",
              "  </svg>\n",
              "      </button>\n",
              "      \n",
              "  <style>\n",
              "    .colab-df-container {\n",
              "      display:flex;\n",
              "      flex-wrap:wrap;\n",
              "      gap: 12px;\n",
              "    }\n",
              "\n",
              "    .colab-df-convert {\n",
              "      background-color: #E8F0FE;\n",
              "      border: none;\n",
              "      border-radius: 50%;\n",
              "      cursor: pointer;\n",
              "      display: none;\n",
              "      fill: #1967D2;\n",
              "      height: 32px;\n",
              "      padding: 0 0 0 0;\n",
              "      width: 32px;\n",
              "    }\n",
              "\n",
              "    .colab-df-convert:hover {\n",
              "      background-color: #E2EBFA;\n",
              "      box-shadow: 0px 1px 2px rgba(60, 64, 67, 0.3), 0px 1px 3px 1px rgba(60, 64, 67, 0.15);\n",
              "      fill: #174EA6;\n",
              "    }\n",
              "\n",
              "    [theme=dark] .colab-df-convert {\n",
              "      background-color: #3B4455;\n",
              "      fill: #D2E3FC;\n",
              "    }\n",
              "\n",
              "    [theme=dark] .colab-df-convert:hover {\n",
              "      background-color: #434B5C;\n",
              "      box-shadow: 0px 1px 3px 1px rgba(0, 0, 0, 0.15);\n",
              "      filter: drop-shadow(0px 1px 2px rgba(0, 0, 0, 0.3));\n",
              "      fill: #FFFFFF;\n",
              "    }\n",
              "  </style>\n",
              "\n",
              "      <script>\n",
              "        const buttonEl =\n",
              "          document.querySelector('#df-0a4a4cb1-1894-4286-9427-8eece00480eb button.colab-df-convert');\n",
              "        buttonEl.style.display =\n",
              "          google.colab.kernel.accessAllowed ? 'block' : 'none';\n",
              "\n",
              "        async function convertToInteractive(key) {\n",
              "          const element = document.querySelector('#df-0a4a4cb1-1894-4286-9427-8eece00480eb');\n",
              "          const dataTable =\n",
              "            await google.colab.kernel.invokeFunction('convertToInteractive',\n",
              "                                                     [key], {});\n",
              "          if (!dataTable) return;\n",
              "\n",
              "          const docLinkHtml = 'Like what you see? Visit the ' +\n",
              "            '<a target=\"_blank\" href=https://colab.research.google.com/notebooks/data_table.ipynb>data table notebook</a>'\n",
              "            + ' to learn more about interactive tables.';\n",
              "          element.innerHTML = '';\n",
              "          dataTable['output_type'] = 'display_data';\n",
              "          await google.colab.output.renderOutput(dataTable, element);\n",
              "          const docLink = document.createElement('div');\n",
              "          docLink.innerHTML = docLinkHtml;\n",
              "          element.appendChild(docLink);\n",
              "        }\n",
              "      </script>\n",
              "    </div>\n",
              "  </div>\n",
              "  "
            ]
          },
          "metadata": {},
          "execution_count": 52
        }
      ],
      "source": [
        "#we will take a small model as this is large data and will take huge amount of time to build model\n",
        "#to reandomly shuffle and select a % of data\n",
        "temp = df_std.sample(frac=1)          #shuffle all the data\n",
        "temp_s = df_std.sample(frac=0.1)      #shuffle and select only 10% of the data randomly to train\n",
        "temp_s"
      ]
    },
    {
      "cell_type": "code",
      "execution_count": null,
      "metadata": {
        "colab": {
          "base_uri": "https://localhost:8080/",
          "height": 423
        },
        "id": "43RKKq2clS-r",
        "outputId": "be855590-2937-4f9a-9cb9-c67ba2a8e483"
      },
      "outputs": [
        {
          "output_type": "execute_result",
          "data": {
            "text/plain": [
              "           AFDP      GTEP       TIT       TAT       CDP        CO\n",
              "2695   0.854417  1.149372  1.000825 -1.023748  1.257990 -0.305497\n",
              "7283  -1.837787 -0.411390  0.032875  0.586844 -0.319279 -0.102255\n",
              "4537   0.079819  0.138988  0.544245  0.607231  0.133313 -0.554879\n",
              "5098  -1.064506 -1.393008 -1.665605  0.581747 -1.532841  1.618060\n",
              "12948 -0.228572  0.107346  0.550332  0.580473  0.073451 -0.772065\n",
              "...         ...       ...       ...       ...       ...       ...\n",
              "6131  -0.650290 -1.497522 -1.799535  0.576650 -1.502003  1.619179\n",
              "5860   0.039675 -0.371358 -0.131494  0.607231 -0.423583 -0.314166\n",
              "4255  -0.923670 -1.271235 -1.525587  0.591941 -1.367768  2.261343\n",
              "10743 -1.496491 -1.245825 -1.422095  0.585570 -1.193624  0.277852\n",
              "13313 -0.771909 -0.616103 -0.478496  0.579199 -0.653961  0.341421\n",
              "\n",
              "[1502 rows x 6 columns]"
            ],
            "text/html": [
              "\n",
              "  <div id=\"df-d131874d-457a-4d42-9375-68822aa74494\">\n",
              "    <div class=\"colab-df-container\">\n",
              "      <div>\n",
              "<style scoped>\n",
              "    .dataframe tbody tr th:only-of-type {\n",
              "        vertical-align: middle;\n",
              "    }\n",
              "\n",
              "    .dataframe tbody tr th {\n",
              "        vertical-align: top;\n",
              "    }\n",
              "\n",
              "    .dataframe thead th {\n",
              "        text-align: right;\n",
              "    }\n",
              "</style>\n",
              "<table border=\"1\" class=\"dataframe\">\n",
              "  <thead>\n",
              "    <tr style=\"text-align: right;\">\n",
              "      <th></th>\n",
              "      <th>AFDP</th>\n",
              "      <th>GTEP</th>\n",
              "      <th>TIT</th>\n",
              "      <th>TAT</th>\n",
              "      <th>CDP</th>\n",
              "      <th>CO</th>\n",
              "    </tr>\n",
              "  </thead>\n",
              "  <tbody>\n",
              "    <tr>\n",
              "      <th>2695</th>\n",
              "      <td>0.854417</td>\n",
              "      <td>1.149372</td>\n",
              "      <td>1.000825</td>\n",
              "      <td>-1.023748</td>\n",
              "      <td>1.257990</td>\n",
              "      <td>-0.305497</td>\n",
              "    </tr>\n",
              "    <tr>\n",
              "      <th>7283</th>\n",
              "      <td>-1.837787</td>\n",
              "      <td>-0.411390</td>\n",
              "      <td>0.032875</td>\n",
              "      <td>0.586844</td>\n",
              "      <td>-0.319279</td>\n",
              "      <td>-0.102255</td>\n",
              "    </tr>\n",
              "    <tr>\n",
              "      <th>4537</th>\n",
              "      <td>0.079819</td>\n",
              "      <td>0.138988</td>\n",
              "      <td>0.544245</td>\n",
              "      <td>0.607231</td>\n",
              "      <td>0.133313</td>\n",
              "      <td>-0.554879</td>\n",
              "    </tr>\n",
              "    <tr>\n",
              "      <th>5098</th>\n",
              "      <td>-1.064506</td>\n",
              "      <td>-1.393008</td>\n",
              "      <td>-1.665605</td>\n",
              "      <td>0.581747</td>\n",
              "      <td>-1.532841</td>\n",
              "      <td>1.618060</td>\n",
              "    </tr>\n",
              "    <tr>\n",
              "      <th>12948</th>\n",
              "      <td>-0.228572</td>\n",
              "      <td>0.107346</td>\n",
              "      <td>0.550332</td>\n",
              "      <td>0.580473</td>\n",
              "      <td>0.073451</td>\n",
              "      <td>-0.772065</td>\n",
              "    </tr>\n",
              "    <tr>\n",
              "      <th>...</th>\n",
              "      <td>...</td>\n",
              "      <td>...</td>\n",
              "      <td>...</td>\n",
              "      <td>...</td>\n",
              "      <td>...</td>\n",
              "      <td>...</td>\n",
              "    </tr>\n",
              "    <tr>\n",
              "      <th>6131</th>\n",
              "      <td>-0.650290</td>\n",
              "      <td>-1.497522</td>\n",
              "      <td>-1.799535</td>\n",
              "      <td>0.576650</td>\n",
              "      <td>-1.502003</td>\n",
              "      <td>1.619179</td>\n",
              "    </tr>\n",
              "    <tr>\n",
              "      <th>5860</th>\n",
              "      <td>0.039675</td>\n",
              "      <td>-0.371358</td>\n",
              "      <td>-0.131494</td>\n",
              "      <td>0.607231</td>\n",
              "      <td>-0.423583</td>\n",
              "      <td>-0.314166</td>\n",
              "    </tr>\n",
              "    <tr>\n",
              "      <th>4255</th>\n",
              "      <td>-0.923670</td>\n",
              "      <td>-1.271235</td>\n",
              "      <td>-1.525587</td>\n",
              "      <td>0.591941</td>\n",
              "      <td>-1.367768</td>\n",
              "      <td>2.261343</td>\n",
              "    </tr>\n",
              "    <tr>\n",
              "      <th>10743</th>\n",
              "      <td>-1.496491</td>\n",
              "      <td>-1.245825</td>\n",
              "      <td>-1.422095</td>\n",
              "      <td>0.585570</td>\n",
              "      <td>-1.193624</td>\n",
              "      <td>0.277852</td>\n",
              "    </tr>\n",
              "    <tr>\n",
              "      <th>13313</th>\n",
              "      <td>-0.771909</td>\n",
              "      <td>-0.616103</td>\n",
              "      <td>-0.478496</td>\n",
              "      <td>0.579199</td>\n",
              "      <td>-0.653961</td>\n",
              "      <td>0.341421</td>\n",
              "    </tr>\n",
              "  </tbody>\n",
              "</table>\n",
              "<p>1502 rows × 6 columns</p>\n",
              "</div>\n",
              "      <button class=\"colab-df-convert\" onclick=\"convertToInteractive('df-d131874d-457a-4d42-9375-68822aa74494')\"\n",
              "              title=\"Convert this dataframe to an interactive table.\"\n",
              "              style=\"display:none;\">\n",
              "        \n",
              "  <svg xmlns=\"http://www.w3.org/2000/svg\" height=\"24px\"viewBox=\"0 0 24 24\"\n",
              "       width=\"24px\">\n",
              "    <path d=\"M0 0h24v24H0V0z\" fill=\"none\"/>\n",
              "    <path d=\"M18.56 5.44l.94 2.06.94-2.06 2.06-.94-2.06-.94-.94-2.06-.94 2.06-2.06.94zm-11 1L8.5 8.5l.94-2.06 2.06-.94-2.06-.94L8.5 2.5l-.94 2.06-2.06.94zm10 10l.94 2.06.94-2.06 2.06-.94-2.06-.94-.94-2.06-.94 2.06-2.06.94z\"/><path d=\"M17.41 7.96l-1.37-1.37c-.4-.4-.92-.59-1.43-.59-.52 0-1.04.2-1.43.59L10.3 9.45l-7.72 7.72c-.78.78-.78 2.05 0 2.83L4 21.41c.39.39.9.59 1.41.59.51 0 1.02-.2 1.41-.59l7.78-7.78 2.81-2.81c.8-.78.8-2.07 0-2.86zM5.41 20L4 18.59l7.72-7.72 1.47 1.35L5.41 20z\"/>\n",
              "  </svg>\n",
              "      </button>\n",
              "      \n",
              "  <style>\n",
              "    .colab-df-container {\n",
              "      display:flex;\n",
              "      flex-wrap:wrap;\n",
              "      gap: 12px;\n",
              "    }\n",
              "\n",
              "    .colab-df-convert {\n",
              "      background-color: #E8F0FE;\n",
              "      border: none;\n",
              "      border-radius: 50%;\n",
              "      cursor: pointer;\n",
              "      display: none;\n",
              "      fill: #1967D2;\n",
              "      height: 32px;\n",
              "      padding: 0 0 0 0;\n",
              "      width: 32px;\n",
              "    }\n",
              "\n",
              "    .colab-df-convert:hover {\n",
              "      background-color: #E2EBFA;\n",
              "      box-shadow: 0px 1px 2px rgba(60, 64, 67, 0.3), 0px 1px 3px 1px rgba(60, 64, 67, 0.15);\n",
              "      fill: #174EA6;\n",
              "    }\n",
              "\n",
              "    [theme=dark] .colab-df-convert {\n",
              "      background-color: #3B4455;\n",
              "      fill: #D2E3FC;\n",
              "    }\n",
              "\n",
              "    [theme=dark] .colab-df-convert:hover {\n",
              "      background-color: #434B5C;\n",
              "      box-shadow: 0px 1px 3px 1px rgba(0, 0, 0, 0.15);\n",
              "      filter: drop-shadow(0px 1px 2px rgba(0, 0, 0, 0.3));\n",
              "      fill: #FFFFFF;\n",
              "    }\n",
              "  </style>\n",
              "\n",
              "      <script>\n",
              "        const buttonEl =\n",
              "          document.querySelector('#df-d131874d-457a-4d42-9375-68822aa74494 button.colab-df-convert');\n",
              "        buttonEl.style.display =\n",
              "          google.colab.kernel.accessAllowed ? 'block' : 'none';\n",
              "\n",
              "        async function convertToInteractive(key) {\n",
              "          const element = document.querySelector('#df-d131874d-457a-4d42-9375-68822aa74494');\n",
              "          const dataTable =\n",
              "            await google.colab.kernel.invokeFunction('convertToInteractive',\n",
              "                                                     [key], {});\n",
              "          if (!dataTable) return;\n",
              "\n",
              "          const docLinkHtml = 'Like what you see? Visit the ' +\n",
              "            '<a target=\"_blank\" href=https://colab.research.google.com/notebooks/data_table.ipynb>data table notebook</a>'\n",
              "            + ' to learn more about interactive tables.';\n",
              "          element.innerHTML = '';\n",
              "          dataTable['output_type'] = 'display_data';\n",
              "          await google.colab.output.renderOutput(dataTable, element);\n",
              "          const docLink = document.createElement('div');\n",
              "          docLink.innerHTML = docLinkHtml;\n",
              "          element.appendChild(docLink);\n",
              "        }\n",
              "      </script>\n",
              "    </div>\n",
              "  </div>\n",
              "  "
            ]
          },
          "metadata": {},
          "execution_count": 53
        }
      ],
      "source": [
        "x = temp_s.drop('TEY', axis=1)\n",
        "y = temp_s['TEY']\n",
        "x"
      ]
    },
    {
      "cell_type": "code",
      "execution_count": null,
      "metadata": {
        "colab": {
          "base_uri": "https://localhost:8080/"
        },
        "id": "T-vdmjPPlVip",
        "outputId": "eca757eb-14db-452a-8648-869ff3ee1c15"
      },
      "outputs": [
        {
          "output_type": "execute_result",
          "data": {
            "text/plain": [
              "((1126, 6), (376, 6), (1126,), (376,))"
            ]
          },
          "metadata": {},
          "execution_count": 54
        }
      ],
      "source": [
        "x_train, x_test, y_train, y_test = train_test_split(x, y, test_size=0.25)\n",
        "x_train.shape, x_test.shape, y_train.shape, y_test.shape"
      ]
    },
    {
      "cell_type": "code",
      "execution_count": null,
      "metadata": {
        "colab": {
          "base_uri": "https://localhost:8080/"
        },
        "id": "cUhQbKVHleNm",
        "outputId": "998d451c-57c5-4a2b-eab4-e4eaedfe9468"
      },
      "outputs": [
        {
          "output_type": "execute_result",
          "data": {
            "text/plain": [
              "[]"
            ]
          },
          "metadata": {},
          "execution_count": 55
        }
      ],
      "source": [
        "# Importing the necessary packages\n",
        "import tensorflow as tf\n",
        "import keras\n",
        "from sklearn.model_selection import GridSearchCV, KFold\n",
        "from keras.models import Sequential\n",
        "from keras.layers import Dense\n",
        "from keras.wrappers.scikit_learn import KerasRegressor\n",
        "from tensorflow.keras.optimizers import Adam\n",
        "from keras.layers import Dropout\n",
        "tf.config.experimental.list_physical_devices('GPU')"
      ]
    },
    {
      "cell_type": "code",
      "execution_count": null,
      "metadata": {
        "id": "sMaweUIqli9L"
      },
      "outputs": [],
      "source": [
        "# create model with 2 hidden layers\n",
        "def create_model_two_hidden_layers():\n",
        "    model = Sequential()\n",
        "    model.add(Dense(5, input_dim=6, kernel_initializer='uniform', activation='relu'))\n",
        "    model.add(Dense(6, kernel_initializer='uniform', activation='relu'))\n",
        "    model.add(Dense(10, kernel_initializer='uniform', activation='relu'))\n",
        "    model.add(Dense(1))\n",
        "    \n",
        "    adam=Adam(lr=0.001)\n",
        "    model.compile(loss='mse', optimizer=adam, metrics=['mse', 'mae', 'mape'])\n",
        "    return model"
      ]
    },
    {
      "cell_type": "code",
      "execution_count": null,
      "metadata": {
        "colab": {
          "base_uri": "https://localhost:8080/"
        },
        "id": "V78_mCdXll5p",
        "outputId": "c2b511fc-173d-43db-f12c-fb710daf7186"
      },
      "outputs": [
        {
          "output_type": "stream",
          "name": "stdout",
          "text": [
            "Here is the summary of the model:\n",
            "Model: \"sequential\"\n",
            "_________________________________________________________________\n",
            " Layer (type)                Output Shape              Param #   \n",
            "=================================================================\n",
            " dense (Dense)               (None, 5)                 35        \n",
            "                                                                 \n",
            " dense_1 (Dense)             (None, 6)                 36        \n",
            "                                                                 \n",
            " dense_2 (Dense)             (None, 10)                70        \n",
            "                                                                 \n",
            " dense_3 (Dense)             (None, 1)                 11        \n",
            "                                                                 \n",
            "=================================================================\n",
            "Total params: 152\n",
            "Trainable params: 152\n",
            "Non-trainable params: 0\n",
            "_________________________________________________________________\n"
          ]
        }
      ],
      "source": [
        "model1 = create_model_two_hidden_layers()\n",
        "print(\"Here is the summary of the model:\")\n",
        "model1.summary()"
      ]
    },
    {
      "cell_type": "code",
      "execution_count": null,
      "metadata": {
        "id": "d-iQ8_7mlnxH"
      },
      "outputs": [],
      "source": [
        "#create a model with 3 hidden layers\n",
        "def create_model_three_hidden_layers():\n",
        "    model = Sequential()\n",
        "    model.add(Dense(32, input_dim=6, kernel_initializer='uniform', activation='relu'))\n",
        "    model.add(Dense(32, kernel_initializer='uniform', activation='relu'))\n",
        "    model.add(Dense(64, kernel_initializer='uniform', activation='relu'))\n",
        "    model.add(Dense(128, kernel_initializer='uniform', activation='relu'))\n",
        "    model.add(Dense(1))\n",
        "    \n",
        "    adam=Adam(lr=0.01)\n",
        "    model.compile(loss='mse', optimizer=adam, metrics=['mse', 'mae', 'mape'])\n",
        "    return model"
      ]
    },
    {
      "cell_type": "code",
      "execution_count": null,
      "metadata": {
        "colab": {
          "base_uri": "https://localhost:8080/"
        },
        "id": "ajm_wRBYlryQ",
        "outputId": "b7017519-938f-4961-bc4e-e455d91d717c"
      },
      "outputs": [
        {
          "output_type": "stream",
          "name": "stdout",
          "text": [
            "Here is the summary of the model2:\n",
            "Model: \"sequential_1\"\n",
            "_________________________________________________________________\n",
            " Layer (type)                Output Shape              Param #   \n",
            "=================================================================\n",
            " dense_4 (Dense)             (None, 32)                224       \n",
            "                                                                 \n",
            " dense_5 (Dense)             (None, 32)                1056      \n",
            "                                                                 \n",
            " dense_6 (Dense)             (None, 64)                2112      \n",
            "                                                                 \n",
            " dense_7 (Dense)             (None, 128)               8320      \n",
            "                                                                 \n",
            " dense_8 (Dense)             (None, 1)                 129       \n",
            "                                                                 \n",
            "=================================================================\n",
            "Total params: 11,841\n",
            "Trainable params: 11,841\n",
            "Non-trainable params: 0\n",
            "_________________________________________________________________\n"
          ]
        }
      ],
      "source": [
        "model2 = create_model_three_hidden_layers()\n",
        "print(\"Here is the summary of the model2:\")\n",
        "model2.summary()"
      ]
    },
    {
      "cell_type": "code",
      "execution_count": null,
      "metadata": {
        "colab": {
          "base_uri": "https://localhost:8080/"
        },
        "id": "0qlLKqyllteB",
        "outputId": "28ad1818-9759-4830-c660-365c2ea84ad2"
      },
      "outputs": [
        {
          "output_type": "stream",
          "name": "stdout",
          "text": [
            "Here is the summary of this model:\n",
            "Model: \"sequential_1\"\n",
            "_________________________________________________________________\n",
            " Layer (type)                Output Shape              Param #   \n",
            "=================================================================\n",
            " dense_4 (Dense)             (None, 32)                224       \n",
            "                                                                 \n",
            " dense_5 (Dense)             (None, 32)                1056      \n",
            "                                                                 \n",
            " dense_6 (Dense)             (None, 64)                2112      \n",
            "                                                                 \n",
            " dense_7 (Dense)             (None, 128)               8320      \n",
            "                                                                 \n",
            " dense_8 (Dense)             (None, 1)                 129       \n",
            "                                                                 \n",
            "=================================================================\n",
            "Total params: 11,841\n",
            "Trainable params: 11,841\n",
            "Non-trainable params: 0\n",
            "_________________________________________________________________\n",
            "CPU times: user 33.4 s, sys: 1.63 s, total: 35 s\n",
            "Wall time: 36.7 s\n"
          ]
        }
      ],
      "source": [
        "%%time\n",
        "epochs=500\n",
        "batch_size=50\n",
        "\n",
        "print(\"Here is the summary of this model:\")\n",
        "model2.summary()\n",
        "\n",
        "with tf.device('/GPU:0'):\n",
        "  model2.fit(x_train,y_train, verbose = 0,batch_size = batch_size,epochs = epochs, shuffle=True)"
      ]
    },
    {
      "cell_type": "code",
      "execution_count": null,
      "metadata": {
        "colab": {
          "base_uri": "https://localhost:8080/"
        },
        "id": "PVARRr3hl0wR",
        "outputId": "202a76d9-70dd-4685-db9b-0e36a0760411"
      },
      "outputs": [
        {
          "output_type": "stream",
          "name": "stdout",
          "text": [
            "Predicted values:\n",
            "1/1 [==============================] - 0s 180ms/step\n"
          ]
        },
        {
          "output_type": "execute_result",
          "data": {
            "text/plain": [
              "array([[-1.9681079 ],\n",
              "       [-1.4621181 ],\n",
              "       [-0.01161194],\n",
              "       [-1.4842196 ],\n",
              "       [-1.4575875 ],\n",
              "       [ 1.1856902 ],\n",
              "       [ 1.9445667 ],\n",
              "       [-0.05244622],\n",
              "       [-0.01857725],\n",
              "       [ 1.5970407 ]], dtype=float32)"
            ]
          },
          "metadata": {},
          "execution_count": 61
        }
      ],
      "source": [
        "print(\"Predicted values:\")\n",
        "model2.predict(x_test[:10])"
      ]
    },
    {
      "cell_type": "code",
      "execution_count": null,
      "metadata": {
        "colab": {
          "base_uri": "https://localhost:8080/"
        },
        "id": "xOPgu1bnl6GX",
        "outputId": "57b4eace-81a1-404b-c7e8-dea200e38b0f"
      },
      "outputs": [
        {
          "output_type": "stream",
          "name": "stdout",
          "text": [
            "Actual values\n"
          ]
        },
        {
          "output_type": "execute_result",
          "data": {
            "text/plain": [
              "2139    -1.908049\n",
              "2248    -1.476810\n",
              "5583    -0.031339\n",
              "13192   -1.424328\n",
              "12888   -1.458473\n",
              "7832     1.209895\n",
              "7755     1.933895\n",
              "3087    -0.031339\n",
              "11567   -0.029442\n",
              "7142     1.524788\n",
              "Name: TEY, dtype: float64"
            ]
          },
          "metadata": {},
          "execution_count": 62
        }
      ],
      "source": [
        "print('Actual values')\n",
        "y_test[:10]"
      ]
    },
    {
      "cell_type": "code",
      "execution_count": null,
      "metadata": {
        "colab": {
          "base_uri": "https://localhost:8080/"
        },
        "id": "WM3uGJ-Jl_U0",
        "outputId": "a9470b8c-908a-4d19-bbe7-f64ac21f9388"
      },
      "outputs": [
        {
          "output_type": "stream",
          "name": "stdout",
          "text": [
            "36/36 [==============================] - 0s 2ms/step - loss: 0.0035 - mse: 0.0035 - mae: 0.0424 - mape: 83.4312\n",
            "\n",
            " Results for model 2: \n",
            " Training Loss: 0.0035370425321161747 \n",
            " Training Mean Absolute Error: 0.0035370425321161747 \n",
            " Training Mean Squared Error: 0.04243241250514984\n"
          ]
        }
      ],
      "source": [
        "loss, mae, mse, mape = model2.evaluate(x_train, y_train)\n",
        "print('\\n', \"Results for model 2:\", '\\n', \"Training Loss:\", loss, '\\n', \"Training Mean Absolute Error:\" , mae, '\\n', \"Training Mean Squared Error:\", mse)"
      ]
    },
    {
      "cell_type": "code",
      "execution_count": null,
      "metadata": {
        "colab": {
          "base_uri": "https://localhost:8080/"
        },
        "id": "TfMNGC2emJXL",
        "outputId": "be6f2793-3daf-48a3-dbd1-72e95004327a"
      },
      "outputs": [
        {
          "output_type": "stream",
          "name": "stdout",
          "text": [
            "12/12 [==============================] - 0s 3ms/step - loss: 0.0125 - mse: 0.0125 - mae: 0.0604 - mape: 77.2909\n",
            "\n",
            " Results for model 2: \n",
            " Test Loss: 0.012488842010498047 \n",
            " Test Mean Absolute Error: 0.012488842010498047 \n",
            " Test Mean Squared Error: 0.060428112745285034\n"
          ]
        }
      ],
      "source": [
        "loss, mae, mse, mape = model2.evaluate(x_test, y_test)\n",
        "print('\\n', \"Results for model 2:\", '\\n', \"Test Loss:\", loss, '\\n', \"Test Mean Absolute Error:\" , mae, '\\n', \"Test Mean Squared Error:\", mse)"
      ]
    },
    {
      "cell_type": "markdown",
      "metadata": {
        "id": "Qu74Pv1TmPq2"
      },
      "source": [
        "#Hyperparameter Tuning to get best options for:"
      ]
    },
    {
      "cell_type": "code",
      "execution_count": null,
      "metadata": {
        "colab": {
          "base_uri": "https://localhost:8080/"
        },
        "id": "6pRs88O6mKQK",
        "outputId": "e1e29419-3834-46d2-9653-3d01085d99ad"
      },
      "outputs": [
        {
          "output_type": "stream",
          "name": "stdout",
          "text": [
            "Fitting 5 folds for each of 9 candidates, totalling 45 fits\n",
            "[CV 1/5; 1/9] START batch_size=30, epochs=300...................................\n",
            "[CV 1/5; 1/9] END ...batch_size=30, epochs=300;, score=-0.010 total time=  21.9s\n",
            "[CV 2/5; 1/9] START batch_size=30, epochs=300...................................\n",
            "[CV 2/5; 1/9] END ...batch_size=30, epochs=300;, score=-0.009 total time=  21.4s\n",
            "[CV 3/5; 1/9] START batch_size=30, epochs=300...................................\n",
            "[CV 3/5; 1/9] END ...batch_size=30, epochs=300;, score=-0.013 total time=  17.1s\n",
            "[CV 4/5; 1/9] START batch_size=30, epochs=300...................................\n",
            "[CV 4/5; 1/9] END ...batch_size=30, epochs=300;, score=-0.006 total time=  21.4s\n",
            "[CV 5/5; 1/9] START batch_size=30, epochs=300...................................\n",
            "[CV 5/5; 1/9] END ...batch_size=30, epochs=300;, score=-0.018 total time=  19.2s\n",
            "[CV 1/5; 2/9] START batch_size=30, epochs=500...................................\n",
            "[CV 1/5; 2/9] END ...batch_size=30, epochs=500;, score=-0.008 total time=  26.8s\n",
            "[CV 2/5; 2/9] START batch_size=30, epochs=500...................................\n",
            "[CV 2/5; 2/9] END ...batch_size=30, epochs=500;, score=-0.012 total time=  27.1s\n",
            "[CV 3/5; 2/9] START batch_size=30, epochs=500...................................\n",
            "[CV 3/5; 2/9] END ...batch_size=30, epochs=500;, score=-0.010 total time=  41.9s\n",
            "[CV 4/5; 2/9] START batch_size=30, epochs=500...................................\n",
            "[CV 4/5; 2/9] END ...batch_size=30, epochs=500;, score=-0.010 total time=  41.9s\n",
            "[CV 5/5; 2/9] START batch_size=30, epochs=500...................................\n",
            "[CV 5/5; 2/9] END ...batch_size=30, epochs=500;, score=-0.007 total time=  41.9s\n",
            "[CV 1/5; 3/9] START batch_size=30, epochs=800...................................\n",
            "[CV 1/5; 3/9] END ...batch_size=30, epochs=800;, score=-0.021 total time=  41.2s\n",
            "[CV 2/5; 3/9] START batch_size=30, epochs=800...................................\n",
            "[CV 2/5; 3/9] END ...batch_size=30, epochs=800;, score=-0.007 total time=  44.7s\n",
            "[CV 3/5; 3/9] START batch_size=30, epochs=800...................................\n",
            "[CV 3/5; 3/9] END ...batch_size=30, epochs=800;, score=-0.008 total time= 1.4min\n",
            "[CV 4/5; 3/9] START batch_size=30, epochs=800...................................\n",
            "[CV 4/5; 3/9] END ...batch_size=30, epochs=800;, score=-0.006 total time= 1.4min\n",
            "[CV 5/5; 3/9] START batch_size=30, epochs=800...................................\n",
            "[CV 5/5; 3/9] END ...batch_size=30, epochs=800;, score=-0.021 total time=  43.9s\n",
            "[CV 1/5; 4/9] START batch_size=50, epochs=300...................................\n",
            "[CV 1/5; 4/9] END ...batch_size=50, epochs=300;, score=-0.009 total time=  10.3s\n",
            "[CV 2/5; 4/9] START batch_size=50, epochs=300...................................\n",
            "[CV 2/5; 4/9] END ...batch_size=50, epochs=300;, score=-0.014 total time=  12.1s\n",
            "[CV 3/5; 4/9] START batch_size=50, epochs=300...................................\n",
            "[CV 3/5; 4/9] END ...batch_size=50, epochs=300;, score=-0.013 total time=  11.7s\n",
            "[CV 4/5; 4/9] START batch_size=50, epochs=300...................................\n",
            "[CV 4/5; 4/9] END ...batch_size=50, epochs=300;, score=-0.006 total time=  11.0s\n",
            "[CV 5/5; 4/9] START batch_size=50, epochs=300...................................\n",
            "[CV 5/5; 4/9] END ...batch_size=50, epochs=300;, score=-0.014 total time=  11.0s\n",
            "[CV 1/5; 5/9] START batch_size=50, epochs=500...................................\n",
            "[CV 1/5; 5/9] END ...batch_size=50, epochs=500;, score=-0.012 total time=  17.7s\n",
            "[CV 2/5; 5/9] START batch_size=50, epochs=500...................................\n",
            "[CV 2/5; 5/9] END ...batch_size=50, epochs=500;, score=-0.023 total time=  21.4s\n",
            "[CV 3/5; 5/9] START batch_size=50, epochs=500...................................\n",
            "[CV 3/5; 5/9] END ...batch_size=50, epochs=500;, score=-0.007 total time=  17.7s\n",
            "[CV 4/5; 5/9] START batch_size=50, epochs=500...................................\n",
            "[CV 4/5; 5/9] END ...batch_size=50, epochs=500;, score=-0.009 total time=  21.4s\n",
            "[CV 5/5; 5/9] START batch_size=50, epochs=500...................................\n",
            "[CV 5/5; 5/9] END ...batch_size=50, epochs=500;, score=-0.019 total time=  17.8s\n",
            "[CV 1/5; 6/9] START batch_size=50, epochs=800...................................\n",
            "[CV 1/5; 6/9] END ...batch_size=50, epochs=800;, score=-0.015 total time=  27.2s\n",
            "[CV 2/5; 6/9] START batch_size=50, epochs=800...................................\n",
            "[CV 2/5; 6/9] END ...batch_size=50, epochs=800;, score=-0.008 total time=  41.9s\n",
            "[CV 3/5; 6/9] START batch_size=50, epochs=800...................................\n",
            "[CV 3/5; 6/9] END ...batch_size=50, epochs=800;, score=-0.007 total time=  41.9s\n",
            "[CV 4/5; 6/9] START batch_size=50, epochs=800...................................\n",
            "[CV 4/5; 6/9] END ...batch_size=50, epochs=800;, score=-0.005 total time=  41.9s\n",
            "[CV 5/5; 6/9] START batch_size=50, epochs=800...................................\n",
            "[CV 5/5; 6/9] END ...batch_size=50, epochs=800;, score=-0.022 total time=  41.9s\n",
            "[CV 1/5; 7/9] START batch_size=70, epochs=300...................................\n",
            "[CV 1/5; 7/9] END ...batch_size=70, epochs=300;, score=-0.011 total time=  11.2s\n",
            "[CV 2/5; 7/9] START batch_size=70, epochs=300...................................\n",
            "[CV 2/5; 7/9] END ...batch_size=70, epochs=300;, score=-0.009 total time=   8.6s\n",
            "[CV 3/5; 7/9] START batch_size=70, epochs=300...................................\n",
            "[CV 3/5; 7/9] END ...batch_size=70, epochs=300;, score=-0.007 total time=   8.5s\n",
            "[CV 4/5; 7/9] START batch_size=70, epochs=300...................................\n",
            "[CV 4/5; 7/9] END ...batch_size=70, epochs=300;, score=-0.005 total time=   8.4s\n",
            "[CV 5/5; 7/9] START batch_size=70, epochs=300...................................\n",
            "[CV 5/5; 7/9] END ...batch_size=70, epochs=300;, score=-0.015 total time=  11.2s\n",
            "[CV 1/5; 8/9] START batch_size=70, epochs=500...................................\n",
            "[CV 1/5; 8/9] END ...batch_size=70, epochs=500;, score=-0.010 total time=  13.3s\n",
            "[CV 2/5; 8/9] START batch_size=70, epochs=500...................................\n",
            "[CV 2/5; 8/9] END ...batch_size=70, epochs=500;, score=-0.009 total time=  21.4s\n",
            "[CV 3/5; 8/9] START batch_size=70, epochs=500...................................\n",
            "[CV 3/5; 8/9] END ...batch_size=70, epochs=500;, score=-0.008 total time=  21.4s\n",
            "[CV 4/5; 8/9] START batch_size=70, epochs=500...................................\n",
            "[CV 4/5; 8/9] END ...batch_size=70, epochs=500;, score=-0.007 total time=  13.3s\n",
            "[CV 5/5; 8/9] START batch_size=70, epochs=500...................................\n",
            "[CV 5/5; 8/9] END ...batch_size=70, epochs=500;, score=-0.007 total time=  13.1s\n",
            "[CV 1/5; 9/9] START batch_size=70, epochs=800...................................\n",
            "[CV 1/5; 9/9] END ...batch_size=70, epochs=800;, score=-0.015 total time=  22.5s\n",
            "[CV 2/5; 9/9] START batch_size=70, epochs=800...................................\n",
            "[CV 2/5; 9/9] END ...batch_size=70, epochs=800;, score=-0.008 total time=  21.4s\n",
            "[CV 3/5; 9/9] START batch_size=70, epochs=800...................................\n",
            "[CV 3/5; 9/9] END ...batch_size=70, epochs=800;, score=-0.010 total time=  21.4s\n",
            "[CV 4/5; 9/9] START batch_size=70, epochs=800...................................\n",
            "[CV 4/5; 9/9] END ...batch_size=70, epochs=800;, score=-0.007 total time=  41.9s\n",
            "[CV 5/5; 9/9] START batch_size=70, epochs=800...................................\n",
            "[CV 5/5; 9/9] END ...batch_size=70, epochs=800;, score=-0.015 total time=  41.9s\n"
          ]
        }
      ],
      "source": [
        "# Create the model\n",
        "#get best value for batch size and epochs by hyperparameter tuning\n",
        "model = KerasRegressor(build_fn = create_model_three_hidden_layers,verbose = 0)\n",
        "# Define the grid search parameters\n",
        "batch_size = [30,50,70]\n",
        "epochs = [300,500,800]\n",
        "# Make a dictionary of the grid search parameters\n",
        "param_grid = dict(batch_size = batch_size,epochs = epochs)\n",
        "# Build and fit the GridSearchCV\n",
        "grid = GridSearchCV(estimator = model,param_grid = param_grid,cv = KFold(),verbose = 10)\n",
        "grid_result = grid.fit(x_train,y_train)"
      ]
    },
    {
      "cell_type": "code",
      "execution_count": null,
      "metadata": {
        "colab": {
          "base_uri": "https://localhost:8080/"
        },
        "id": "9zojesuwmT0D",
        "outputId": "a83f106b-3d71-4c8b-c00e-04bbfe71c6bd"
      },
      "outputs": [
        {
          "output_type": "stream",
          "name": "stdout",
          "text": [
            "Best : -0.007928578741848468, using {'batch_size': 70, 'epochs': 500}\n",
            "-0.011229390371590852,0.004025188988082109 with: {'batch_size': 30, 'epochs': 300}\n",
            "-0.009366494417190552,0.0019559137303157125 with: {'batch_size': 30, 'epochs': 500}\n",
            "-0.012832546699792146,0.006753000940113533 with: {'batch_size': 30, 'epochs': 800}\n",
            "-0.01107419803738594,0.0031288320485341474 with: {'batch_size': 50, 'epochs': 300}\n",
            "-0.013908386509865523,0.00600431617941978 with: {'batch_size': 50, 'epochs': 500}\n",
            "-0.011624427977949381,0.00619192779829602 with: {'batch_size': 50, 'epochs': 800}\n",
            "-0.009554551169276237,0.0033300977577182035 with: {'batch_size': 70, 'epochs': 300}\n",
            "-0.007928578741848468,0.0011317020766379933 with: {'batch_size': 70, 'epochs': 500}\n",
            "-0.011233644094318151,0.0034318456091467346 with: {'batch_size': 70, 'epochs': 800}\n"
          ]
        }
      ],
      "source": [
        "# Summarize the results\n",
        "print('Best : {}, using {}'.format(grid_result.best_score_,grid_result.best_params_))\n",
        "means = grid_result.cv_results_['mean_test_score']\n",
        "stds = grid_result.cv_results_['std_test_score']\n",
        "params = grid_result.cv_results_['params']\n",
        "for mean, stdev, param in zip(means, stds, params):\n",
        "  print('{},{} with: {}'.format(mean, stdev, param))"
      ]
    },
    {
      "cell_type": "code",
      "execution_count": null,
      "metadata": {
        "colab": {
          "base_uri": "https://localhost:8080/"
        },
        "id": "P2MMZBx6mjzi",
        "outputId": "68be6501-4135-4be7-e489-f1cfa2ac447b"
      },
      "outputs": [
        {
          "output_type": "stream",
          "name": "stdout",
          "text": [
            "CPU times: user 8min 52s, sys: 29.3 s, total: 9min 22s\n",
            "Wall time: 8min 9s\n"
          ]
        }
      ],
      "source": [
        "#get best value for learning rate and dropuout by hyperparameter tuning\n",
        "# Defining the model\n",
        "%%time\n",
        "def create_model_three_hidden_layers(learning_rate,dropout_rate):\n",
        "    model = Sequential()\n",
        "    model.add(Dense(32,input_dim = 6,kernel_initializer = 'uniform',activation = 'relu'))\n",
        "    model.add(Dropout(dropout_rate))\n",
        "    model.add(Dense(32,kernel_initializer = 'uniform',activation = 'relu'))\n",
        "    model.add(Dropout(dropout_rate))\n",
        "    model.add(Dense(64,kernel_initializer = 'uniform',activation = 'relu'))\n",
        "    model.add(Dropout(dropout_rate))\n",
        "    model.add(Dense(128,kernel_initializer = 'uniform',activation = 'relu'))\n",
        "    model.add(Dropout(dropout_rate))\n",
        "    model.add(Dense(1))\n",
        "    adam = Adam(lr = learning_rate)\n",
        "    model.compile(loss = 'mse', optimizer = adam,metrics = ['mse', 'mae', 'mape'])\n",
        "    return model\n",
        "# Create the model\n",
        "model = KerasRegressor(build_fn = create_model_three_hidden_layers,verbose = 0,batch_size = 70,epochs = 300)\n",
        "# Define the grid search parameters\n",
        "learning_rate = [0.001,0.01,0.1]\n",
        "dropout_rate = [0.0,0.1,0.2]\n",
        "# Make a dictionary of the grid search parameters\n",
        "param_grids = dict(learning_rate = learning_rate,dropout_rate = dropout_rate)\n",
        "# Build and fit the GridSearchCV\n",
        "grid = GridSearchCV(estimator = model,param_grid = param_grids,cv = KFold(),verbose = 0)\n",
        "grid_result = grid.fit(x_train,y_train)"
      ]
    },
    {
      "cell_type": "code",
      "execution_count": null,
      "metadata": {
        "colab": {
          "base_uri": "https://localhost:8080/"
        },
        "id": "Okd7VG0vmnf7",
        "outputId": "2be991f7-87ea-4983-ec23-3ea09b59dcad"
      },
      "outputs": [
        {
          "output_type": "stream",
          "name": "stdout",
          "text": [
            "Best : -0.008648909348994493, using {'dropout_rate': 0.0, 'learning_rate': 0.001}\n",
            "-0.008648909348994493,0.002347892067429413 with: {'dropout_rate': 0.0, 'learning_rate': 0.001}\n",
            "-0.011776654794812203,0.006326053270385938 with: {'dropout_rate': 0.0, 'learning_rate': 0.01}\n",
            "-0.4287070108577609,0.4696304670918426 with: {'dropout_rate': 0.0, 'learning_rate': 0.1}\n",
            "-0.010251736082136632,0.002629042970441919 with: {'dropout_rate': 0.1, 'learning_rate': 0.001}\n",
            "-0.014200846664607525,0.003920509250562984 with: {'dropout_rate': 0.1, 'learning_rate': 0.01}\n",
            "-0.9752221941947937,0.0571402233449153 with: {'dropout_rate': 0.1, 'learning_rate': 0.1}\n",
            "-0.011380065977573395,0.0027248248992466353 with: {'dropout_rate': 0.2, 'learning_rate': 0.001}\n",
            "-0.018589076399803162,0.0015678838985486736 with: {'dropout_rate': 0.2, 'learning_rate': 0.01}\n",
            "-0.7710001051425934,0.22972272861780327 with: {'dropout_rate': 0.2, 'learning_rate': 0.1}\n"
          ]
        }
      ],
      "source": [
        "p# Summarize the results\n",
        "print('Best : {}, using {}'.format(grid_result.best_score_,grid_result.best_params_))\n",
        "means = grid_result.cv_results_['mean_test_score']\n",
        "stds = grid_result.cv_results_['std_test_score']\n",
        "params = grid_result.cv_results_['params']\n",
        "for mean, stdev, param in zip(means, stds, params):\n",
        "  print('{},{} with: {}'.format(mean, stdev, param))"
      ]
    },
    {
      "cell_type": "code",
      "execution_count": null,
      "metadata": {
        "colab": {
          "base_uri": "https://localhost:8080/"
        },
        "id": "CmsieJVGmoWE",
        "outputId": "e08eeec7-4df5-4da3-94d8-9c924e129f4b"
      },
      "outputs": [
        {
          "output_type": "stream",
          "name": "stdout",
          "text": [
            "CPU times: user 1h 11min 12s, sys: 4min 2s, total: 1h 15min 15s\n",
            "Wall time: 1h 7min 43s\n"
          ]
        }
      ],
      "source": [
        "# Defining the model\n",
        "#get best value for neuron by hyperparameter tuning\n",
        "%%time\n",
        "def create_model_three_hidden_layers(neuron1,neuron2,neuron3,neuron4):\n",
        "    model = Sequential()\n",
        "    model.add(Dense(neuron1,input_dim = 6,kernel_initializer = 'uniform',activation = 'relu'))\n",
        "    model.add(Dense(neuron2,input_dim = neuron1,kernel_initializer = 'uniform',activation = 'relu'))\n",
        "    model.add(Dense(neuron3,input_dim = neuron2,kernel_initializer = 'uniform',activation = 'relu'))\n",
        "    model.add(Dense(neuron4,input_dim = neuron3,kernel_initializer = 'uniform',activation = 'relu'))\n",
        "    model.add(Dense(1))\n",
        "    \n",
        "    adam = Adam(lr = 0.001)\n",
        "    model.compile(loss = 'mse',optimizer = adam,metrics = ['mse', 'mae', 'mape'])\n",
        "    return model\n",
        "\n",
        "# Create the model\n",
        "\n",
        "model = KerasRegressor(build_fn = create_model_three_hidden_layers,verbose = 0,batch_size = 70,epochs = 300)\n",
        "\n",
        "# Define the grid search parameters\n",
        "\n",
        "neuron1 = [8,16,32]\n",
        "neuron2 = [32,64,128]\n",
        "neuron3 = [32,64,128]\n",
        "neuron4 = [32,64,128]\n",
        "\n",
        "# Make a dictionary of the grid search parameters\n",
        "\n",
        "param_grids = dict(neuron1 = neuron1,neuron2 = neuron2, neuron3 = neuron3, neuron4 = neuron4)\n",
        "\n",
        "# Build and fit the GridSearchCV\n",
        "\n",
        "grid = GridSearchCV(estimator = model,param_grid = param_grids,cv = KFold(),verbose = 0)\n",
        "grid_result = grid.fit(x_train,y_train)"
      ]
    },
    {
      "cell_type": "code",
      "execution_count": null,
      "metadata": {
        "colab": {
          "base_uri": "https://localhost:8080/"
        },
        "id": "WA9onGdlmu5w",
        "outputId": "4a47c50d-9cb3-4799-fa59-4ca02aef4b35"
      },
      "outputs": [
        {
          "output_type": "stream",
          "name": "stdout",
          "text": [
            "Best : -0.00695588430389762, using {'neuron1': 32, 'neuron2': 64, 'neuron3': 128, 'neuron4': 32}\n",
            "-0.008141494542360305,0.0017042707027183396 with: {'neuron1': 8, 'neuron2': 32, 'neuron3': 32, 'neuron4': 32}\n",
            "-0.007186804339289666,0.0012151458773955542 with: {'neuron1': 8, 'neuron2': 32, 'neuron3': 32, 'neuron4': 64}\n",
            "-0.008812914416193963,0.0020432081959339717 with: {'neuron1': 8, 'neuron2': 32, 'neuron3': 32, 'neuron4': 128}\n",
            "-0.008490363787859678,0.002217169283418229 with: {'neuron1': 8, 'neuron2': 32, 'neuron3': 64, 'neuron4': 32}\n",
            "-0.007716791704297066,0.0016206611481602699 with: {'neuron1': 8, 'neuron2': 32, 'neuron3': 64, 'neuron4': 64}\n",
            "-0.007351338770240546,0.001135304775611607 with: {'neuron1': 8, 'neuron2': 32, 'neuron3': 64, 'neuron4': 128}\n",
            "-0.00816028770059347,0.000672815442387478 with: {'neuron1': 8, 'neuron2': 32, 'neuron3': 128, 'neuron4': 32}\n",
            "-0.007633755914866924,0.00120993372961857 with: {'neuron1': 8, 'neuron2': 32, 'neuron3': 128, 'neuron4': 64}\n",
            "-0.007762574590742588,0.0010672805499782844 with: {'neuron1': 8, 'neuron2': 32, 'neuron3': 128, 'neuron4': 128}\n",
            "-0.007953814323991537,0.001856236389762632 with: {'neuron1': 8, 'neuron2': 64, 'neuron3': 32, 'neuron4': 32}\n",
            "-0.007724255230277777,0.0011785748089998863 with: {'neuron1': 8, 'neuron2': 64, 'neuron3': 32, 'neuron4': 64}\n",
            "-0.007979905977845193,0.0019742969063957084 with: {'neuron1': 8, 'neuron2': 64, 'neuron3': 32, 'neuron4': 128}\n",
            "-0.008045126218348742,0.0015363937552396005 with: {'neuron1': 8, 'neuron2': 64, 'neuron3': 64, 'neuron4': 32}\n",
            "-0.008147213608026505,0.0015425378310436387 with: {'neuron1': 8, 'neuron2': 64, 'neuron3': 64, 'neuron4': 64}\n",
            "-0.007856041938066483,0.0017074754699260692 with: {'neuron1': 8, 'neuron2': 64, 'neuron3': 64, 'neuron4': 128}\n",
            "-0.008610445074737072,0.0018543700622419743 with: {'neuron1': 8, 'neuron2': 64, 'neuron3': 128, 'neuron4': 32}\n",
            "-0.008099955413490534,0.0017243968566570923 with: {'neuron1': 8, 'neuron2': 64, 'neuron3': 128, 'neuron4': 64}\n",
            "-0.008121643774211406,0.0014871144532935764 with: {'neuron1': 8, 'neuron2': 64, 'neuron3': 128, 'neuron4': 128}\n",
            "-0.008128482289612294,0.0013209154512775602 with: {'neuron1': 8, 'neuron2': 128, 'neuron3': 32, 'neuron4': 32}\n",
            "-0.00836231242865324,0.0018468092931813824 with: {'neuron1': 8, 'neuron2': 128, 'neuron3': 32, 'neuron4': 64}\n",
            "-0.007824156992137432,0.0013030155659195944 with: {'neuron1': 8, 'neuron2': 128, 'neuron3': 32, 'neuron4': 128}\n",
            "-0.009780943021178245,0.0034618167824977735 with: {'neuron1': 8, 'neuron2': 128, 'neuron3': 64, 'neuron4': 32}\n",
            "-0.008269772958010435,0.0015563473251127115 with: {'neuron1': 8, 'neuron2': 128, 'neuron3': 64, 'neuron4': 64}\n",
            "-0.00762222521007061,0.0014195103376804816 with: {'neuron1': 8, 'neuron2': 128, 'neuron3': 64, 'neuron4': 128}\n",
            "-0.008625126723200083,0.002087804739968083 with: {'neuron1': 8, 'neuron2': 128, 'neuron3': 128, 'neuron4': 32}\n",
            "-0.00809782650321722,0.001454282178373823 with: {'neuron1': 8, 'neuron2': 128, 'neuron3': 128, 'neuron4': 64}\n",
            "-0.008261581882834435,0.0021494879176402505 with: {'neuron1': 8, 'neuron2': 128, 'neuron3': 128, 'neuron4': 128}\n",
            "-0.00839993916451931,0.0024933236362531222 with: {'neuron1': 16, 'neuron2': 32, 'neuron3': 32, 'neuron4': 32}\n",
            "-0.008130400348454714,0.0015747904954686836 with: {'neuron1': 16, 'neuron2': 32, 'neuron3': 32, 'neuron4': 64}\n",
            "-0.007784516736865044,0.0014654982694475697 with: {'neuron1': 16, 'neuron2': 32, 'neuron3': 32, 'neuron4': 128}\n",
            "-0.007201172597706318,0.0009670934914009727 with: {'neuron1': 16, 'neuron2': 32, 'neuron3': 64, 'neuron4': 32}\n",
            "-0.008314963988959789,0.0016659998219358263 with: {'neuron1': 16, 'neuron2': 32, 'neuron3': 64, 'neuron4': 64}\n",
            "-0.00868427725508809,0.0024500047195584107 with: {'neuron1': 16, 'neuron2': 32, 'neuron3': 64, 'neuron4': 128}\n",
            "-0.007284186501055956,0.0014845691017409991 with: {'neuron1': 16, 'neuron2': 32, 'neuron3': 128, 'neuron4': 32}\n",
            "-0.00811959346756339,0.0017350766809455433 with: {'neuron1': 16, 'neuron2': 32, 'neuron3': 128, 'neuron4': 64}\n",
            "-0.008622939977794886,0.0017511626493694745 with: {'neuron1': 16, 'neuron2': 32, 'neuron3': 128, 'neuron4': 128}\n",
            "-0.0074103248305618765,0.001498923744700654 with: {'neuron1': 16, 'neuron2': 64, 'neuron3': 32, 'neuron4': 32}\n",
            "-0.007737068925052881,0.0011586918779977833 with: {'neuron1': 16, 'neuron2': 64, 'neuron3': 32, 'neuron4': 64}\n",
            "-0.008486519567668438,0.0019613189556262787 with: {'neuron1': 16, 'neuron2': 64, 'neuron3': 32, 'neuron4': 128}\n",
            "-0.008633507788181305,0.002848087284478395 with: {'neuron1': 16, 'neuron2': 64, 'neuron3': 64, 'neuron4': 32}\n",
            "-0.008357233740389347,0.002424413932649039 with: {'neuron1': 16, 'neuron2': 64, 'neuron3': 64, 'neuron4': 64}\n",
            "-0.007283544540405274,0.0009805175407885899 with: {'neuron1': 16, 'neuron2': 64, 'neuron3': 64, 'neuron4': 128}\n",
            "-0.007483882084488869,0.0010929657538474042 with: {'neuron1': 16, 'neuron2': 64, 'neuron3': 128, 'neuron4': 32}\n",
            "-0.010203820560127497,0.005002330171267859 with: {'neuron1': 16, 'neuron2': 64, 'neuron3': 128, 'neuron4': 64}\n",
            "-0.007746780477464199,0.0017735679290662035 with: {'neuron1': 16, 'neuron2': 64, 'neuron3': 128, 'neuron4': 128}\n",
            "-0.007585172075778246,0.0011201546213521483 with: {'neuron1': 16, 'neuron2': 128, 'neuron3': 32, 'neuron4': 32}\n",
            "-0.00752598037943244,0.0008477112158644638 with: {'neuron1': 16, 'neuron2': 128, 'neuron3': 32, 'neuron4': 64}\n",
            "-0.007655340433120728,0.000991777076439759 with: {'neuron1': 16, 'neuron2': 128, 'neuron3': 32, 'neuron4': 128}\n",
            "-0.007650308683514595,0.001240565430951153 with: {'neuron1': 16, 'neuron2': 128, 'neuron3': 64, 'neuron4': 32}\n",
            "-0.007661414612084627,0.0008617603248905696 with: {'neuron1': 16, 'neuron2': 128, 'neuron3': 64, 'neuron4': 64}\n",
            "-0.007992812246084214,0.0007230079374222649 with: {'neuron1': 16, 'neuron2': 128, 'neuron3': 64, 'neuron4': 128}\n",
            "-0.008033168502151966,0.0012702950408170373 with: {'neuron1': 16, 'neuron2': 128, 'neuron3': 128, 'neuron4': 32}\n",
            "-0.00844425605610013,0.002398027112186595 with: {'neuron1': 16, 'neuron2': 128, 'neuron3': 128, 'neuron4': 64}\n",
            "-0.0075554587878286835,0.001027897368090817 with: {'neuron1': 16, 'neuron2': 128, 'neuron3': 128, 'neuron4': 128}\n",
            "-0.007399085257202387,0.0010337898598101417 with: {'neuron1': 32, 'neuron2': 32, 'neuron3': 32, 'neuron4': 32}\n",
            "-0.00720229409635067,0.0007789130180618005 with: {'neuron1': 32, 'neuron2': 32, 'neuron3': 32, 'neuron4': 64}\n",
            "-0.007609189115464687,0.0009544790159961396 with: {'neuron1': 32, 'neuron2': 32, 'neuron3': 32, 'neuron4': 128}\n",
            "-0.007779812905937433,0.0010452279888091844 with: {'neuron1': 32, 'neuron2': 32, 'neuron3': 64, 'neuron4': 32}\n",
            "-0.007876285165548325,0.001720739921661069 with: {'neuron1': 32, 'neuron2': 32, 'neuron3': 64, 'neuron4': 64}\n",
            "-0.007913746032863855,0.0013709452237647029 with: {'neuron1': 32, 'neuron2': 32, 'neuron3': 64, 'neuron4': 128}\n",
            "-0.007409033365547657,0.0012941479628265252 with: {'neuron1': 32, 'neuron2': 32, 'neuron3': 128, 'neuron4': 32}\n",
            "-0.007379154115915299,0.0011359486820187521 with: {'neuron1': 32, 'neuron2': 32, 'neuron3': 128, 'neuron4': 64}\n",
            "-0.007146482355892658,0.0008162076196882262 with: {'neuron1': 32, 'neuron2': 32, 'neuron3': 128, 'neuron4': 128}\n",
            "-0.007788717374205589,0.001289797433892683 with: {'neuron1': 32, 'neuron2': 64, 'neuron3': 32, 'neuron4': 32}\n",
            "-0.00792206758633256,0.0016986541403757052 with: {'neuron1': 32, 'neuron2': 64, 'neuron3': 32, 'neuron4': 64}\n",
            "-0.007684074249118567,0.001412231831654612 with: {'neuron1': 32, 'neuron2': 64, 'neuron3': 32, 'neuron4': 128}\n",
            "-0.00785926664248109,0.001300476024435223 with: {'neuron1': 32, 'neuron2': 64, 'neuron3': 64, 'neuron4': 32}\n",
            "-0.007930694799870252,0.001465154331665462 with: {'neuron1': 32, 'neuron2': 64, 'neuron3': 64, 'neuron4': 64}\n",
            "-0.007477525901049375,0.0011748844258693272 with: {'neuron1': 32, 'neuron2': 64, 'neuron3': 64, 'neuron4': 128}\n",
            "-0.00695588430389762,0.001089915908676261 with: {'neuron1': 32, 'neuron2': 64, 'neuron3': 128, 'neuron4': 32}\n",
            "-0.0076994638890028,0.0012349157434435475 with: {'neuron1': 32, 'neuron2': 64, 'neuron3': 128, 'neuron4': 64}\n",
            "-0.007647187542170286,0.00109780608559036 with: {'neuron1': 32, 'neuron2': 64, 'neuron3': 128, 'neuron4': 128}\n",
            "-0.007858881261199713,0.0014865507274408607 with: {'neuron1': 32, 'neuron2': 128, 'neuron3': 32, 'neuron4': 32}\n",
            "-0.008859963249415159,0.0028338611878541953 with: {'neuron1': 32, 'neuron2': 128, 'neuron3': 32, 'neuron4': 64}\n",
            "-0.007211975939571858,0.00142642626808928 with: {'neuron1': 32, 'neuron2': 128, 'neuron3': 32, 'neuron4': 128}\n",
            "-0.007815665565431118,0.0013299951720951945 with: {'neuron1': 32, 'neuron2': 128, 'neuron3': 64, 'neuron4': 32}\n",
            "-0.0070825908333063126,0.001168150774128979 with: {'neuron1': 32, 'neuron2': 128, 'neuron3': 64, 'neuron4': 64}\n",
            "-0.008876425493508578,0.0015439582843518175 with: {'neuron1': 32, 'neuron2': 128, 'neuron3': 64, 'neuron4': 128}\n",
            "-0.008315391931682825,0.0018498935663918928 with: {'neuron1': 32, 'neuron2': 128, 'neuron3': 128, 'neuron4': 32}\n",
            "-0.00824716230854392,0.002946973716244966 with: {'neuron1': 32, 'neuron2': 128, 'neuron3': 128, 'neuron4': 64}\n",
            "-0.009310024324804544,0.001179499985073909 with: {'neuron1': 32, 'neuron2': 128, 'neuron3': 128, 'neuron4': 128}\n"
          ]
        }
      ],
      "source": [
        "# Summarize the results\n",
        "print('Best : {}, using {}'.format(grid_result.best_score_,grid_result.best_params_))\n",
        "means = grid_result.cv_results_['mean_test_score']\n",
        "stds = grid_result.cv_results_['std_test_score']\n",
        "params = grid_result.cv_results_['params']\n",
        "for mean, stdev, param in zip(means, stds, params):\n",
        "  print('{},{} with: {}'.format(mean, stdev, param))"
      ]
    },
    {
      "cell_type": "code",
      "execution_count": null,
      "metadata": {
        "id": "r6HBPKxam0Y3"
      },
      "outputs": [],
      "source": [
        "#create a model with 3 hidden layers with best hyperparameters\n",
        "def create_model_three_hidden_layers():\n",
        "    model = Sequential()\n",
        "    model.add(Dense(8, input_dim=6, kernel_initializer='uniform', activation='relu'))\n",
        "    model.add(Dense(128, kernel_initializer='uniform', activation='relu'))\n",
        "    model.add(Dense(64, kernel_initializer='uniform', activation='relu'))\n",
        "    model.add(Dense(128, kernel_initializer='uniform', activation='relu'))\n",
        "    model.add(Dense(1))\n",
        "    \n",
        "    adam=Adam(lr=0.001)\n",
        "    model.compile(loss='mse', optimizer=adam, metrics=['mse', 'mae', 'mape'])\n",
        "    return model"
      ]
    },
    {
      "cell_type": "code",
      "execution_count": null,
      "metadata": {
        "colab": {
          "base_uri": "https://localhost:8080/"
        },
        "id": "3ckHRr6Am5AS",
        "outputId": "fb996e8d-7f83-44ee-817a-81bb8e7bb8d3"
      },
      "outputs": [
        {
          "output_type": "stream",
          "name": "stdout",
          "text": [
            "Here is the summary of our final model:\n",
            "Model: \"sequential_500\"\n",
            "_________________________________________________________________\n",
            " Layer (type)                Output Shape              Param #   \n",
            "=================================================================\n",
            " dense_2499 (Dense)          (None, 8)                 56        \n",
            "                                                                 \n",
            " dense_2500 (Dense)          (None, 128)               1152      \n",
            "                                                                 \n",
            " dense_2501 (Dense)          (None, 64)                8256      \n",
            "                                                                 \n",
            " dense_2502 (Dense)          (None, 128)               8320      \n",
            "                                                                 \n",
            " dense_2503 (Dense)          (None, 1)                 129       \n",
            "                                                                 \n",
            "=================================================================\n",
            "Total params: 17,913\n",
            "Trainable params: 17,913\n",
            "Non-trainable params: 0\n",
            "_________________________________________________________________\n",
            "CPU times: user 13.7 s, sys: 865 ms, total: 14.6 s\n",
            "Wall time: 11 s\n"
          ]
        }
      ],
      "source": [
        "%%time\n",
        "epochs=300\n",
        "batch_size=70\n",
        "\n",
        "final_model=create_model_three_hidden_layers()\n",
        "\n",
        "print(\"Here is the summary of our final model:\")\n",
        "final_model.summary()\n",
        "\n",
        "with tf.device('/GPU:0'):\n",
        "  final_model.fit(x_train,y_train, verbose = 0,batch_size = batch_size,epochs = epochs, shuffle=True)"
      ]
    },
    {
      "cell_type": "code",
      "execution_count": null,
      "metadata": {
        "colab": {
          "base_uri": "https://localhost:8080/"
        },
        "id": "1QvIEvoGm_c_",
        "outputId": "03162a0e-fd9d-4a6b-ac31-2adab7453c75"
      },
      "outputs": [
        {
          "output_type": "stream",
          "name": "stdout",
          "text": [
            "36/36 [==============================] - 0s 2ms/step - loss: 0.0074 - mse: 0.0074 - mae: 0.0626 - mape: 140.8266\n",
            "\n",
            " Results for final model : \n",
            " Training Loss: 0.007361690513789654 \n",
            " Training Mean Absolute Error: 0.007361690513789654 \n",
            " Training Mean Squared Error: 0.06260021030902863\n"
          ]
        }
      ],
      "source": [
        "loss, mae, mse, mape = final_model.evaluate(x_train, y_train)\n",
        "print('\\n', \"Results for final model :\", '\\n', \"Training Loss:\", loss, '\\n', \"Training Mean Absolute Error:\" , mae, '\\n', \"Training Mean Squared Error:\", mse)"
      ]
    },
    {
      "cell_type": "code",
      "execution_count": null,
      "metadata": {
        "colab": {
          "base_uri": "https://localhost:8080/"
        },
        "id": "sc03xoqtnC1e",
        "outputId": "66b128b2-f095-43aa-88e9-fcad4f76309f"
      },
      "outputs": [
        {
          "output_type": "stream",
          "name": "stdout",
          "text": [
            "12/12 [==============================] - 0s 2ms/step - loss: 0.0091 - mse: 0.0091 - mae: 0.0699 - mape: 102.5144\n",
            "\n",
            " Results for final model : \n",
            " Test Loss: 0.009123237803578377 \n",
            " Test Mean Absolute Error: 0.009123237803578377 \n",
            " Test Mean Squared Error: 0.06993135809898376\n"
          ]
        }
      ],
      "source": [
        "loss_t, mae_t, mse_t, mape_t = final_model.evaluate(x_test, y_test)\n",
        "print('\\n', \"Results for final model :\", '\\n', \"Test Loss:\", loss_t, '\\n', \"Test Mean Absolute Error:\" , mae_t, '\\n', \"Test Mean Squared Error:\", mse_t)"
      ]
    }
  ],
  "metadata": {
    "colab": {
      "provenance": []
    },
    "kernelspec": {
      "display_name": "Python 3",
      "name": "python3"
    },
    "language_info": {
      "name": "python"
    }
  },
  "nbformat": 4,
  "nbformat_minor": 0
}